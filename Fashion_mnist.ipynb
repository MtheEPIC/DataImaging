{
 "cells": [
  {
   "cell_type": "markdown",
   "metadata": {},
   "source": [
    "[![alt text](https://avatars1.githubusercontent.com/u/59831504?s=400&v=4 \"MtheEPIC User Icon\")](https://github.com/MtheEPIC/KaggleProj)"
   ]
  },
  {
   "cell_type": "markdown",
   "metadata": {},
   "source": [
    "# Import libs"
   ]
  },
  {
   "cell_type": "code",
   "execution_count": 1,
   "metadata": {},
   "outputs": [],
   "source": [
    "import numpy as np\n",
    "import pandas as pd\n",
    "import matplotlib.pyplot as plt\n",
    "import seaborn as sns\n",
    "# sns.set_style(\"ticks\", {\"xtick.major.size\": 8, \"ytick.major.size\": 8})\n",
    "sns.axes_style(\"whitegrid\")\n",
    "\n",
    "import scipy.integrate as integrate\n",
    "\n",
    "from sklearn.decomposition import PCA\n",
    "\n",
    "from sklearn.preprocessing import MinMaxScaler, binarize, label_binarize\n",
    "from sklearn.metrics import accuracy_score, f1_score, roc_curve, roc_auc_score, plot_roc_curve, confusion_matrix, classification_report, precision_recall_curve, average_precision_score  \n",
    "from sklearn.model_selection import cross_val_score, GridSearchCV, RandomizedSearchCV, cross_val_predict, cross_validate\n",
    "\n",
    "from sklearn.naive_bayes import MultinomialNB, GaussianNB\n",
    "from sklearn.ensemble import AdaBoostClassifier, RandomForestClassifier, GradientBoostingClassifier\n",
    "from sklearn.tree import DecisionTreeClassifier\n",
    "from sklearn.neighbors import KNeighborsClassifier\n",
    "from sklearn.linear_model import LogisticRegression\n",
    "from sklearn.svm import SVC, LinearSVC"
   ]
  },
  {
   "cell_type": "markdown",
   "metadata": {},
   "source": [
    "# Const And Global Vars"
   ]
  },
  {
   "cell_type": "code",
   "execution_count": 2,
   "metadata": {},
   "outputs": [],
   "source": [
    "CORES = 3\n",
    "CV_SPLIT = 10\n",
    "model_dict = {}\n",
    "CLASS_NAMES = {0: 'shirt', 1: 'trousers', 2: 'pullover', 3: 'dress', 4: 'coat', 5: 'sandals', 6: 'shirt', 7: 'sneaker', 8: 'bag', 9: 'ankle boots'}"
   ]
  },
  {
   "cell_type": "markdown",
   "metadata": {},
   "source": [
    "# Declare funcs"
   ]
  },
  {
   "cell_type": "code",
   "execution_count": 3,
   "metadata": {},
   "outputs": [],
   "source": [
    "def paint():\n",
    "    tmp = train_df.groupby('label').sum()\n",
    "    train_data = np.array(tmp, dtype='float32')\n",
    "\n",
    "    first_image = train_data[0]\n",
    "\n",
    "    first_image = np.array(first_image, dtype='uint8')\n",
    "    pixels = first_image.reshape((28, 28))\n",
    "    import numpy as np; np.random.seed(0)\n",
    "\n",
    "    import seaborn as sns; sns.set()\n",
    "\n",
    "    # uniform_data = np.random.rand(10, 12)\n",
    "    uniform_data = pixels#//500\n",
    "    ax = sns.heatmap(uniform_data)\n",
    "\n",
    "    uniform_data.max()"
   ]
  },
  {
   "cell_type": "code",
   "execution_count": 4,
   "metadata": {},
   "outputs": [],
   "source": [
    "def evaluate(true, pred, plot=False):\n",
    "#     model_accuracy = roc_auc_score(true, pred, multi_class=\"ovr\")\n",
    "#     null_accuracy = roc_auc_score(true, true.replace(1, 0))\n",
    "    \n",
    "#     print(\"Null AUC Score: {:.5f}\".format(null_accuracy))\n",
    "#     print(\"Model AUC Score: {:.5f}\".format(model_accuracy))\n",
    "\n",
    "#     if null_accuracy >= model_accuracy:\n",
    "#         print(\"The model isn't effective\")\n",
    "# #         return\n",
    "#     else:\n",
    "#         print(\"The model is better then a 'dumb' model\")\n",
    "    print(\"confusion_matrix:\\n\", confusion_matrix(true, pred))\n",
    "    print(classification_report(true, pred))\n",
    "    print('f1 score {}'.format(f1_score(true, pred, average='weighted')))\n",
    "    print('accuracy score {}'.format(accuracy_score(true, pred)))\n",
    "    if plot:\n",
    "        plot_scores(true, pred)"
   ]
  },
  {
   "cell_type": "code",
   "execution_count": 5,
   "metadata": {},
   "outputs": [],
   "source": [
    "def plot_scores(true, pred):\n",
    "    from sklearn.metrics import precision_score, recall_score, f1_score\n",
    "    labels = np.unique(true)\n",
    "\n",
    "    ytest = label_binarize(true, classes=labels)\n",
    "    ypreds = label_binarize(pred, classes=labels)\n",
    "\n",
    "    n_classes = len(labels)\n",
    "    f1_scores = dict()\n",
    "    accuracy_scores = dict()\n",
    "    for i in range(n_classes):\n",
    "        f1_scores[i] = f1_score(ytest[:, i], ypreds[:, i], average='weighted')\n",
    "        accuracy_scores[i] = accuracy_score(ytest[:, i], ypreds[:, i])\n",
    "        plt.scatter(f1_scores[i], accuracy_scores[i], lw=2, label=CLASS_NAMES[i])\n",
    "\n",
    "    x = list(f1_scores.values())\n",
    "    y = list(accuracy_scores.values())\n",
    "    z = np.polyfit(x, y, 1)\n",
    "    p = np.poly1d(z)\n",
    "    plt.plot(x, p(x), \"r--\")\n",
    "    print(\"y=%.6fx+(%.6f)\"%(z[0],z[1]))\n",
    "#     integrate_score = (integrate.quad(lambda x: x-(z[0]*x+z[1]), 0, 1)[0])\n",
    "#     print('integrate score is {}'.format(integrate_score))\n",
    "    \n",
    "    plt.xlabel(\"f1_scores\")\n",
    "    plt.ylabel(\"accuracy_scores\")\n",
    "    plt.legend(loc=\"best\")\n",
    "    plt.title(\"f1_scores vs. accuracy_scores\")\n",
    "    plt.show()\n",
    "    print(labels)\n",
    "    print(accuracy_scores)\n",
    "    print(f1_scores)\n",
    "    return f1_scores"
   ]
  },
  {
   "cell_type": "code",
   "execution_count": 6,
   "metadata": {},
   "outputs": [],
   "source": [
    "def score_models(model, model_scores):\n",
    "    model_dict.update({model: model_scores})\n",
    "\n",
    "    print(\"Accuracy: {:.2f} (+/- {:.2f})\".format(model_scores['test_score'].mean(), model_scores['test_score'].std() * 2))\n",
    "    print('Train time: {:.2f} seconds (+/- {:.2f}) for a total of {:.2f} seconds'.format(model_scores['fit_time'].mean(), model_scores['fit_time'].std() * 2, model_scores['fit_time'].sum()))\n",
    "    print('Test time: {:.2f} seconds (+/- {:.2f}) for a total of {:.2f} seconds'.format(model_scores['score_time'].mean(), model_scores['score_time'].std() * 2, model_scores['score_time'].sum()))"
   ]
  },
  {
   "cell_type": "code",
   "execution_count": 7,
   "metadata": {},
   "outputs": [],
   "source": [
    "def find_best_model():\n",
    "    max_score = 0\n",
    "    best_key = None\n",
    "    for key in model_dict:\n",
    "        model_score=model_dict[key]['test_score'].mean()\n",
    "#         model_score = model_dict[key].mean()\n",
    "#         try:   \n",
    "#             model_score=model_dict[key]['test_score'].mean()\n",
    "#         except IndexError: # remove this\n",
    "#             model_score=model_dict[key].mean()\n",
    "        if max_score < model_score:\n",
    "            max_score = model_score\n",
    "            best_key = key\n",
    "    best_model_name = best_key\n",
    "    print('the best model is {}'.format(best_key).split('(')[0], end = ' ')\n",
    "    print('with the score of {}'.format(max_score))\n",
    "    return best_key, max_score"
   ]
  },
  {
   "cell_type": "code",
   "execution_count": 8,
   "metadata": {},
   "outputs": [],
   "source": [
    "def cv_mean_model(model_estimators, true, X_pred):\n",
    "    size = len(true)\n",
    "    split = size//CV_SPLIT\n",
    "    X_cv_split = np.arange(0, size+1, split)\n",
    "\n",
    "    pred_2d = np.zeros((CV_SPLIT, size))\n",
    "    for idx, estimator in enumerate(model_estimators):\n",
    "        pred = estimator.predict(X_pred)\n",
    "        pred_2d[idx] = pred\n",
    "        \n",
    "    predictions = pred_2d[0].copy()\n",
    "    tmp = np.rot90(pred_2d) \n",
    "    \n",
    "    for idx in range(size):\n",
    "        u, indices = np.unique(tmp[idx], return_index=True)\n",
    "        predictions[idx] = u[0]\n",
    "    evaluate(true, np.flip(predictions), plot=True)"
   ]
  },
  {
   "cell_type": "markdown",
   "metadata": {},
   "source": [
    "---\n",
    "# Data preparation"
   ]
  },
  {
   "cell_type": "markdown",
   "metadata": {},
   "source": [
    "## load data"
   ]
  },
  {
   "cell_type": "code",
   "execution_count": 9,
   "metadata": {},
   "outputs": [],
   "source": [
    "train_df = pd.read_csv('data/fashion-mnist_train.csv')\n",
    "test_df = pd.read_csv('data/fashion-mnist_test.csv')"
   ]
  },
  {
   "cell_type": "code",
   "execution_count": 10,
   "metadata": {},
   "outputs": [
    {
     "data": {
      "text/plain": [
       "array([0], dtype=int64)"
      ]
     },
     "execution_count": 10,
     "metadata": {},
     "output_type": "execute_result"
    }
   ],
   "source": [
    "train_df.head()\n",
    "train_df.isnull().sum().unique()"
   ]
  },
  {
   "cell_type": "markdown",
   "metadata": {},
   "source": [
    "0 is t shirt\\\n",
    "1 is trousers\\\n",
    "2 is pullover\\\n",
    "3 is dress\\\n",
    "4 is coat\\\n",
    "5 is sandals\\\n",
    "6 is shirt\\\n",
    "7 is sneaker\\\n",
    "8 is bag\\\n",
    "9 is ankle boots"
   ]
  },
  {
   "cell_type": "code",
   "execution_count": 11,
   "metadata": {},
   "outputs": [
    {
     "name": "stdout",
     "output_type": "stream",
     "text": [
      "<class 'pandas.core.frame.DataFrame'>\n",
      "RangeIndex: 60000 entries, 0 to 59999\n",
      "Columns: 785 entries, label to pixel784\n",
      "dtypes: int64(785)\n",
      "memory usage: 359.3 MB\n",
      "<class 'pandas.core.frame.DataFrame'>\n",
      "RangeIndex: 10000 entries, 0 to 9999\n",
      "Columns: 785 entries, label to pixel784\n",
      "dtypes: int64(785)\n",
      "memory usage: 59.9 MB\n"
     ]
    }
   ],
   "source": [
    "train_df.info()\n",
    "test_df.info()"
   ]
  },
  {
   "cell_type": "code",
   "execution_count": 12,
   "metadata": {},
   "outputs": [
    {
     "data": {
      "text/html": [
       "<div>\n",
       "<style scoped>\n",
       "    .dataframe tbody tr th:only-of-type {\n",
       "        vertical-align: middle;\n",
       "    }\n",
       "\n",
       "    .dataframe tbody tr th {\n",
       "        vertical-align: top;\n",
       "    }\n",
       "\n",
       "    .dataframe thead th {\n",
       "        text-align: right;\n",
       "    }\n",
       "</style>\n",
       "<table border=\"1\" class=\"dataframe\">\n",
       "  <thead>\n",
       "    <tr style=\"text-align: right;\">\n",
       "      <th></th>\n",
       "      <th>label</th>\n",
       "      <th>pixel1</th>\n",
       "      <th>pixel2</th>\n",
       "      <th>pixel3</th>\n",
       "      <th>pixel4</th>\n",
       "      <th>pixel5</th>\n",
       "      <th>pixel6</th>\n",
       "      <th>pixel7</th>\n",
       "      <th>pixel8</th>\n",
       "      <th>pixel9</th>\n",
       "      <th>...</th>\n",
       "      <th>pixel775</th>\n",
       "      <th>pixel776</th>\n",
       "      <th>pixel777</th>\n",
       "      <th>pixel778</th>\n",
       "      <th>pixel779</th>\n",
       "      <th>pixel780</th>\n",
       "      <th>pixel781</th>\n",
       "      <th>pixel782</th>\n",
       "      <th>pixel783</th>\n",
       "      <th>pixel784</th>\n",
       "    </tr>\n",
       "  </thead>\n",
       "  <tbody>\n",
       "    <tr>\n",
       "      <th>count</th>\n",
       "      <td>60000.000000</td>\n",
       "      <td>60000.000000</td>\n",
       "      <td>60000.000000</td>\n",
       "      <td>60000.000000</td>\n",
       "      <td>60000.000000</td>\n",
       "      <td>60000.000000</td>\n",
       "      <td>60000.000000</td>\n",
       "      <td>60000.000000</td>\n",
       "      <td>60000.000000</td>\n",
       "      <td>60000.000000</td>\n",
       "      <td>...</td>\n",
       "      <td>60000.000000</td>\n",
       "      <td>60000.000000</td>\n",
       "      <td>60000.000000</td>\n",
       "      <td>60000.000000</td>\n",
       "      <td>60000.000000</td>\n",
       "      <td>60000.000000</td>\n",
       "      <td>60000.000000</td>\n",
       "      <td>60000.000000</td>\n",
       "      <td>60000.000000</td>\n",
       "      <td>60000.00000</td>\n",
       "    </tr>\n",
       "    <tr>\n",
       "      <th>mean</th>\n",
       "      <td>4.500000</td>\n",
       "      <td>0.000900</td>\n",
       "      <td>0.006150</td>\n",
       "      <td>0.035333</td>\n",
       "      <td>0.101933</td>\n",
       "      <td>0.247967</td>\n",
       "      <td>0.411467</td>\n",
       "      <td>0.805767</td>\n",
       "      <td>2.198283</td>\n",
       "      <td>5.682000</td>\n",
       "      <td>...</td>\n",
       "      <td>34.625400</td>\n",
       "      <td>23.300683</td>\n",
       "      <td>16.588267</td>\n",
       "      <td>17.869433</td>\n",
       "      <td>22.814817</td>\n",
       "      <td>17.911483</td>\n",
       "      <td>8.520633</td>\n",
       "      <td>2.753300</td>\n",
       "      <td>0.855517</td>\n",
       "      <td>0.07025</td>\n",
       "    </tr>\n",
       "    <tr>\n",
       "      <th>std</th>\n",
       "      <td>2.872305</td>\n",
       "      <td>0.094689</td>\n",
       "      <td>0.271011</td>\n",
       "      <td>1.222324</td>\n",
       "      <td>2.452871</td>\n",
       "      <td>4.306912</td>\n",
       "      <td>5.836188</td>\n",
       "      <td>8.215169</td>\n",
       "      <td>14.093378</td>\n",
       "      <td>23.819481</td>\n",
       "      <td>...</td>\n",
       "      <td>57.545242</td>\n",
       "      <td>48.854427</td>\n",
       "      <td>41.979611</td>\n",
       "      <td>43.966032</td>\n",
       "      <td>51.830477</td>\n",
       "      <td>45.149388</td>\n",
       "      <td>29.614859</td>\n",
       "      <td>17.397652</td>\n",
       "      <td>9.356960</td>\n",
       "      <td>2.12587</td>\n",
       "    </tr>\n",
       "    <tr>\n",
       "      <th>min</th>\n",
       "      <td>0.000000</td>\n",
       "      <td>0.000000</td>\n",
       "      <td>0.000000</td>\n",
       "      <td>0.000000</td>\n",
       "      <td>0.000000</td>\n",
       "      <td>0.000000</td>\n",
       "      <td>0.000000</td>\n",
       "      <td>0.000000</td>\n",
       "      <td>0.000000</td>\n",
       "      <td>0.000000</td>\n",
       "      <td>...</td>\n",
       "      <td>0.000000</td>\n",
       "      <td>0.000000</td>\n",
       "      <td>0.000000</td>\n",
       "      <td>0.000000</td>\n",
       "      <td>0.000000</td>\n",
       "      <td>0.000000</td>\n",
       "      <td>0.000000</td>\n",
       "      <td>0.000000</td>\n",
       "      <td>0.000000</td>\n",
       "      <td>0.00000</td>\n",
       "    </tr>\n",
       "    <tr>\n",
       "      <th>25%</th>\n",
       "      <td>2.000000</td>\n",
       "      <td>0.000000</td>\n",
       "      <td>0.000000</td>\n",
       "      <td>0.000000</td>\n",
       "      <td>0.000000</td>\n",
       "      <td>0.000000</td>\n",
       "      <td>0.000000</td>\n",
       "      <td>0.000000</td>\n",
       "      <td>0.000000</td>\n",
       "      <td>0.000000</td>\n",
       "      <td>...</td>\n",
       "      <td>0.000000</td>\n",
       "      <td>0.000000</td>\n",
       "      <td>0.000000</td>\n",
       "      <td>0.000000</td>\n",
       "      <td>0.000000</td>\n",
       "      <td>0.000000</td>\n",
       "      <td>0.000000</td>\n",
       "      <td>0.000000</td>\n",
       "      <td>0.000000</td>\n",
       "      <td>0.00000</td>\n",
       "    </tr>\n",
       "    <tr>\n",
       "      <th>50%</th>\n",
       "      <td>4.500000</td>\n",
       "      <td>0.000000</td>\n",
       "      <td>0.000000</td>\n",
       "      <td>0.000000</td>\n",
       "      <td>0.000000</td>\n",
       "      <td>0.000000</td>\n",
       "      <td>0.000000</td>\n",
       "      <td>0.000000</td>\n",
       "      <td>0.000000</td>\n",
       "      <td>0.000000</td>\n",
       "      <td>...</td>\n",
       "      <td>0.000000</td>\n",
       "      <td>0.000000</td>\n",
       "      <td>0.000000</td>\n",
       "      <td>0.000000</td>\n",
       "      <td>0.000000</td>\n",
       "      <td>0.000000</td>\n",
       "      <td>0.000000</td>\n",
       "      <td>0.000000</td>\n",
       "      <td>0.000000</td>\n",
       "      <td>0.00000</td>\n",
       "    </tr>\n",
       "    <tr>\n",
       "      <th>75%</th>\n",
       "      <td>7.000000</td>\n",
       "      <td>0.000000</td>\n",
       "      <td>0.000000</td>\n",
       "      <td>0.000000</td>\n",
       "      <td>0.000000</td>\n",
       "      <td>0.000000</td>\n",
       "      <td>0.000000</td>\n",
       "      <td>0.000000</td>\n",
       "      <td>0.000000</td>\n",
       "      <td>0.000000</td>\n",
       "      <td>...</td>\n",
       "      <td>58.000000</td>\n",
       "      <td>9.000000</td>\n",
       "      <td>0.000000</td>\n",
       "      <td>0.000000</td>\n",
       "      <td>0.000000</td>\n",
       "      <td>0.000000</td>\n",
       "      <td>0.000000</td>\n",
       "      <td>0.000000</td>\n",
       "      <td>0.000000</td>\n",
       "      <td>0.00000</td>\n",
       "    </tr>\n",
       "    <tr>\n",
       "      <th>max</th>\n",
       "      <td>9.000000</td>\n",
       "      <td>16.000000</td>\n",
       "      <td>36.000000</td>\n",
       "      <td>226.000000</td>\n",
       "      <td>164.000000</td>\n",
       "      <td>227.000000</td>\n",
       "      <td>230.000000</td>\n",
       "      <td>224.000000</td>\n",
       "      <td>255.000000</td>\n",
       "      <td>254.000000</td>\n",
       "      <td>...</td>\n",
       "      <td>255.000000</td>\n",
       "      <td>255.000000</td>\n",
       "      <td>255.000000</td>\n",
       "      <td>255.000000</td>\n",
       "      <td>255.000000</td>\n",
       "      <td>255.000000</td>\n",
       "      <td>255.000000</td>\n",
       "      <td>255.000000</td>\n",
       "      <td>255.000000</td>\n",
       "      <td>170.00000</td>\n",
       "    </tr>\n",
       "  </tbody>\n",
       "</table>\n",
       "<p>8 rows × 785 columns</p>\n",
       "</div>"
      ],
      "text/plain": [
       "              label        pixel1        pixel2        pixel3        pixel4  \\\n",
       "count  60000.000000  60000.000000  60000.000000  60000.000000  60000.000000   \n",
       "mean       4.500000      0.000900      0.006150      0.035333      0.101933   \n",
       "std        2.872305      0.094689      0.271011      1.222324      2.452871   \n",
       "min        0.000000      0.000000      0.000000      0.000000      0.000000   \n",
       "25%        2.000000      0.000000      0.000000      0.000000      0.000000   \n",
       "50%        4.500000      0.000000      0.000000      0.000000      0.000000   \n",
       "75%        7.000000      0.000000      0.000000      0.000000      0.000000   \n",
       "max        9.000000     16.000000     36.000000    226.000000    164.000000   \n",
       "\n",
       "             pixel5        pixel6        pixel7        pixel8        pixel9  \\\n",
       "count  60000.000000  60000.000000  60000.000000  60000.000000  60000.000000   \n",
       "mean       0.247967      0.411467      0.805767      2.198283      5.682000   \n",
       "std        4.306912      5.836188      8.215169     14.093378     23.819481   \n",
       "min        0.000000      0.000000      0.000000      0.000000      0.000000   \n",
       "25%        0.000000      0.000000      0.000000      0.000000      0.000000   \n",
       "50%        0.000000      0.000000      0.000000      0.000000      0.000000   \n",
       "75%        0.000000      0.000000      0.000000      0.000000      0.000000   \n",
       "max      227.000000    230.000000    224.000000    255.000000    254.000000   \n",
       "\n",
       "       ...      pixel775      pixel776      pixel777      pixel778  \\\n",
       "count  ...  60000.000000  60000.000000  60000.000000  60000.000000   \n",
       "mean   ...     34.625400     23.300683     16.588267     17.869433   \n",
       "std    ...     57.545242     48.854427     41.979611     43.966032   \n",
       "min    ...      0.000000      0.000000      0.000000      0.000000   \n",
       "25%    ...      0.000000      0.000000      0.000000      0.000000   \n",
       "50%    ...      0.000000      0.000000      0.000000      0.000000   \n",
       "75%    ...     58.000000      9.000000      0.000000      0.000000   \n",
       "max    ...    255.000000    255.000000    255.000000    255.000000   \n",
       "\n",
       "           pixel779      pixel780      pixel781      pixel782      pixel783  \\\n",
       "count  60000.000000  60000.000000  60000.000000  60000.000000  60000.000000   \n",
       "mean      22.814817     17.911483      8.520633      2.753300      0.855517   \n",
       "std       51.830477     45.149388     29.614859     17.397652      9.356960   \n",
       "min        0.000000      0.000000      0.000000      0.000000      0.000000   \n",
       "25%        0.000000      0.000000      0.000000      0.000000      0.000000   \n",
       "50%        0.000000      0.000000      0.000000      0.000000      0.000000   \n",
       "75%        0.000000      0.000000      0.000000      0.000000      0.000000   \n",
       "max      255.000000    255.000000    255.000000    255.000000    255.000000   \n",
       "\n",
       "          pixel784  \n",
       "count  60000.00000  \n",
       "mean       0.07025  \n",
       "std        2.12587  \n",
       "min        0.00000  \n",
       "25%        0.00000  \n",
       "50%        0.00000  \n",
       "75%        0.00000  \n",
       "max      170.00000  \n",
       "\n",
       "[8 rows x 785 columns]"
      ]
     },
     "execution_count": 12,
     "metadata": {},
     "output_type": "execute_result"
    }
   ],
   "source": [
    "train_df.describe()"
   ]
  },
  {
   "cell_type": "markdown",
   "metadata": {},
   "source": [
    "## split the training data into train and validate"
   ]
  },
  {
   "cell_type": "code",
   "execution_count": 13,
   "metadata": {},
   "outputs": [],
   "source": [
    "# train_data = np.array(train_df, dtype='float32')\n",
    "# test_data = np.array(test_df, dtype='float32')\n",
    "\n",
    "X_train = train_df.drop('label', axis=1)\n",
    "y_train = train_df['label']\n",
    "\n",
    "X_test = test_df.drop('label', axis=1)\n",
    "y_test = test_df['label']"
   ]
  },
  {
   "cell_type": "code",
   "execution_count": 14,
   "metadata": {},
   "outputs": [
    {
     "data": {
      "image/png": "[encoded data removed]",
      "text/plain": [
       "<Figure size 432x288 with 1 Axes>"
      ]
     },
     "metadata": {
      "needs_background": "light"
     },
     "output_type": "display_data"
    }
   ],
   "source": [
    "first_image = X_train.iloc[0]\n",
    "\n",
    "first_image = np.array(first_image, dtype='uint8')\n",
    "pixels = first_image.reshape((28, 28))\n",
    "plt.imshow(pixels, cmap='gray')\n",
    "plt.show()"
   ]
  },
  {
   "cell_type": "code",
   "execution_count": 15,
   "metadata": {},
   "outputs": [
    {
     "data": {
      "image/png": "[encoded data removed]",
      "text/plain": [
       "<Figure size 432x288 with 1 Axes>"
      ]
     },
     "metadata": {
      "needs_background": "light"
     },
     "output_type": "display_data"
    }
   ],
   "source": [
    "pca = PCA(random_state=0)\n",
    "pca.fit(X_train)\n",
    "cumsum = np.cumsum(pca.explained_variance_ratio_)\n",
    "x = np.arange(1, len(cumsum)+1)\n",
    "plt.plot(x, cumsum)\n",
    "plt.grid(True)\n",
    "plt.title('Variance as Dimensions Functions')\n",
    "plt.xlabel('Dimensions')\n",
    "plt.ylabel('Variance')\n",
    "plt.show()"
   ]
  },
  {
   "cell_type": "code",
   "execution_count": 16,
   "metadata": {},
   "outputs": [
    {
     "name": "stdout",
     "output_type": "stream",
     "text": [
      "the number of vectors after pca is 84\n"
     ]
    }
   ],
   "source": [
    "pca = PCA(random_state=0, n_components=0.90)\n",
    "pca.fit(X_train)\n",
    "X_train_pca = pca.transform(X_train)\n",
    "X_test_pca = pca.transform(X_test)\n",
    "d = len(pca.singular_values_)\n",
    "print('the number of vectors after pca is {}'.format(d))"
   ]
  },
  {
   "cell_type": "markdown",
   "metadata": {},
   "source": [
    "---\n",
    "# Models"
   ]
  },
  {
   "cell_type": "markdown",
   "metadata": {},
   "source": [
    "## Run The Models"
   ]
  },
  {
   "cell_type": "markdown",
   "metadata": {},
   "source": [
    "### Naive Bayes"
   ]
  },
  {
   "cell_type": "code",
   "execution_count": 17,
   "metadata": {},
   "outputs": [
    {
     "name": "stdout",
     "output_type": "stream",
     "text": [
      "Accuracy: 0.77 (+/- 0.01)\n",
      "Train time: 0.16 seconds (+/- 0.04) for a total of 1.64 seconds\n",
      "Test time: 0.09 seconds (+/- 0.02) for a total of 0.90 seconds\n",
      "confusion_matrix:\n",
      " [[4630    1  129  394   21   34  387    0  402    2]\n",
      " [  40 5469  105  239   11    9   63    0   64    0]\n",
      " [ 126    0 3904   40  743   43  825    0  319    0]\n",
      " [ 419   43   69 4836  190   27  284    0  132    0]\n",
      " [  43    3  678  309 3956   13  826    1  171    0]\n",
      " [  16    0    1    2    1 4706  117  864  202   91]\n",
      " [1068    2  730  215  478   30 2996    0  481    0]\n",
      " [   4    0    0    0    0  332   17 5262   14  371]\n",
      " [  67    0   45   51   55  134  217  164 5260    7]\n",
      " [   4    0    0    0    0  115   33  422   76 5350]]\n",
      "              precision    recall  f1-score   support\n",
      "\n",
      "           0       0.72      0.77      0.75      6000\n",
      "           1       0.99      0.91      0.95      6000\n",
      "           2       0.69      0.65      0.67      6000\n",
      "           3       0.79      0.81      0.80      6000\n",
      "           4       0.73      0.66      0.69      6000\n",
      "           5       0.86      0.78      0.82      6000\n",
      "           6       0.52      0.50      0.51      6000\n",
      "           7       0.78      0.88      0.83      6000\n",
      "           8       0.74      0.88      0.80      6000\n",
      "           9       0.92      0.89      0.91      6000\n",
      "\n",
      "    accuracy                           0.77     60000\n",
      "   macro avg       0.77      0.77      0.77     60000\n",
      "weighted avg       0.77      0.77      0.77     60000\n",
      "\n",
      "f1 score 0.7722515535369193\n",
      "accuracy score 0.7728166666666667\n",
      "y=0.987013x+(0.012452)\n"
     ]
    },
    {
     "data": {
      "image/png": "[encoded data removed]",
      "text/plain": [
       "<Figure size 432x288 with 1 Axes>"
      ]
     },
     "metadata": {
      "needs_background": "light"
     },
     "output_type": "display_data"
    },
    {
     "name": "stdout",
     "output_type": "stream",
     "text": [
      "[0 1 2 3 4 5 6 7 8 9]\n",
      "{0: 0.9473833333333334, 1: 0.9903333333333333, 2: 0.9357833333333333, 3: 0.9597666666666667, 4: 0.94095, 5: 0.96615, 6: 0.9037833333333334, 7: 0.9635166666666667, 8: 0.95665, 9: 0.9813166666666666}\n",
      "{0: 0.9481648727287624, 1: 0.9901525453538266, 2: 0.9349503726538761, 3: 0.959893778655714, 4: 0.9396935188050166, 5: 0.9654129991578263, 6: 0.9029268462865043, 7: 0.9644185090769607, 8: 0.9582744776333755, 9: 0.9811906674065498}\n"
     ]
    }
   ],
   "source": [
    "gnb = GaussianNB()\n",
    "gnb_scores = cross_validate(gnb, X_train_pca, y_train, cv=CV_SPLIT, return_estimator=True)\n",
    "score_models(gnb, gnb_scores)\n",
    "cv_mean_model(gnb_scores['estimator'], y_train, X_train_pca)"
   ]
  },
  {
   "cell_type": "markdown",
   "metadata": {},
   "source": [
    "### SVM"
   ]
  },
  {
   "cell_type": "markdown",
   "metadata": {},
   "source": [
    "#### Liniar SVC"
   ]
  },
  {
   "cell_type": "code",
   "execution_count": 18,
   "metadata": {},
   "outputs": [],
   "source": [
    "# lsvc = LinearSVC(random_state=0)\n",
    "# lsvc_scores = cross_validate(lsvc, X_train_pca, y_train, cv=CV_SPLIT, return_estimator=True, n_jobs=CORES)\n",
    "# score_models(lsvc, lsvc_scores)\n",
    "# cv_mean_model(lsvc_scores['estimator'], y_train, X_train_pca)"
   ]
  },
  {
   "cell_type": "markdown",
   "metadata": {},
   "source": [
    "#### SVC"
   ]
  },
  {
   "cell_type": "code",
   "execution_count": 19,
   "metadata": {},
   "outputs": [
    {
     "name": "stdout",
     "output_type": "stream",
     "text": [
      "Accuracy: 0.79 (+/- 0.02)\n",
      "Train time: 82.82 seconds (+/- 24.21) for a total of 828.22 seconds\n",
      "Test time: 12.27 seconds (+/- 4.06) for a total of 122.74 seconds\n",
      "confusion_matrix:\n",
      " [[5349    4   53  153    5    3  409    0   23    1]\n",
      " [  39 5847    7  101    3    0    1    0    2    0]\n",
      " [ 448    5 5136   37  179    1  187    0    7    0]\n",
      " [ 264   48  307 5303   13    0   55    0   10    0]\n",
      " [  49   15 3129  547 1854    0  397    0    9    0]\n",
      " [   3    1    0    2    0 5707    0  246   13   28]\n",
      " [1585    9 1084  166  840    1 2279    0   36    0]\n",
      " [   0    0    0    0    0   98    0 5762    5  135]\n",
      " [  34    1   48   27   11   11   20   17 5831    0]\n",
      " [   2    0    1    1    0  102    0  190    3 5701]]\n",
      "              precision    recall  f1-score   support\n",
      "\n",
      "           0       0.69      0.89      0.78      6000\n",
      "           1       0.99      0.97      0.98      6000\n",
      "           2       0.53      0.86      0.65      6000\n",
      "           3       0.84      0.88      0.86      6000\n",
      "           4       0.64      0.31      0.42      6000\n",
      "           5       0.96      0.95      0.96      6000\n",
      "           6       0.68      0.38      0.49      6000\n",
      "           7       0.93      0.96      0.94      6000\n",
      "           8       0.98      0.97      0.98      6000\n",
      "           9       0.97      0.95      0.96      6000\n",
      "\n",
      "    accuracy                           0.81     60000\n",
      "   macro avg       0.82      0.81      0.80     60000\n",
      "weighted avg       0.82      0.81      0.80     60000\n",
      "\n",
      "f1 score 0.801071754311723\n",
      "accuracy score 0.8128166666666666\n",
      "y=0.929019x+(0.069412)\n"
     ]
    },
    {
     "data": {
      "image/png": "[encoded data removed]",
      "text/plain": [
       "<Figure size 432x288 with 1 Axes>"
      ]
     },
     "metadata": {
      "needs_background": "light"
     },
     "output_type": "display_data"
    },
    {
     "name": "stdout",
     "output_type": "stream",
     "text": [
      "[0 1 2 3 4 5 6 7 8 9]\n",
      "{0: 0.94875, 1: 0.9960666666666667, 2: 0.90845, 3: 0.97115, 4: 0.9133833333333333, 5: 0.9915166666666667, 6: 0.9201666666666667, 7: 0.9884833333333334, 8: 0.9953833333333333, 9: 0.9922833333333333}\n",
      "{0: 0.9516210109650048, 1: 0.9960564009961878, 2: 0.9177285863746456, 3: 0.9714988839981848, 4: 0.8995377235931662, 5: 0.9914922955296103, 6: 0.9097991102057836, 7: 0.9885732013277976, 8: 0.9953728423977064, 9: 0.9922442501024584}\n"
     ]
    }
   ],
   "source": [
    "svc = SVC(random_state=0, max_iter=500)\n",
    "svc_scores = cross_validate(svc, X_train_pca, y_train, cv=CV_SPLIT, return_estimator=True, n_jobs=CORES)\n",
    "score_models(svc, svc_scores)\n",
    "cv_mean_model(svc_scores['estimator'], y_train, X_train_pca)"
   ]
  },
  {
   "cell_type": "markdown",
   "metadata": {},
   "source": [
    "### Logistic Regression"
   ]
  },
  {
   "cell_type": "code",
   "execution_count": 20,
   "metadata": {},
   "outputs": [
    {
     "name": "stdout",
     "output_type": "stream",
     "text": [
      "Accuracy: 0.84 (+/- 0.01)\n",
      "Train time: 13.45 seconds (+/- 4.12) for a total of 134.54 seconds\n",
      "Test time: 0.00 seconds (+/- 0.00) for a total of 0.05 seconds\n",
      "confusion_matrix:\n",
      " [[5099   21   99  268   37   15  405    7   46    3]\n",
      " [  26 5781   25  130   13    0   21    2    2    0]\n",
      " [ 109   29 4507   63  741   15  492    5   39    0]\n",
      " [ 253   86   78 5206  191    2  159    3   18    4]\n",
      " [  15   15  603  259 4562    5  515    1   25    0]\n",
      " [   6    1    1    3    1 5625    2  261   26   74]\n",
      " [ 992   19  728  203  666    9 3279    5   96    3]\n",
      " [   0    0    0    0    0  262    1 5524   13  200]\n",
      " [  40    8   47   60   25   59  125   43 5582   11]\n",
      " [   0    1    0    2    0  115    1  238    4 5639]]\n",
      "              precision    recall  f1-score   support\n",
      "\n",
      "           0       0.78      0.85      0.81      6000\n",
      "           1       0.97      0.96      0.97      6000\n",
      "           2       0.74      0.75      0.75      6000\n",
      "           3       0.84      0.87      0.85      6000\n",
      "           4       0.73      0.76      0.75      6000\n",
      "           5       0.92      0.94      0.93      6000\n",
      "           6       0.66      0.55      0.60      6000\n",
      "           7       0.91      0.92      0.91      6000\n",
      "           8       0.95      0.93      0.94      6000\n",
      "           9       0.95      0.94      0.95      6000\n",
      "\n",
      "    accuracy                           0.85     60000\n",
      "   macro avg       0.85      0.85      0.85     60000\n",
      "weighted avg       0.85      0.85      0.85     60000\n",
      "\n",
      "f1 score 0.8451454705863185\n",
      "accuracy score 0.8467333333333333\n",
      "y=0.974817x+(0.024553)\n"
     ]
    },
    {
     "data": {
      "image/png": "[encoded data removed]",
      "text/plain": [
       "<Figure size 432x288 with 1 Axes>"
      ]
     },
     "metadata": {
      "needs_background": "light"
     },
     "output_type": "display_data"
    },
    {
     "name": "stdout",
     "output_type": "stream",
     "text": [
      "[0 1 2 3 4 5 6 7 8 9]\n",
      "{0: 0.9609666666666666, 1: 0.99335, 2: 0.9487666666666666, 3: 0.9703, 4: 0.9481333333333334, 5: 0.9857166666666667, 6: 0.9259666666666667, 7: 0.98265, 8: 0.98855, 9: 0.9890666666666666}\n",
      "{0: 0.9617090235868336, 1: 0.9933403587761912, 2: 0.9489322647828494, 3: 0.970509532533079, 4: 0.948576725339508, 5: 0.9857727011768266, 6: 0.9229411175979984, 7: 0.9827067111725316, 8: 0.988485908339927, 9: 0.9890397724192104}\n"
     ]
    }
   ],
   "source": [
    "lr = LogisticRegression(random_state=0, n_jobs=CORES)#, solver='lbfgs', penalty='l2')\n",
    "lr_scores = cross_validate(lr, X_train_pca, y_train, cv=CV_SPLIT, return_estimator=True, n_jobs=CORES)\n",
    "score_models(lr, lr_scores)\n",
    "cv_mean_model(lr_scores['estimator'], y_train, X_train_pca)"
   ]
  },
  {
   "cell_type": "markdown",
   "metadata": {},
   "source": [
    "### Decision Tree"
   ]
  },
  {
   "cell_type": "code",
   "execution_count": 21,
   "metadata": {},
   "outputs": [
    {
     "name": "stdout",
     "output_type": "stream",
     "text": [
      "Accuracy: 0.77 (+/- 0.01)\n",
      "Train time: 12.32 seconds (+/- 0.55) for a total of 123.23 seconds\n",
      "Test time: 0.00 seconds (+/- 0.00) for a total of 0.05 seconds\n",
      "confusion_matrix:\n",
      " [[6000    0    0    0    0    0    0    0    0    0]\n",
      " [  69 5931    0    0    0    0    0    0    0    0]\n",
      " [ 139   27 5834    0    0    0    0    0    0    0]\n",
      " [ 346  181  107 5366    0    0    0    0    0    0]\n",
      " [  86   33  857  312 4712    0    0    0    0    0]\n",
      " [  18    2   17    8   13 5942    0    0    0    0]\n",
      " [ 921   50  813  273  752   13 3178    0    0    0]\n",
      " [   1    1    3    1    3  474    2 5515    0    0]\n",
      " [  77   13  123   74   99  112  179   39 5284    0]\n",
      " [   4    2    1    2    0  218    5  402   24 5342]]\n",
      "              precision    recall  f1-score   support\n",
      "\n",
      "           0       0.78      1.00      0.88      6000\n",
      "           1       0.95      0.99      0.97      6000\n",
      "           2       0.75      0.97      0.85      6000\n",
      "           3       0.89      0.89      0.89      6000\n",
      "           4       0.84      0.79      0.81      6000\n",
      "           5       0.88      0.99      0.93      6000\n",
      "           6       0.94      0.53      0.68      6000\n",
      "           7       0.93      0.92      0.92      6000\n",
      "           8       1.00      0.88      0.93      6000\n",
      "           9       1.00      0.89      0.94      6000\n",
      "\n",
      "    accuracy                           0.89     60000\n",
      "   macro avg       0.90      0.89      0.88     60000\n",
      "weighted avg       0.90      0.89      0.88     60000\n",
      "\n",
      "f1 score 0.8810634776743839\n",
      "accuracy score 0.8850666666666667\n",
      "y=0.905215x+(0.092953)\n"
     ]
    },
    {
     "data": {
      "image/png": "[encoded data removed]",
      "text/plain": [
       "<Figure size 432x288 with 1 Axes>"
      ]
     },
     "metadata": {
      "needs_background": "light"
     },
     "output_type": "display_data"
    },
    {
     "name": "stdout",
     "output_type": "stream",
     "text": [
      "[0 1 2 3 4 5 6 7 8 9]\n",
      "{0: 0.9723166666666667, 1: 0.9937, 2: 0.9652166666666666, 3: 0.9782666666666666, 4: 0.9640833333333333, 5: 0.9854166666666667, 6: 0.9498666666666666, 7: 0.9845666666666667, 8: 0.9876666666666667, 9: 0.9890333333333333}\n",
      "{0: 0.9737834285271526, 1: 0.993754749115682, 2: 0.9671483859167304, 3: 0.9782955457291568, 4: 0.9635001200435628, 5: 0.9857988222141132, 6: 0.9434075443632427, 7: 0.9845414106409865, 8: 0.9873285545011927, 9: 0.9887484261225924}\n"
     ]
    }
   ],
   "source": [
    "dtc = DecisionTreeClassifier(random_state=0)\n",
    "dtc_scores = cross_validate(dtc, X_train_pca, y_train, cv=CV_SPLIT, return_estimator=True, n_jobs=CORES)\n",
    "score_models(dtc, dtc_scores)\n",
    "cv_mean_model(dtc_scores['estimator'], y_train, X_train_pca)"
   ]
  },
  {
   "cell_type": "markdown",
   "metadata": {},
   "source": [
    "### Gradient Boosting"
   ]
  },
  {
   "cell_type": "code",
   "execution_count": 22,
   "metadata": {},
   "outputs": [],
   "source": [
    "# gb = GradientBoostingClassifier(random_state=0, n_estimators=10)\n",
    "# gb_scores = cross_validate(gb, X_train_pca, y_train, cv=CV_SPLIT//2, return_estimator=True, n_jobs=CORES)\n",
    "# score_models(gb, gb_scores)\n",
    "# cv_mean_model(gb_scores['estimator'], y_train, X_train_pca)"
   ]
  },
  {
   "cell_type": "markdown",
   "metadata": {},
   "source": [
    "### Random Forest"
   ]
  },
  {
   "cell_type": "code",
   "execution_count": 23,
   "metadata": {
    "scrolled": true
   },
   "outputs": [
    {
     "name": "stdout",
     "output_type": "stream",
     "text": [
      "Accuracy: 0.87 (+/- 0.01)\n",
      "Train time: 27.31 seconds (+/- 3.62) for a total of 273.13 seconds\n",
      "Test time: 0.14 seconds (+/- 0.09) for a total of 1.38 seconds\n",
      "confusion_matrix:\n",
      " [[5996    0    0    4    0    0    0    0    0    0]\n",
      " [  15 5977    0    8    0    0    0    0    0    0]\n",
      " [  56    1 5936    1    5    0    1    0    0    0]\n",
      " [ 165   21   38 5775    1    0    0    0    0    0]\n",
      " [   8    4  496  229 5260    0    3    0    0    0]\n",
      " [   1    0    0    4    0 5979    0   16    0    0]\n",
      " [ 984    6  676  143  563   13 3615    0    0    0]\n",
      " [   0    0    0    0    0  195    0 5794    0   11]\n",
      " [   8    0   27   39   25   66   61   23 5751    0]\n",
      " [   0    0    1    1    0  114    0  195    4 5685]]\n",
      "              precision    recall  f1-score   support\n",
      "\n",
      "           0       0.83      1.00      0.91      6000\n",
      "           1       0.99      1.00      1.00      6000\n",
      "           2       0.83      0.99      0.90      6000\n",
      "           3       0.93      0.96      0.95      6000\n",
      "           4       0.90      0.88      0.89      6000\n",
      "           5       0.94      1.00      0.97      6000\n",
      "           6       0.98      0.60      0.75      6000\n",
      "           7       0.96      0.97      0.96      6000\n",
      "           8       1.00      0.96      0.98      6000\n",
      "           9       1.00      0.95      0.97      6000\n",
      "\n",
      "    accuracy                           0.93     60000\n",
      "   macro avg       0.94      0.93      0.93     60000\n",
      "weighted avg       0.94      0.93      0.93     60000\n",
      "\n",
      "f1 score 0.9264535628936178\n",
      "accuracy score 0.9294666666666667\n",
      "y=0.918127x+(0.080977)\n"
     ]
    },
    {
     "data": {
      "image/png": "[encoded data removed]",
      "text/plain": [
       "<Figure size 432x288 with 1 Axes>"
      ]
     },
     "metadata": {
      "needs_background": "light"
     },
     "output_type": "display_data"
    },
    {
     "name": "stdout",
     "output_type": "stream",
     "text": [
      "[0 1 2 3 4 5 6 7 8 9]\n",
      "{0: 0.9793166666666666, 1: 0.9990833333333333, 2: 0.9783, 3: 0.9891, 4: 0.9777666666666667, 5: 0.9931833333333333, 6: 0.9591666666666666, 7: 0.9926666666666667, 8: 0.9957833333333334, 9: 0.9945666666666667}\n",
      "{0: 0.9801608324932904, 1: 0.9990836386280866, 2: 0.9791476572199713, 3: 0.9891807873519644, 4: 0.9776447558437668, 5: 0.9932728566679525, 6: 0.954702772999958, 7: 0.9926742514419269, 8: 0.9957441630071863, 9: 0.9945036810809075}\n"
     ]
    }
   ],
   "source": [
    "rf = RandomForestClassifier(max_depth=20, random_state=0, n_jobs=CORES)\n",
    "rf_scores = cross_validate(rf, X_train_pca, y_train, cv=CV_SPLIT, n_jobs=CORES, return_estimator=True)\n",
    "score_models(rf, rf_scores)\n",
    "cv_mean_model(rf_scores['estimator'], y_train, X_train_pca)"
   ]
  },
  {
   "cell_type": "markdown",
   "metadata": {},
   "source": [
    "### KNN"
   ]
  },
  {
   "cell_type": "markdown",
   "metadata": {},
   "source": [
    "#### find the optimum K "
   ]
  },
  {
   "cell_type": "code",
   "execution_count": 24,
   "metadata": {},
   "outputs": [],
   "source": [
    "k_max = 15\n",
    "k_min = 1\n",
    "err_rate = []\n",
    "for i in range(k_min, k_max+1):\n",
    "    k = KNeighborsClassifier(n_neighbors=i, n_jobs=CORES)\n",
    "#     k.fit(X_train_pca, y_train)\n",
    "#     pred_i = k.predict(X_test_pca)\n",
    "#     err_rate.append(np.mean(pred_i != y_test))\n",
    "    scores = cross_validate(k, X_train_pca, y_train, cv=CV_SPLIT, n_jobs=CORES, return_estimator=True)['test_score']\n",
    "    if scores.std() > 0.5:\n",
    "        err_rate.append(0)\n",
    "    else:\n",
    "        err_rate.append(scores.mean())"
   ]
  },
  {
   "cell_type": "code",
   "execution_count": 25,
   "metadata": {},
   "outputs": [
    {
     "data": {
      "image/png": "[encoded data removed]",
      "text/plain": [
       "<Figure size 432x288 with 1 Axes>"
      ]
     },
     "metadata": {
      "needs_background": "light"
     },
     "output_type": "display_data"
    }
   ],
   "source": [
    "plt.plot(np.arange(k_min, k_max+1), err_rate)\n",
    "plt.show()"
   ]
  },
  {
   "cell_type": "code",
   "execution_count": 26,
   "metadata": {},
   "outputs": [
    {
     "data": {
      "text/plain": [
       "8"
      ]
     },
     "execution_count": 26,
     "metadata": {},
     "output_type": "execute_result"
    }
   ],
   "source": [
    "index = err_rate.index(max(err_rate)) + 1\n",
    "index"
   ]
  },
  {
   "cell_type": "code",
   "execution_count": 27,
   "metadata": {},
   "outputs": [
    {
     "name": "stdout",
     "output_type": "stream",
     "text": [
      "Accuracy: 0.86 (+/- 0.01)\n",
      "Train time: 1.69 seconds (+/- 0.10) for a total of 16.89 seconds\n",
      "Test time: 13.92 seconds (+/- 6.30) for a total of 139.24 seconds\n",
      "confusion_matrix:\n",
      " [[5635    3   67   78   22    1  157    1   36    0]\n",
      " [  36 5847   16   77    7    0   14    0    2    1]\n",
      " [ 123    5 5268   41  359    1  192    1   10    0]\n",
      " [ 286   38   61 5455   98    0   52    0   10    0]\n",
      " [  38    8  746  254 4705    0  235    0   14    0]\n",
      " [   4    0    0    2    0 5621    1  193   11  168]\n",
      " [1317    9  842  107  481    0 3202    0   41    1]\n",
      " [   0    0    0    0    0   88    0 5771    1  140]\n",
      " [  33    2   60   35   32   12   41   28 5752    5]\n",
      " [   0    0    2    0    0   41    1  267    3 5686]]\n",
      "              precision    recall  f1-score   support\n",
      "\n",
      "           0       0.75      0.94      0.84      6000\n",
      "           1       0.99      0.97      0.98      6000\n",
      "           2       0.75      0.88      0.81      6000\n",
      "           3       0.90      0.91      0.91      6000\n",
      "           4       0.82      0.78      0.80      6000\n",
      "           5       0.98      0.94      0.96      6000\n",
      "           6       0.82      0.53      0.65      6000\n",
      "           7       0.92      0.96      0.94      6000\n",
      "           8       0.98      0.96      0.97      6000\n",
      "           9       0.95      0.95      0.95      6000\n",
      "\n",
      "    accuracy                           0.88     60000\n",
      "   macro avg       0.89      0.88      0.88     60000\n",
      "weighted avg       0.89      0.88      0.88     60000\n",
      "\n",
      "f1 score 0.8794451122120558\n",
      "accuracy score 0.8823666666666666\n",
      "y=0.946827x+(0.052185)\n"
     ]
    },
    {
     "data": {
      "image/png": "[encoded data removed]",
      "text/plain": [
       "<Figure size 432x288 with 1 Axes>"
      ]
     },
     "metadata": {
      "needs_background": "light"
     },
     "output_type": "display_data"
    },
    {
     "name": "stdout",
     "output_type": "stream",
     "text": [
      "[0 1 2 3 4 5 6 7 8 9]\n",
      "{0: 0.9633, 1: 0.9963666666666666, 2: 0.9579, 3: 0.9810166666666666, 4: 0.9617666666666667, 5: 0.9913, 6: 0.9418166666666666, 7: 0.9880166666666667, 8: 0.9937333333333334, 9: 0.9895166666666667}\n",
      "{0: 0.9650514284959997, 1: 0.9963547250681845, 2: 0.9594024134273348, 3: 0.9810509583297591, 4: 0.9613354472496862, 5: 0.9912222185934726, 6: 0.9361840664794245, 7: 0.9881296963815668, 8: 0.9937051611191456, 9: 0.9895170549014247}\n"
     ]
    }
   ],
   "source": [
    "k = KNeighborsClassifier(n_neighbors=index, n_jobs=CORES)\n",
    "k_scores = cross_validate(k, X_train_pca, y_train, cv=CV_SPLIT, n_jobs=CORES, return_estimator=True)\n",
    "score_models(k, k_scores)\n",
    "cv_mean_model(k_scores['estimator'], y_train, X_train_pca)"
   ]
  },
  {
   "cell_type": "markdown",
   "metadata": {},
   "source": [
    "## Find Best Model"
   ]
  },
  {
   "cell_type": "code",
   "execution_count": 28,
   "metadata": {},
   "outputs": [
    {
     "name": "stdout",
     "output_type": "stream",
     "text": [
      "the best model is RandomForestClassifier with the score of 0.8666166666666667\n"
     ]
    }
   ],
   "source": [
    "best_model, best_model_score = find_best_model()"
   ]
  },
  {
   "cell_type": "markdown",
   "metadata": {},
   "source": [
    "## Improve The Model"
   ]
  },
  {
   "cell_type": "markdown",
   "metadata": {},
   "source": [
    "### Ada Boost"
   ]
  },
  {
   "cell_type": "markdown",
   "metadata": {},
   "source": [
    "#### find best estimator"
   ]
  },
  {
   "cell_type": "code",
   "execution_count": 29,
   "metadata": {},
   "outputs": [
    {
     "ename": "TypeError",
     "evalue": "No loop matching the specified signature and casting was found for ufunc true_divide",
     "output_type": "error",
     "traceback": [
      "\u001b[1;31m---------------------------------------------------------------------------\u001b[0m",
      "\u001b[1;31mTypeError\u001b[0m                                 Traceback (most recent call last)",
      "\u001b[1;32m<ipython-input-29-a99857f3fd65>\u001b[0m in \u001b[0;36m<module>\u001b[1;34m\u001b[0m\n\u001b[0;32m      4\u001b[0m \u001b[0mmax_estimators\u001b[0m \u001b[1;33m=\u001b[0m \u001b[1;36m20\u001b[0m\u001b[1;33m\u001b[0m\u001b[1;33m\u001b[0m\u001b[0m\n\u001b[0;32m      5\u001b[0m \u001b[0mabr\u001b[0m \u001b[1;33m=\u001b[0m \u001b[0mAdaBoostRegressor\u001b[0m\u001b[1;33m(\u001b[0m\u001b[0mbest_model\u001b[0m\u001b[1;33m,\u001b[0m \u001b[0mn_estimators\u001b[0m\u001b[1;33m=\u001b[0m\u001b[0mmax_estimators\u001b[0m\u001b[1;33m,\u001b[0m \u001b[0mlearning_rate\u001b[0m\u001b[1;33m=\u001b[0m\u001b[1;36m2\u001b[0m\u001b[1;33m,\u001b[0m \u001b[0mrandom_state\u001b[0m\u001b[1;33m=\u001b[0m\u001b[1;36m0\u001b[0m\u001b[1;33m)\u001b[0m\u001b[1;33m\u001b[0m\u001b[1;33m\u001b[0m\u001b[0m\n\u001b[1;32m----> 6\u001b[1;33m \u001b[0mabr\u001b[0m\u001b[1;33m.\u001b[0m\u001b[0mfit\u001b[0m\u001b[1;33m(\u001b[0m\u001b[0mX_train_pca\u001b[0m\u001b[1;33m,\u001b[0m \u001b[0my_train\u001b[0m\u001b[1;33m)\u001b[0m\u001b[1;33m\u001b[0m\u001b[1;33m\u001b[0m\u001b[0m\n\u001b[0m\u001b[0;32m      7\u001b[0m \u001b[1;33m\u001b[0m\u001b[0m\n\u001b[0;32m      8\u001b[0m \u001b[0merrors\u001b[0m \u001b[1;33m=\u001b[0m \u001b[1;33m[\u001b[0m\u001b[0mmean_squared_error\u001b[0m\u001b[1;33m(\u001b[0m\u001b[0my_test\u001b[0m\u001b[1;33m,\u001b[0m \u001b[0my_pred\u001b[0m\u001b[1;33m)\u001b[0m \u001b[1;32mfor\u001b[0m \u001b[0my_pred\u001b[0m \u001b[1;32min\u001b[0m \u001b[0mabr\u001b[0m\u001b[1;33m.\u001b[0m\u001b[0mstaged_predict\u001b[0m\u001b[1;33m(\u001b[0m\u001b[0mX_test_pca\u001b[0m\u001b[1;33m)\u001b[0m\u001b[1;33m]\u001b[0m\u001b[1;33m\u001b[0m\u001b[1;33m\u001b[0m\u001b[0m\n",
      "\u001b[1;32m~\\Anaconda3\\lib\\site-packages\\sklearn\\ensemble\\_weight_boosting.py\u001b[0m in \u001b[0;36mfit\u001b[1;34m(self, X, y, sample_weight)\u001b[0m\n\u001b[0;32m    992\u001b[0m \u001b[1;33m\u001b[0m\u001b[0m\n\u001b[0;32m    993\u001b[0m         \u001b[1;31m# Fit\u001b[0m\u001b[1;33m\u001b[0m\u001b[1;33m\u001b[0m\u001b[1;33m\u001b[0m\u001b[0m\n\u001b[1;32m--> 994\u001b[1;33m         \u001b[1;32mreturn\u001b[0m \u001b[0msuper\u001b[0m\u001b[1;33m(\u001b[0m\u001b[1;33m)\u001b[0m\u001b[1;33m.\u001b[0m\u001b[0mfit\u001b[0m\u001b[1;33m(\u001b[0m\u001b[0mX\u001b[0m\u001b[1;33m,\u001b[0m \u001b[0my\u001b[0m\u001b[1;33m,\u001b[0m \u001b[0msample_weight\u001b[0m\u001b[1;33m)\u001b[0m\u001b[1;33m\u001b[0m\u001b[1;33m\u001b[0m\u001b[0m\n\u001b[0m\u001b[0;32m    995\u001b[0m \u001b[1;33m\u001b[0m\u001b[0m\n\u001b[0;32m    996\u001b[0m     \u001b[1;32mdef\u001b[0m \u001b[0m_validate_estimator\u001b[0m\u001b[1;33m(\u001b[0m\u001b[0mself\u001b[0m\u001b[1;33m)\u001b[0m\u001b[1;33m:\u001b[0m\u001b[1;33m\u001b[0m\u001b[1;33m\u001b[0m\u001b[0m\n",
      "\u001b[1;32m~\\Anaconda3\\lib\\site-packages\\sklearn\\ensemble\\_weight_boosting.py\u001b[0m in \u001b[0;36mfit\u001b[1;34m(self, X, y, sample_weight)\u001b[0m\n\u001b[0;32m    140\u001b[0m                 \u001b[0mX\u001b[0m\u001b[1;33m,\u001b[0m \u001b[0my\u001b[0m\u001b[1;33m,\u001b[0m\u001b[1;33m\u001b[0m\u001b[1;33m\u001b[0m\u001b[0m\n\u001b[0;32m    141\u001b[0m                 \u001b[0msample_weight\u001b[0m\u001b[1;33m,\u001b[0m\u001b[1;33m\u001b[0m\u001b[1;33m\u001b[0m\u001b[0m\n\u001b[1;32m--> 142\u001b[1;33m                 random_state)\n\u001b[0m\u001b[0;32m    143\u001b[0m \u001b[1;33m\u001b[0m\u001b[0m\n\u001b[0;32m    144\u001b[0m             \u001b[1;31m# Early termination\u001b[0m\u001b[1;33m\u001b[0m\u001b[1;33m\u001b[0m\u001b[1;33m\u001b[0m\u001b[0m\n",
      "\u001b[1;32m~\\Anaconda3\\lib\\site-packages\\sklearn\\ensemble\\_weight_boosting.py\u001b[0m in \u001b[0;36m_boost\u001b[1;34m(self, iboost, X, y, sample_weight, random_state)\u001b[0m\n\u001b[0;32m   1059\u001b[0m         \u001b[0merror_max\u001b[0m \u001b[1;33m=\u001b[0m \u001b[0mmasked_error_vector\u001b[0m\u001b[1;33m.\u001b[0m\u001b[0mmax\u001b[0m\u001b[1;33m(\u001b[0m\u001b[1;33m)\u001b[0m\u001b[1;33m\u001b[0m\u001b[1;33m\u001b[0m\u001b[0m\n\u001b[0;32m   1060\u001b[0m         \u001b[1;32mif\u001b[0m \u001b[0merror_max\u001b[0m \u001b[1;33m!=\u001b[0m \u001b[1;36m0\u001b[0m\u001b[1;33m:\u001b[0m\u001b[1;33m\u001b[0m\u001b[1;33m\u001b[0m\u001b[0m\n\u001b[1;32m-> 1061\u001b[1;33m             \u001b[0mmasked_error_vector\u001b[0m \u001b[1;33m/=\u001b[0m \u001b[0merror_max\u001b[0m\u001b[1;33m\u001b[0m\u001b[1;33m\u001b[0m\u001b[0m\n\u001b[0m\u001b[0;32m   1062\u001b[0m \u001b[1;33m\u001b[0m\u001b[0m\n\u001b[0;32m   1063\u001b[0m         \u001b[1;32mif\u001b[0m \u001b[0mself\u001b[0m\u001b[1;33m.\u001b[0m\u001b[0mloss\u001b[0m \u001b[1;33m==\u001b[0m \u001b[1;34m'square'\u001b[0m\u001b[1;33m:\u001b[0m\u001b[1;33m\u001b[0m\u001b[1;33m\u001b[0m\u001b[0m\n",
      "\u001b[1;31mTypeError\u001b[0m: No loop matching the specified signature and casting was found for ufunc true_divide"
     ]
    }
   ],
   "source": [
    "from sklearn.metrics import mean_squared_error\n",
    "from sklearn.ensemble import AdaBoostRegressor\n",
    "\n",
    "max_estimators = 20\n",
    "abr = AdaBoostRegressor(best_model, n_estimators=max_estimators, learning_rate=2, random_state=0)\n",
    "abr.fit(X_train_pca, y_train)\n",
    "\n",
    "errors = [mean_squared_error(y_test, y_pred) for y_pred in abr.staged_predict(X_test_pca)]\n",
    "bst_n_estimators = np.argmin(errors)\n",
    "min_error = np.min(errors)\n",
    "max_error = np.max(errors)"
   ]
  },
  {
   "cell_type": "code",
   "execution_count": null,
   "metadata": {},
   "outputs": [],
   "source": [
    "plt.figure(figsize=(11, 4))\n",
    "plt.subplot(121)\n",
    "plt.plot(errors, 'b.-')\n",
    "plt.plot([bst_n_estimators, bst_n_estimators], [0, min_error], 'k--')\n",
    "plt.plot([0, 120], [min_error, min_error], 'k--')\n",
    "plt.plot(bst_n_estimators, min_error, 'ko')\n",
    "plt.text(bst_n_estimators, min_error*1.2, 'Minimum', ha='center', fontsize=14)\n",
    "plt.axis([0, max_estimators, min_error-.5, max_error+.5])\n",
    "plt.xlabel(\"Number of trees\")\n",
    "plt.title('Validation error', fontsize=14)\n",
    "plt.show()\n",
    "bst_n_estimators"
   ]
  },
  {
   "cell_type": "markdown",
   "metadata": {},
   "source": [
    "#### run the model"
   ]
  },
  {
   "cell_type": "code",
   "execution_count": null,
   "metadata": {},
   "outputs": [],
   "source": [
    "adb = AdaBoostClassifier(best_model, n_estimators=bst_n_estimators, random_state=0)\n",
    "adb_scores = cross_validate(adb, X_train_pca, y_train, cv=CV_SPLIT, return_estimator=True, n_jobs=CORES)\n",
    "cv_mean_model(adb_scores['estimator'], y_train, X_train_pca)"
   ]
  },
  {
   "cell_type": "markdown",
   "metadata": {},
   "source": [
    "#### check if the model was improved"
   ]
  },
  {
   "cell_type": "code",
   "execution_count": null,
   "metadata": {},
   "outputs": [],
   "source": [
    "if adb_scores['test_score'].mean() > best_model_score:\n",
    "    print('ada boost helped')\n",
    "    best_model = adb"
   ]
  },
  {
   "cell_type": "markdown",
   "metadata": {},
   "source": [
    "## Test The Model On The Test Data"
   ]
  },
  {
   "cell_type": "code",
   "execution_count": null,
   "metadata": {},
   "outputs": [],
   "source": [
    "cv_mean_model(adb_scores['estimator'], y_test, X_test_pca)"
   ]
  },
  {
   "cell_type": "code",
   "execution_count": null,
   "metadata": {},
   "outputs": [],
   "source": [
    "adb.fit(X_train_pca, y_train)\n",
    "predictions = best_model.predict(X_test_pca)\n",
    "evaluate(y_test, predictions, plot=True)"
   ]
  },
  {
   "cell_type": "markdown",
   "metadata": {},
   "source": [
    "---\n",
    "# Challenges"
   ]
  },
  {
   "cell_type": "code",
   "execution_count": null,
   "metadata": {},
   "outputs": [],
   "source": [
    "rfc = RandomForestClassifier(n_estimators=200, max_features='sqrt', random_state=0, n_jobs=CORES)\n",
    "rfc.fit(X_train, y_train)\n",
    "\n",
    "data = rfc.feature_importances_\n",
    "image = data.reshape(28, 28)\n",
    "plt.imshow(image, cmap=plt.cm.hot, interpolation='nearest')\n",
    "plt.axis('off')\n",
    "\n",
    "cbar = plt.colorbar(ticks=[rfc.feature_importances_.min(), rfc.feature_importances_.max()])\n",
    "cbar.ax.set_yticklabels(['Not important', 'Very important'])\n",
    "plt.show()"
   ]
  },
  {
   "cell_type": "code",
   "execution_count": null,
   "metadata": {},
   "outputs": [],
   "source": []
  }
 ],
 "metadata": {
  "kernelspec": {
   "display_name": "Python 3",
   "language": "python",
   "name": "python3"
  },
  "language_info": {
   "codemirror_mode": {
    "name": "ipython",
    "version": 3
   },
   "file_extension": ".py",
   "mimetype": "text/x-python",
   "name": "python",
   "nbconvert_exporter": "python",
   "pygments_lexer": "ipython3",
   "version": "3.7.6"
  }
 },
 "nbformat": 4,
 "nbformat_minor": 2
}
