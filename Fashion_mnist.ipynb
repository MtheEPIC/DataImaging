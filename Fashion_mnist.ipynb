{
 "cells": [
  {
   "cell_type": "markdown",
   "metadata": {},
   "source": [
    "[![alt text](https://avatars1.githubusercontent.com/u/59831504?s=400&v=4 \"MtheEPIC User Icon\")](https://github.com/MtheEPIC/KaggleProj)"
   ]
  },
  {
   "cell_type": "markdown",
   "metadata": {},
   "source": [
    "# Import libs"
   ]
  },
  {
   "cell_type": "code",
   "execution_count": 1,
   "metadata": {},
   "outputs": [],
   "source": [
    "import numpy as np\n",
    "import pandas as pd\n",
    "import matplotlib.pyplot as plt\n",
    "import seaborn as sns\n",
    "# sns.set_style(\"ticks\", {\"xtick.major.size\": 8, \"ytick.major.size\": 8})\n",
    "sns.axes_style(\"whitegrid\")\n",
    "\n",
    "import scipy.integrate as integrate\n",
    "\n",
    "from sklearn.decomposition import PCA\n",
    "\n",
    "from sklearn.preprocessing import MinMaxScaler, binarize, label_binarize\n",
    "from sklearn.metrics import accuracy_score, f1_score, roc_curve, roc_auc_score, plot_roc_curve, confusion_matrix, classification_report, precision_recall_curve, average_precision_score  \n",
    "from sklearn.model_selection import cross_val_score, GridSearchCV, RandomizedSearchCV, cross_val_predict, cross_validate\n",
    "\n",
    "from sklearn.naive_bayes import MultinomialNB, GaussianNB\n",
    "from sklearn.ensemble import AdaBoostClassifier, RandomForestClassifier, GradientBoostingClassifier\n",
    "from sklearn.tree import DecisionTreeClassifier\n",
    "from sklearn.neighbors import KNeighborsClassifier\n",
    "from sklearn.linear_model import LogisticRegression\n",
    "from sklearn.svm import SVC, LinearSVC"
   ]
  },
  {
   "cell_type": "markdown",
   "metadata": {},
   "source": [
    "# Const And Global Vars"
   ]
  },
  {
   "cell_type": "code",
   "execution_count": 101,
   "metadata": {},
   "outputs": [],
   "source": [
    "CORES = 3\n",
    "CV_SPLIT = 10\n",
    "model_dict = {}"
   ]
  },
  {
   "cell_type": "markdown",
   "metadata": {},
   "source": [
    "# Declare funcs"
   ]
  },
  {
   "cell_type": "code",
   "execution_count": 3,
   "metadata": {},
   "outputs": [],
   "source": [
    "def paint():\n",
    "    tmp = train_df.groupby('label').sum()\n",
    "    train_data = np.array(tmp, dtype='float32')\n",
    "\n",
    "    first_image = train_data[0]\n",
    "\n",
    "    first_image = np.array(first_image, dtype='uint8')\n",
    "    pixels = first_image.reshape((28, 28))\n",
    "    import numpy as np; np.random.seed(0)\n",
    "\n",
    "    import seaborn as sns; sns.set()\n",
    "\n",
    "    # uniform_data = np.random.rand(10, 12)\n",
    "    uniform_data = pixels#//500\n",
    "    ax = sns.heatmap(uniform_data)\n",
    "\n",
    "    uniform_data.max()"
   ]
  },
  {
   "cell_type": "code",
   "execution_count": 54,
   "metadata": {},
   "outputs": [],
   "source": [
    "def evaluate(true, pred, plot=False):\n",
    "#     model_accuracy = roc_auc_score(true, pred, multi_class=\"ovr\")\n",
    "#     null_accuracy = roc_auc_score(true, true.replace(1, 0))\n",
    "    \n",
    "#     print(\"Null AUC Score: {:.5f}\".format(null_accuracy))\n",
    "#     print(\"Model AUC Score: {:.5f}\".format(model_accuracy))\n",
    "\n",
    "#     if null_accuracy >= model_accuracy:\n",
    "#         print(\"The model isn't effective\")\n",
    "# #         return\n",
    "#     else:\n",
    "#         print(\"The model is better then a 'dumb' model\")\n",
    "    print(\"confusion_matrix:\\n\", confusion_matrix(true, pred))\n",
    "    print(classification_report(true, pred))\n",
    "    print('f1 score {}'.format(f1_score(true, pred, average='weighted')))\n",
    "    print('accuracy score {}'.format(accuracy_score(true, pred)))\n",
    "    if plot:\n",
    "        plot_scores(true, pred)"
   ]
  },
  {
   "cell_type": "code",
   "execution_count": 49,
   "metadata": {},
   "outputs": [],
   "source": [
    "def plot_scores(true, pred):\n",
    "    from sklearn.metrics import precision_score, recall_score, f1_score\n",
    "    labels = np.unique(true)\n",
    "\n",
    "    ytest = label_binarize(true, classes=labels)\n",
    "    ypreds = label_binarize(pred, classes=labels)\n",
    "\n",
    "    n_classes = len(labels)\n",
    "    f1_scores = dict()\n",
    "    accuracy_scores = dict()\n",
    "    for i in range(n_classes):\n",
    "        f1_scores[i] = f1_score(ytest[:, i], ypreds[:, i], average='weighted')\n",
    "        accuracy_scores[i] = accuracy_score(ytest[:, i], ypreds[:, i])\n",
    "        plt.scatter(f1_scores[i], accuracy_scores[i], lw=2, label='class {}'.format(i))\n",
    "#         plt.plot(f1_scores[i], accuracy_scores[i], lw=2, label='class {}'.format(i))\n",
    "#     precision = dict()\n",
    "#     recall = dict()\n",
    "#     for i in range(n_classes):\n",
    "#         precision[i] = precision_score(ytest[:, i], ypreds[:, i], average='weighted')\n",
    "#         recall[i] = recall_score(ytest[:, i], ypreds[:, i], average='weighted')\n",
    "\n",
    "\n",
    "    x = list(f1_scores.values())\n",
    "    y = list(accuracy_scores.values())\n",
    "    z = np.polyfit(x, y, 1)\n",
    "    p = np.poly1d(z)\n",
    "    plt.plot(x, p(x), \"r--\")\n",
    "    print(\"y=%.6fx+(%.6f)\"%(z[0],z[1]))\n",
    "    integrate_score = (integrate.quad(lambda x: x-(z[0]*x+z[1]), 0, 1)[0])\n",
    "    print('integrate score is {}'.format(integrate_score))\n",
    "    \n",
    "    plt.xlabel(\"f1_scores\")\n",
    "    plt.ylabel(\"accuracy_scores\")\n",
    "    plt.legend(loc=\"best\")\n",
    "    plt.title(\"f1_scores vs. accuracy_scores\")\n",
    "    plt.show()\n",
    "    print(labels)\n",
    "    print(accuracy_scores)\n",
    "    print(f1_scores)\n",
    "    return f1_scores"
   ]
  },
  {
   "cell_type": "code",
   "execution_count": 6,
   "metadata": {},
   "outputs": [],
   "source": [
    "def score_models(model, model_scores):\n",
    "    model_dict.update({model: model_scores})\n",
    "\n",
    "    print(\"Accuracy: {:.2f} (+/- {:.2f})\".format(model_scores['test_score'].mean(), model_scores['test_score'].std() * 2))\n",
    "    print('Train time: {:.2f} seconds (+/- {:.2f}) for a total of {:.2f} seconds'.format(model_scores['fit_time'].mean(), model_scores['fit_time'].std() * 2, model_scores['fit_time'].sum()))\n",
    "    print('Test time: {:.2f} seconds (+/- {:.2f}) for a total of {:.2f} seconds'.format(model_scores['score_time'].mean(), model_scores['score_time'].std() * 2, model_scores['score_time'].sum()))"
   ]
  },
  {
   "cell_type": "code",
   "execution_count": 7,
   "metadata": {},
   "outputs": [],
   "source": [
    "def find_best_model():\n",
    "    max_score = 0\n",
    "    best_key = None\n",
    "    for key in model_dict:\n",
    "        model_score=model_dict[key]['test_score'].mean()\n",
    "#         model_score = model_dict[key].mean()\n",
    "#         try:   \n",
    "#             model_score=model_dict[key]['test_score'].mean()\n",
    "#         except IndexError: # remove this\n",
    "#             model_score=model_dict[key].mean()\n",
    "        if max_score < model_score:\n",
    "            max_score = model_score\n",
    "            best_key = key\n",
    "    best_model_name = best_key\n",
    "    print('the best model is {}'.format(best_key).split('(')[0], end = ' ')\n",
    "    print('with the score of {}'.format(max_score))\n",
    "    return best_key, max_score"
   ]
  },
  {
   "cell_type": "markdown",
   "metadata": {},
   "source": [
    "---\n",
    "# Data preparation"
   ]
  },
  {
   "cell_type": "markdown",
   "metadata": {},
   "source": [
    "## load data"
   ]
  },
  {
   "cell_type": "code",
   "execution_count": 8,
   "metadata": {},
   "outputs": [],
   "source": [
    "train_df = pd.read_csv('data/fashion-mnist_train.csv')\n",
    "test_df = pd.read_csv('data/fashion-mnist_test.csv')"
   ]
  },
  {
   "cell_type": "code",
   "execution_count": 9,
   "metadata": {},
   "outputs": [
    {
     "data": {
      "text/plain": [
       "array([0], dtype=int64)"
      ]
     },
     "execution_count": 9,
     "metadata": {},
     "output_type": "execute_result"
    }
   ],
   "source": [
    "train_df.head()\n",
    "train_df.isnull().sum().unique()"
   ]
  },
  {
   "cell_type": "markdown",
   "metadata": {},
   "source": [
    "0 is t shirt\\\n",
    "1 is trousers\\\n",
    "2 is pullover\\\n",
    "3 is dress\\\n",
    "4 is coat\\\n",
    "5 is sandals\\\n",
    "6 is shirt\\\n",
    "7 is sneaker\\\n",
    "8 is bag\\\n",
    "9 is ankle boots"
   ]
  },
  {
   "cell_type": "code",
   "execution_count": 10,
   "metadata": {},
   "outputs": [
    {
     "name": "stdout",
     "output_type": "stream",
     "text": [
      "<class 'pandas.core.frame.DataFrame'>\n",
      "RangeIndex: 60000 entries, 0 to 59999\n",
      "Columns: 785 entries, label to pixel784\n",
      "dtypes: int64(785)\n",
      "memory usage: 359.3 MB\n",
      "<class 'pandas.core.frame.DataFrame'>\n",
      "RangeIndex: 10000 entries, 0 to 9999\n",
      "Columns: 785 entries, label to pixel784\n",
      "dtypes: int64(785)\n",
      "memory usage: 59.9 MB\n"
     ]
    }
   ],
   "source": [
    "train_df.info()\n",
    "test_df.info()"
   ]
  },
  {
   "cell_type": "code",
   "execution_count": 11,
   "metadata": {},
   "outputs": [
    {
     "data": {
      "text/html": [
       "<div>\n",
       "<style scoped>\n",
       "    .dataframe tbody tr th:only-of-type {\n",
       "        vertical-align: middle;\n",
       "    }\n",
       "\n",
       "    .dataframe tbody tr th {\n",
       "        vertical-align: top;\n",
       "    }\n",
       "\n",
       "    .dataframe thead th {\n",
       "        text-align: right;\n",
       "    }\n",
       "</style>\n",
       "<table border=\"1\" class=\"dataframe\">\n",
       "  <thead>\n",
       "    <tr style=\"text-align: right;\">\n",
       "      <th></th>\n",
       "      <th>label</th>\n",
       "      <th>pixel1</th>\n",
       "      <th>pixel2</th>\n",
       "      <th>pixel3</th>\n",
       "      <th>pixel4</th>\n",
       "      <th>pixel5</th>\n",
       "      <th>pixel6</th>\n",
       "      <th>pixel7</th>\n",
       "      <th>pixel8</th>\n",
       "      <th>pixel9</th>\n",
       "      <th>...</th>\n",
       "      <th>pixel775</th>\n",
       "      <th>pixel776</th>\n",
       "      <th>pixel777</th>\n",
       "      <th>pixel778</th>\n",
       "      <th>pixel779</th>\n",
       "      <th>pixel780</th>\n",
       "      <th>pixel781</th>\n",
       "      <th>pixel782</th>\n",
       "      <th>pixel783</th>\n",
       "      <th>pixel784</th>\n",
       "    </tr>\n",
       "  </thead>\n",
       "  <tbody>\n",
       "    <tr>\n",
       "      <th>count</th>\n",
       "      <td>60000.000000</td>\n",
       "      <td>60000.000000</td>\n",
       "      <td>60000.000000</td>\n",
       "      <td>60000.000000</td>\n",
       "      <td>60000.000000</td>\n",
       "      <td>60000.000000</td>\n",
       "      <td>60000.000000</td>\n",
       "      <td>60000.000000</td>\n",
       "      <td>60000.000000</td>\n",
       "      <td>60000.000000</td>\n",
       "      <td>...</td>\n",
       "      <td>60000.000000</td>\n",
       "      <td>60000.000000</td>\n",
       "      <td>60000.000000</td>\n",
       "      <td>60000.000000</td>\n",
       "      <td>60000.000000</td>\n",
       "      <td>60000.000000</td>\n",
       "      <td>60000.000000</td>\n",
       "      <td>60000.000000</td>\n",
       "      <td>60000.000000</td>\n",
       "      <td>60000.00000</td>\n",
       "    </tr>\n",
       "    <tr>\n",
       "      <th>mean</th>\n",
       "      <td>4.500000</td>\n",
       "      <td>0.000900</td>\n",
       "      <td>0.006150</td>\n",
       "      <td>0.035333</td>\n",
       "      <td>0.101933</td>\n",
       "      <td>0.247967</td>\n",
       "      <td>0.411467</td>\n",
       "      <td>0.805767</td>\n",
       "      <td>2.198283</td>\n",
       "      <td>5.682000</td>\n",
       "      <td>...</td>\n",
       "      <td>34.625400</td>\n",
       "      <td>23.300683</td>\n",
       "      <td>16.588267</td>\n",
       "      <td>17.869433</td>\n",
       "      <td>22.814817</td>\n",
       "      <td>17.911483</td>\n",
       "      <td>8.520633</td>\n",
       "      <td>2.753300</td>\n",
       "      <td>0.855517</td>\n",
       "      <td>0.07025</td>\n",
       "    </tr>\n",
       "    <tr>\n",
       "      <th>std</th>\n",
       "      <td>2.872305</td>\n",
       "      <td>0.094689</td>\n",
       "      <td>0.271011</td>\n",
       "      <td>1.222324</td>\n",
       "      <td>2.452871</td>\n",
       "      <td>4.306912</td>\n",
       "      <td>5.836188</td>\n",
       "      <td>8.215169</td>\n",
       "      <td>14.093378</td>\n",
       "      <td>23.819481</td>\n",
       "      <td>...</td>\n",
       "      <td>57.545242</td>\n",
       "      <td>48.854427</td>\n",
       "      <td>41.979611</td>\n",
       "      <td>43.966032</td>\n",
       "      <td>51.830477</td>\n",
       "      <td>45.149388</td>\n",
       "      <td>29.614859</td>\n",
       "      <td>17.397652</td>\n",
       "      <td>9.356960</td>\n",
       "      <td>2.12587</td>\n",
       "    </tr>\n",
       "    <tr>\n",
       "      <th>min</th>\n",
       "      <td>0.000000</td>\n",
       "      <td>0.000000</td>\n",
       "      <td>0.000000</td>\n",
       "      <td>0.000000</td>\n",
       "      <td>0.000000</td>\n",
       "      <td>0.000000</td>\n",
       "      <td>0.000000</td>\n",
       "      <td>0.000000</td>\n",
       "      <td>0.000000</td>\n",
       "      <td>0.000000</td>\n",
       "      <td>...</td>\n",
       "      <td>0.000000</td>\n",
       "      <td>0.000000</td>\n",
       "      <td>0.000000</td>\n",
       "      <td>0.000000</td>\n",
       "      <td>0.000000</td>\n",
       "      <td>0.000000</td>\n",
       "      <td>0.000000</td>\n",
       "      <td>0.000000</td>\n",
       "      <td>0.000000</td>\n",
       "      <td>0.00000</td>\n",
       "    </tr>\n",
       "    <tr>\n",
       "      <th>25%</th>\n",
       "      <td>2.000000</td>\n",
       "      <td>0.000000</td>\n",
       "      <td>0.000000</td>\n",
       "      <td>0.000000</td>\n",
       "      <td>0.000000</td>\n",
       "      <td>0.000000</td>\n",
       "      <td>0.000000</td>\n",
       "      <td>0.000000</td>\n",
       "      <td>0.000000</td>\n",
       "      <td>0.000000</td>\n",
       "      <td>...</td>\n",
       "      <td>0.000000</td>\n",
       "      <td>0.000000</td>\n",
       "      <td>0.000000</td>\n",
       "      <td>0.000000</td>\n",
       "      <td>0.000000</td>\n",
       "      <td>0.000000</td>\n",
       "      <td>0.000000</td>\n",
       "      <td>0.000000</td>\n",
       "      <td>0.000000</td>\n",
       "      <td>0.00000</td>\n",
       "    </tr>\n",
       "    <tr>\n",
       "      <th>50%</th>\n",
       "      <td>4.500000</td>\n",
       "      <td>0.000000</td>\n",
       "      <td>0.000000</td>\n",
       "      <td>0.000000</td>\n",
       "      <td>0.000000</td>\n",
       "      <td>0.000000</td>\n",
       "      <td>0.000000</td>\n",
       "      <td>0.000000</td>\n",
       "      <td>0.000000</td>\n",
       "      <td>0.000000</td>\n",
       "      <td>...</td>\n",
       "      <td>0.000000</td>\n",
       "      <td>0.000000</td>\n",
       "      <td>0.000000</td>\n",
       "      <td>0.000000</td>\n",
       "      <td>0.000000</td>\n",
       "      <td>0.000000</td>\n",
       "      <td>0.000000</td>\n",
       "      <td>0.000000</td>\n",
       "      <td>0.000000</td>\n",
       "      <td>0.00000</td>\n",
       "    </tr>\n",
       "    <tr>\n",
       "      <th>75%</th>\n",
       "      <td>7.000000</td>\n",
       "      <td>0.000000</td>\n",
       "      <td>0.000000</td>\n",
       "      <td>0.000000</td>\n",
       "      <td>0.000000</td>\n",
       "      <td>0.000000</td>\n",
       "      <td>0.000000</td>\n",
       "      <td>0.000000</td>\n",
       "      <td>0.000000</td>\n",
       "      <td>0.000000</td>\n",
       "      <td>...</td>\n",
       "      <td>58.000000</td>\n",
       "      <td>9.000000</td>\n",
       "      <td>0.000000</td>\n",
       "      <td>0.000000</td>\n",
       "      <td>0.000000</td>\n",
       "      <td>0.000000</td>\n",
       "      <td>0.000000</td>\n",
       "      <td>0.000000</td>\n",
       "      <td>0.000000</td>\n",
       "      <td>0.00000</td>\n",
       "    </tr>\n",
       "    <tr>\n",
       "      <th>max</th>\n",
       "      <td>9.000000</td>\n",
       "      <td>16.000000</td>\n",
       "      <td>36.000000</td>\n",
       "      <td>226.000000</td>\n",
       "      <td>164.000000</td>\n",
       "      <td>227.000000</td>\n",
       "      <td>230.000000</td>\n",
       "      <td>224.000000</td>\n",
       "      <td>255.000000</td>\n",
       "      <td>254.000000</td>\n",
       "      <td>...</td>\n",
       "      <td>255.000000</td>\n",
       "      <td>255.000000</td>\n",
       "      <td>255.000000</td>\n",
       "      <td>255.000000</td>\n",
       "      <td>255.000000</td>\n",
       "      <td>255.000000</td>\n",
       "      <td>255.000000</td>\n",
       "      <td>255.000000</td>\n",
       "      <td>255.000000</td>\n",
       "      <td>170.00000</td>\n",
       "    </tr>\n",
       "  </tbody>\n",
       "</table>\n",
       "<p>8 rows × 785 columns</p>\n",
       "</div>"
      ],
      "text/plain": [
       "              label        pixel1        pixel2        pixel3        pixel4  \\\n",
       "count  60000.000000  60000.000000  60000.000000  60000.000000  60000.000000   \n",
       "mean       4.500000      0.000900      0.006150      0.035333      0.101933   \n",
       "std        2.872305      0.094689      0.271011      1.222324      2.452871   \n",
       "min        0.000000      0.000000      0.000000      0.000000      0.000000   \n",
       "25%        2.000000      0.000000      0.000000      0.000000      0.000000   \n",
       "50%        4.500000      0.000000      0.000000      0.000000      0.000000   \n",
       "75%        7.000000      0.000000      0.000000      0.000000      0.000000   \n",
       "max        9.000000     16.000000     36.000000    226.000000    164.000000   \n",
       "\n",
       "             pixel5        pixel6        pixel7        pixel8        pixel9  \\\n",
       "count  60000.000000  60000.000000  60000.000000  60000.000000  60000.000000   \n",
       "mean       0.247967      0.411467      0.805767      2.198283      5.682000   \n",
       "std        4.306912      5.836188      8.215169     14.093378     23.819481   \n",
       "min        0.000000      0.000000      0.000000      0.000000      0.000000   \n",
       "25%        0.000000      0.000000      0.000000      0.000000      0.000000   \n",
       "50%        0.000000      0.000000      0.000000      0.000000      0.000000   \n",
       "75%        0.000000      0.000000      0.000000      0.000000      0.000000   \n",
       "max      227.000000    230.000000    224.000000    255.000000    254.000000   \n",
       "\n",
       "       ...      pixel775      pixel776      pixel777      pixel778  \\\n",
       "count  ...  60000.000000  60000.000000  60000.000000  60000.000000   \n",
       "mean   ...     34.625400     23.300683     16.588267     17.869433   \n",
       "std    ...     57.545242     48.854427     41.979611     43.966032   \n",
       "min    ...      0.000000      0.000000      0.000000      0.000000   \n",
       "25%    ...      0.000000      0.000000      0.000000      0.000000   \n",
       "50%    ...      0.000000      0.000000      0.000000      0.000000   \n",
       "75%    ...     58.000000      9.000000      0.000000      0.000000   \n",
       "max    ...    255.000000    255.000000    255.000000    255.000000   \n",
       "\n",
       "           pixel779      pixel780      pixel781      pixel782      pixel783  \\\n",
       "count  60000.000000  60000.000000  60000.000000  60000.000000  60000.000000   \n",
       "mean      22.814817     17.911483      8.520633      2.753300      0.855517   \n",
       "std       51.830477     45.149388     29.614859     17.397652      9.356960   \n",
       "min        0.000000      0.000000      0.000000      0.000000      0.000000   \n",
       "25%        0.000000      0.000000      0.000000      0.000000      0.000000   \n",
       "50%        0.000000      0.000000      0.000000      0.000000      0.000000   \n",
       "75%        0.000000      0.000000      0.000000      0.000000      0.000000   \n",
       "max      255.000000    255.000000    255.000000    255.000000    255.000000   \n",
       "\n",
       "          pixel784  \n",
       "count  60000.00000  \n",
       "mean       0.07025  \n",
       "std        2.12587  \n",
       "min        0.00000  \n",
       "25%        0.00000  \n",
       "50%        0.00000  \n",
       "75%        0.00000  \n",
       "max      170.00000  \n",
       "\n",
       "[8 rows x 785 columns]"
      ]
     },
     "execution_count": 11,
     "metadata": {},
     "output_type": "execute_result"
    }
   ],
   "source": [
    "train_df.describe()"
   ]
  },
  {
   "cell_type": "markdown",
   "metadata": {},
   "source": [
    "## split the training data into train and validate"
   ]
  },
  {
   "cell_type": "code",
   "execution_count": 12,
   "metadata": {},
   "outputs": [],
   "source": [
    "train_data = np.array(train_df, dtype='float32')\n",
    "test_data = np.array(test_df, dtype='float32')\n",
    "\n",
    "X_train = train_data[:, 1:] / 1\n",
    "y_train = train_data[:, 0]\n",
    "\n",
    "X_test = test_data[:, 1:] / 1#/128#/255\n",
    "y_test = test_data[:, 0]"
   ]
  },
  {
   "cell_type": "code",
   "execution_count": 13,
   "metadata": {},
   "outputs": [
    {
     "data": {
      "image/png": "[encoded data removed]",
      "text/plain": [
       "<Figure size 432x288 with 1 Axes>"
      ]
     },
     "metadata": {
      "needs_background": "light"
     },
     "output_type": "display_data"
    }
   ],
   "source": [
    "pca = PCA(random_state=0)\n",
    "pca.fit(X_train)\n",
    "cumsum = np.cumsum(pca.explained_variance_ratio_)\n",
    "x = np.arange(1, len(cumsum)+1)\n",
    "plt.plot(x, cumsum)\n",
    "plt.grid(True)\n",
    "plt.title('Variance as Dimensions Functions')\n",
    "plt.xlabel('Dimensions')\n",
    "plt.ylabel('Variance')\n",
    "plt.show()"
   ]
  },
  {
   "cell_type": "code",
   "execution_count": 14,
   "metadata": {},
   "outputs": [
    {
     "name": "stdout",
     "output_type": "stream",
     "text": [
      "the number of vectors after pca is 84\n"
     ]
    }
   ],
   "source": [
    "pca = PCA(random_state=0, n_components=0.90)\n",
    "pca.fit(X_train)\n",
    "X_train_pca = pca.transform(X_train)\n",
    "X_test_pca = pca.transform(X_test)\n",
    "d = len(pca.singular_values_)\n",
    "print('the number of vectors after pca is {}'.format(d))"
   ]
  },
  {
   "cell_type": "code",
   "execution_count": 15,
   "metadata": {},
   "outputs": [
    {
     "data": {
      "image/png": "[encoded data removed]",
      "text/plain": [
       "<Figure size 432x288 with 1 Axes>"
      ]
     },
     "metadata": {
      "needs_background": "light"
     },
     "output_type": "display_data"
    }
   ],
   "source": [
    "first_image = X_train[0]\n",
    "\n",
    "first_image = np.array(first_image, dtype='uint8')\n",
    "pixels = first_image.reshape((28, 28))\n",
    "plt.imshow(pixels, cmap='gray')\n",
    "plt.show()"
   ]
  },
  {
   "cell_type": "markdown",
   "metadata": {},
   "source": [
    "---\n",
    "# Models"
   ]
  },
  {
   "cell_type": "markdown",
   "metadata": {},
   "source": [
    "## Run The Models"
   ]
  },
  {
   "cell_type": "markdown",
   "metadata": {},
   "source": [
    "### Naive Bayes"
   ]
  },
  {
   "cell_type": "code",
   "execution_count": 57,
   "metadata": {},
   "outputs": [
    {
     "name": "stdout",
     "output_type": "stream",
     "text": [
      "Accuracy: 0.77 (+/- 0.01)\n",
      "Train time: 0.08 seconds (+/- 0.02) for a total of 0.79 seconds\n",
      "Test time: 0.08 seconds (+/- 0.01) for a total of 0.82 seconds\n",
      "confusion_matrix:\n",
      " [[4562    1  122  401   21   32  443    0  416    2]\n",
      " [  32 5455  101  251   11    9   72    0   69    0]\n",
      " [  94    0 3820   38  768   41  905    0  333    1]\n",
      " [ 387   43   60 4840  192   27  308    0  143    0]\n",
      " [  36    3  638  299 3964   11  871    1  177    0]\n",
      " [  15    0    0    2    1 4656  122  892  217   95]\n",
      " [1021    2  679  213  474   29 3080    1  501    0]\n",
      " [   3    0    0    0    0  323   17 5262   18  377]\n",
      " [  60    0   41   50   52  127  223  165 5275    7]\n",
      " [   4    0    0    0    0  110   30  415   74 5367]]\n",
      "              precision    recall  f1-score   support\n",
      "\n",
      "         0.0       0.73      0.76      0.75      6000\n",
      "         1.0       0.99      0.91      0.95      6000\n",
      "         2.0       0.70      0.64      0.67      6000\n",
      "         3.0       0.79      0.81      0.80      6000\n",
      "         4.0       0.72      0.66      0.69      6000\n",
      "         5.0       0.87      0.78      0.82      6000\n",
      "         6.0       0.51      0.51      0.51      6000\n",
      "         7.0       0.78      0.88      0.83      6000\n",
      "         8.0       0.73      0.88      0.80      6000\n",
      "         9.0       0.92      0.89      0.91      6000\n",
      "\n",
      "    accuracy                           0.77     60000\n",
      "   macro avg       0.77      0.77      0.77     60000\n",
      "weighted avg       0.77      0.77      0.77     60000\n",
      "\n",
      "f1 score 0.771253692186869\n",
      "accuracy score 0.77135\n",
      "y=0.995679x+(0.004138)\n",
      "integrate score is -0.0019771538616684733\n"
     ]
    },
    {
     "data": {
      "image/png": "[encoded data removed]",
      "text/plain": [
       "<Figure size 432x288 with 1 Axes>"
      ]
     },
     "metadata": {
      "needs_background": "light"
     },
     "output_type": "display_data"
    },
    {
     "name": "stdout",
     "output_type": "stream",
     "text": [
      "[0. 1. 2. 3. 4. 5. 6. 7. 8. 9.]\n",
      "{0: 0.9485, 1: 0.9901, 2: 0.9363166666666667, 3: 0.9597666666666667, 4: 0.94075, 5: 0.9657833333333333, 6: 0.9014833333333333, 7: 0.9631333333333333, 8: 0.95545, 9: 0.9814166666666667}\n",
      "{0: 0.948900038149995, 1: 0.9899092079870554, 2: 0.9349773075173896, 3: 0.9599054982322028, 4: 0.9395573316545519, 5: 0.9649274370593732, 6: 0.9017406601351745, 7: 0.9640720945119391, 8: 0.9572550898242034, 9: 0.981311229521987}\n"
     ]
    }
   ],
   "source": [
    "gnb = GaussianNB()\n",
    "\n",
    "# gnb.fit(X_train_pca, y_train)\n",
    "# predictions = gnb.predict(X_test_pca)\n",
    "# evaluate(y_test, predictions)\n",
    "\n",
    "gnb_scores = cross_validate(gnb, X_train_pca, y_train, cv=10, return_estimator=True)\n",
    "score_models(gnb, gnb_scores)\n",
    "\n",
    "pred = cross_val_predict(gnb, X_train_pca, y_train, cv=10, n_jobs=CORES)\n",
    "evaluate(y_train, pred, plot=True)"
   ]
  },
  {
   "cell_type": "code",
   "execution_count": 61,
   "metadata": {},
   "outputs": [
    {
     "name": "stdout",
     "output_type": "stream",
     "text": [
      "Features sorted by their score for estimator 0:\n"
     ]
    },
    {
     "ename": "AttributeError",
     "evalue": "'GaussianNB' object has no attribute 'feature_importances_'",
     "output_type": "error",
     "traceback": [
      "\u001b[1;31m---------------------------------------------------------------------------\u001b[0m",
      "\u001b[1;31mAttributeError\u001b[0m                            Traceback (most recent call last)",
      "\u001b[1;32m<ipython-input-61-e8ba8efcb532>\u001b[0m in \u001b[0;36m<module>\u001b[1;34m\u001b[0m\n\u001b[0;32m      2\u001b[0m \u001b[1;32mfor\u001b[0m \u001b[0midx\u001b[0m\u001b[1;33m,\u001b[0m\u001b[0mestimator\u001b[0m \u001b[1;32min\u001b[0m \u001b[0menumerate\u001b[0m\u001b[1;33m(\u001b[0m\u001b[0mgnb_scores\u001b[0m\u001b[1;33m[\u001b[0m\u001b[1;34m'estimator'\u001b[0m\u001b[1;33m]\u001b[0m\u001b[1;33m)\u001b[0m\u001b[1;33m:\u001b[0m\u001b[1;33m\u001b[0m\u001b[1;33m\u001b[0m\u001b[0m\n\u001b[0;32m      3\u001b[0m     \u001b[0mprint\u001b[0m\u001b[1;33m(\u001b[0m\u001b[1;34m\"Features sorted by their score for estimator {}:\"\u001b[0m\u001b[1;33m.\u001b[0m\u001b[0mformat\u001b[0m\u001b[1;33m(\u001b[0m\u001b[0midx\u001b[0m\u001b[1;33m)\u001b[0m\u001b[1;33m)\u001b[0m\u001b[1;33m\u001b[0m\u001b[1;33m\u001b[0m\u001b[0m\n\u001b[1;32m----> 4\u001b[1;33m     feature_importances = pd.DataFrame(estimator.feature_importances_,\n\u001b[0m\u001b[0;32m      5\u001b[0m                                        \u001b[0mindex\u001b[0m \u001b[1;33m=\u001b[0m \u001b[0mdiabetes\u001b[0m\u001b[1;33m.\u001b[0m\u001b[0mfeature_names\u001b[0m\u001b[1;33m,\u001b[0m\u001b[1;33m\u001b[0m\u001b[1;33m\u001b[0m\u001b[0m\n\u001b[0;32m      6\u001b[0m                                         columns=['importance']).sort_values('importance', ascending=False)\n",
      "\u001b[1;31mAttributeError\u001b[0m: 'GaussianNB' object has no attribute 'feature_importances_'"
     ]
    }
   ],
   "source": [
    "gnb_scores['estimator']\n",
    "for idx,estimator in enumerate(gnb_scores['estimator']):\n",
    "    print(\"Features sorted by their score for estimator {}:\".format(idx))\n",
    "    feature_importances = pd.DataFrame(estimator.feature_importances_,\n",
    "                                       index = diabetes.feature_names,\n",
    "                                        columns=['importance']).sort_values('importance', ascending=False)\n",
    "    print(feature_importances)"
   ]
  },
  {
   "cell_type": "code",
   "execution_count": 17,
   "metadata": {},
   "outputs": [],
   "source": [
    "# mnb = MultinomialNB()\n",
    "# mnb.fit(X_train_pca, y_train)\n",
    "# predictions = mnb.predict(X_test_pca)\n",
    "# evaluate(y_test, predictions)"
   ]
  },
  {
   "cell_type": "markdown",
   "metadata": {},
   "source": [
    "### Random Forest"
   ]
  },
  {
   "cell_type": "code",
   "execution_count": 60,
   "metadata": {},
   "outputs": [
    {
     "data": {
      "text/plain": [
       "(RandomForestClassifier(bootstrap=True, ccp_alpha=0.0, class_weight=None,\n",
       "                        criterion='gini', max_depth=None, max_features='auto',\n",
       "                        max_leaf_nodes=None, max_samples=None,\n",
       "                        min_impurity_decrease=0.0, min_impurity_split=None,\n",
       "                        min_samples_leaf=1, min_samples_split=2,\n",
       "                        min_weight_fraction_leaf=0.0, n_estimators=100, n_jobs=3,\n",
       "                        oob_score=False, random_state=0, verbose=0,\n",
       "                        warm_start=False),\n",
       " RandomForestClassifier(bootstrap=True, ccp_alpha=0.0, class_weight=None,\n",
       "                        criterion='gini', max_depth=None, max_features='auto',\n",
       "                        max_leaf_nodes=None, max_samples=None,\n",
       "                        min_impurity_decrease=0.0, min_impurity_split=None,\n",
       "                        min_samples_leaf=1, min_samples_split=2,\n",
       "                        min_weight_fraction_leaf=0.0, n_estimators=100, n_jobs=3,\n",
       "                        oob_score=False, random_state=0, verbose=0,\n",
       "                        warm_start=False),\n",
       " RandomForestClassifier(bootstrap=True, ccp_alpha=0.0, class_weight=None,\n",
       "                        criterion='gini', max_depth=None, max_features='auto',\n",
       "                        max_leaf_nodes=None, max_samples=None,\n",
       "                        min_impurity_decrease=0.0, min_impurity_split=None,\n",
       "                        min_samples_leaf=1, min_samples_split=2,\n",
       "                        min_weight_fraction_leaf=0.0, n_estimators=100, n_jobs=3,\n",
       "                        oob_score=False, random_state=0, verbose=0,\n",
       "                        warm_start=False),\n",
       " RandomForestClassifier(bootstrap=True, ccp_alpha=0.0, class_weight=None,\n",
       "                        criterion='gini', max_depth=None, max_features='auto',\n",
       "                        max_leaf_nodes=None, max_samples=None,\n",
       "                        min_impurity_decrease=0.0, min_impurity_split=None,\n",
       "                        min_samples_leaf=1, min_samples_split=2,\n",
       "                        min_weight_fraction_leaf=0.0, n_estimators=100, n_jobs=3,\n",
       "                        oob_score=False, random_state=0, verbose=0,\n",
       "                        warm_start=False),\n",
       " RandomForestClassifier(bootstrap=True, ccp_alpha=0.0, class_weight=None,\n",
       "                        criterion='gini', max_depth=None, max_features='auto',\n",
       "                        max_leaf_nodes=None, max_samples=None,\n",
       "                        min_impurity_decrease=0.0, min_impurity_split=None,\n",
       "                        min_samples_leaf=1, min_samples_split=2,\n",
       "                        min_weight_fraction_leaf=0.0, n_estimators=100, n_jobs=3,\n",
       "                        oob_score=False, random_state=0, verbose=0,\n",
       "                        warm_start=False),\n",
       " RandomForestClassifier(bootstrap=True, ccp_alpha=0.0, class_weight=None,\n",
       "                        criterion='gini', max_depth=None, max_features='auto',\n",
       "                        max_leaf_nodes=None, max_samples=None,\n",
       "                        min_impurity_decrease=0.0, min_impurity_split=None,\n",
       "                        min_samples_leaf=1, min_samples_split=2,\n",
       "                        min_weight_fraction_leaf=0.0, n_estimators=100, n_jobs=3,\n",
       "                        oob_score=False, random_state=0, verbose=0,\n",
       "                        warm_start=False),\n",
       " RandomForestClassifier(bootstrap=True, ccp_alpha=0.0, class_weight=None,\n",
       "                        criterion='gini', max_depth=None, max_features='auto',\n",
       "                        max_leaf_nodes=None, max_samples=None,\n",
       "                        min_impurity_decrease=0.0, min_impurity_split=None,\n",
       "                        min_samples_leaf=1, min_samples_split=2,\n",
       "                        min_weight_fraction_leaf=0.0, n_estimators=100, n_jobs=3,\n",
       "                        oob_score=False, random_state=0, verbose=0,\n",
       "                        warm_start=False),\n",
       " RandomForestClassifier(bootstrap=True, ccp_alpha=0.0, class_weight=None,\n",
       "                        criterion='gini', max_depth=None, max_features='auto',\n",
       "                        max_leaf_nodes=None, max_samples=None,\n",
       "                        min_impurity_decrease=0.0, min_impurity_split=None,\n",
       "                        min_samples_leaf=1, min_samples_split=2,\n",
       "                        min_weight_fraction_leaf=0.0, n_estimators=100, n_jobs=3,\n",
       "                        oob_score=False, random_state=0, verbose=0,\n",
       "                        warm_start=False),\n",
       " RandomForestClassifier(bootstrap=True, ccp_alpha=0.0, class_weight=None,\n",
       "                        criterion='gini', max_depth=None, max_features='auto',\n",
       "                        max_leaf_nodes=None, max_samples=None,\n",
       "                        min_impurity_decrease=0.0, min_impurity_split=None,\n",
       "                        min_samples_leaf=1, min_samples_split=2,\n",
       "                        min_weight_fraction_leaf=0.0, n_estimators=100, n_jobs=3,\n",
       "                        oob_score=False, random_state=0, verbose=0,\n",
       "                        warm_start=False),\n",
       " RandomForestClassifier(bootstrap=True, ccp_alpha=0.0, class_weight=None,\n",
       "                        criterion='gini', max_depth=None, max_features='auto',\n",
       "                        max_leaf_nodes=None, max_samples=None,\n",
       "                        min_impurity_decrease=0.0, min_impurity_split=None,\n",
       "                        min_samples_leaf=1, min_samples_split=2,\n",
       "                        min_weight_fraction_leaf=0.0, n_estimators=100, n_jobs=3,\n",
       "                        oob_score=False, random_state=0, verbose=0,\n",
       "                        warm_start=False))"
      ]
     },
     "execution_count": 60,
     "metadata": {},
     "output_type": "execute_result"
    }
   ],
   "source": [
    "rf = RandomForestClassifier(random_state=0, max_depth=None, n_estimators=100, n_jobs=CORES)\n",
    "\n",
    "# scores = cross_val_score(rf, X_train_pca, y_train, cv=10, scoring='neg_mean_squared_error')\n",
    "# rf_score = np.sqrt(-scores)\n",
    "rf_scores = cross_validate(rf, X_train_pca, y_train, cv=10, n_jobs=CORES, return_estimator=True)\n",
    "\n",
    "\n",
    "score_models(rf, rf_scores)\n",
    "\n",
    "pred = cross_val_predict(rf, X_train_pca, y_train, cv=10, n_jobs=CORES)\n",
    "evaluate(y_train, pred, plot=True)\n",
    "# rf_scores['estimator']"
   ]
  },
  {
   "cell_type": "code",
   "execution_count": 110,
   "metadata": {},
   "outputs": [
    {
     "name": "stdout",
     "output_type": "stream",
     "text": [
      "confusion_matrix:\n",
      " [[5160    6   97  205   25   10  433    0   63    1]\n",
      " [  17 5757   34  154   12    0   21    0    4    1]\n",
      " [  59    2 4919   52  570    6  342    0   49    1]\n",
      " [ 169   22   43 5409  177    2  145    0   32    1]\n",
      " [  14    4  520  223 4893    2  297    0   47    0]\n",
      " [   0    0    0    4    0 5656    0  191   22  127]\n",
      " [ 940    6  673  138  524   11 3608    0  100    0]\n",
      " [   0    0    0    0    0  207    0 5530    7  256]\n",
      " [  13    1   22   35   24   74   53   23 5744   11]\n",
      " [   0    0    0    0    1  107    0  198    3 5691]]\n",
      "              precision    recall  f1-score   support\n",
      "\n",
      "         0.0       0.81      0.86      0.83      6000\n",
      "         1.0       0.99      0.96      0.98      6000\n",
      "         2.0       0.78      0.82      0.80      6000\n",
      "         3.0       0.87      0.90      0.89      6000\n",
      "         4.0       0.79      0.82      0.80      6000\n",
      "         5.0       0.93      0.94      0.94      6000\n",
      "         6.0       0.74      0.60      0.66      6000\n",
      "         7.0       0.93      0.92      0.93      6000\n",
      "         8.0       0.95      0.96      0.95      6000\n",
      "         9.0       0.93      0.95      0.94      6000\n",
      "\n",
      "    accuracy                           0.87     60000\n",
      "   macro avg       0.87      0.87      0.87     60000\n",
      "weighted avg       0.87      0.87      0.87     60000\n",
      "\n",
      "f1 score 0.8713335840338134\n",
      "accuracy score 0.8727833333333334\n"
     ]
    }
   ],
   "source": [
    "predictions = np.array([])\n",
    "size = len(y_train)\n",
    "split = size//CV_SPLIT\n",
    "X_cv_split = np.arange(0, size+1, split)\n",
    "# print(X_cv_split)\n",
    "index = 0\n",
    "for idx,estimator in enumerate(rf_scores['estimator']):\n",
    "#     print(\"Features sorted by their score for estimator {}:\".format(idx))\n",
    "#     feature_importances = pd.DataFrame(estimator.feature_importances_,\n",
    "#                                        index = test_df.columns[1:],\n",
    "#                                         columns=['importance']).sort_values('importance', ascending=False)\n",
    "#     print(feature_importances)\n",
    "\n",
    "#     print(estimator.feature_importances_)\n",
    "#     print(estimator.base_estimator_)\n",
    "#     print(len(estimator.estimators_))\n",
    "#     print(estimator.classes_)\n",
    "#     print(estimator.n_classes_)\n",
    "#     print(estimator.n_features_)\n",
    "#     print(estimator.n_outputs_)\n",
    "#     print(estimator.oob_score_)\n",
    "\n",
    "    predictions = np.append(predictions, estimator.predict(X_train_pca[X_cv_split[index]:X_cv_split[index+1]]))\n",
    "#     print(predictions)\n",
    "    index = index+1\n",
    "evaluate(y_train, predictions)\n",
    "# from sklearn import datasets\n",
    "# dbdf = datasets.load_diabetes()\n",
    "# test_df.columns[1:]"
   ]
  },
  {
   "cell_type": "markdown",
   "metadata": {},
   "source": [
    "### KNN"
   ]
  },
  {
   "cell_type": "markdown",
   "metadata": {},
   "source": [
    "#### find the optimum K "
   ]
  },
  {
   "cell_type": "code",
   "execution_count": 19,
   "metadata": {},
   "outputs": [],
   "source": [
    "k_max = 15\n",
    "k_min = 1\n",
    "err_rate = []\n",
    "for i in range(k_min, k_max+1):\n",
    "    k = KNeighborsClassifier(n_neighbors=i, n_jobs=CORES)\n",
    "#     k.fit(X_train_pca, y_train)\n",
    "#     pred_i = k.predict(X_test_pca)\n",
    "#     err_rate.append(np.mean(pred_i != y_test))\n",
    "    scores = cross_validate(k, X_train_pca, y_train, cv=10, n_jobs=CORES)['test_score']\n",
    "    if scores.std() > 0.5:\n",
    "        err_rate.append(0)\n",
    "    else:\n",
    "        err_rate.append(scores.mean())"
   ]
  },
  {
   "cell_type": "code",
   "execution_count": 20,
   "metadata": {},
   "outputs": [
    {
     "data": {
      "image/png": "[encoded data removed]",
      "text/plain": [
       "<Figure size 432x288 with 1 Axes>"
      ]
     },
     "metadata": {
      "needs_background": "light"
     },
     "output_type": "display_data"
    }
   ],
   "source": [
    "plt.plot(np.arange(k_min, k_max+1), err_rate)\n",
    "plt.show()"
   ]
  },
  {
   "cell_type": "code",
   "execution_count": 21,
   "metadata": {},
   "outputs": [
    {
     "data": {
      "text/plain": [
       "8"
      ]
     },
     "execution_count": 21,
     "metadata": {},
     "output_type": "execute_result"
    }
   ],
   "source": [
    "index = err_rate.index(max(err_rate)) + 1\n",
    "index"
   ]
  },
  {
   "cell_type": "code",
   "execution_count": 22,
   "metadata": {},
   "outputs": [
    {
     "name": "stdout",
     "output_type": "stream",
     "text": [
      "Accuracy: 0.86 (+/- 0.01)\n",
      "Train time: 2.16 seconds (+/- 0.44) for a total of 21.56 seconds\n",
      "Test time: 20.14 seconds (+/- 8.83) for a total of 201.40 seconds\n",
      "confusion_matrix:\n",
      " [[5260    2   86  134   38    1  426    1   50    2]\n",
      " [  29 5801   22  109    9    0   25    0    4    1]\n",
      " [  94    5 4786   49  630    1  415    1   19    0]\n",
      " [ 217   28   41 5331  232    0  136    0   15    0]\n",
      " [  23    8  613  222 4680    0  436    0   18    0]\n",
      " [   3    0    0    2    0 5417    5  310   19  244]\n",
      " [1164    8  730  102  498    0 3436    0   61    1]\n",
      " [   0    0    0    0    0   71    0 5692    1  236]\n",
      " [  21    1   53   33   36    9   46   25 5768    8]\n",
      " [   0    0    2    0    0   34    1  238    2 5723]]\n",
      "              precision    recall  f1-score   support\n",
      "\n",
      "         0.0       0.77      0.88      0.82      6000\n",
      "         1.0       0.99      0.97      0.98      6000\n",
      "         2.0       0.76      0.80      0.78      6000\n",
      "         3.0       0.89      0.89      0.89      6000\n",
      "         4.0       0.76      0.78      0.77      6000\n",
      "         5.0       0.98      0.90      0.94      6000\n",
      "         6.0       0.70      0.57      0.63      6000\n",
      "         7.0       0.91      0.95      0.93      6000\n",
      "         8.0       0.97      0.96      0.96      6000\n",
      "         9.0       0.92      0.95      0.94      6000\n",
      "\n",
      "    accuracy                           0.86     60000\n",
      "   macro avg       0.86      0.86      0.86     60000\n",
      "weighted avg       0.86      0.86      0.86     60000\n",
      "\n",
      "y=0.975314x+(0.024135)\n"
     ]
    },
    {
     "data": {
      "image/png": "[encoded data removed]",
      "text/plain": [
       "<Figure size 432x288 with 1 Axes>"
      ]
     },
     "metadata": {
      "needs_background": "light"
     },
     "output_type": "display_data"
    },
    {
     "name": "stdout",
     "output_type": "stream",
     "text": [
      "[0. 1. 2. 3. 4. 5. 6. 7. 8. 9.]\n",
      "{0: 0.9618166666666667, 1: 0.9958166666666667, 2: 0.9539833333333333, 3: 0.978, 4: 0.95395, 5: 0.98835, 6: 0.9324333333333333, 7: 0.9852833333333333, 8: 0.9929833333333333, 9: 0.9871833333333333}\n",
      "{0: 0.9628808151164308, 1: 0.9957935690974834, 2: 0.9545334133470631, 3: 0.977985308240648, 4: 0.9541573589140632, 5: 0.9881392104755505, 6: 0.929445159917781, 7: 0.9854252561840876, 8: 0.9929721128760718, 9: 0.9872833456166082}\n"
     ]
    }
   ],
   "source": [
    "k = KNeighborsClassifier(n_neighbors=index, n_jobs=CORES)\n",
    "k_scores = cross_validate(k, X_train_pca, y_train, cv=10, n_jobs=CORES)\n",
    "score_models(k, k_scores)\n",
    "\n",
    "pred = cross_val_predict(k, X_train_pca, y_train, cv=10, n_jobs=CORES)\n",
    "evaluate(y_train, pred, plot=True)"
   ]
  },
  {
   "cell_type": "markdown",
   "metadata": {},
   "source": [
    "### Logistic Regression"
   ]
  },
  {
   "cell_type": "code",
   "execution_count": 23,
   "metadata": {},
   "outputs": [
    {
     "name": "stdout",
     "output_type": "stream",
     "text": [
      "Accuracy: 0.84 (+/- 0.01)\n",
      "Train time: 17.08 seconds (+/- 5.24) for a total of 170.84 seconds\n",
      "Test time: 0.01 seconds (+/- 0.00) for a total of 0.10 seconds\n",
      "confusion_matrix:\n",
      " [[4962   18  101  302   36   16  488    9   63    5]\n",
      " [  25 5764   29  136   17    1   24    2    2    0]\n",
      " [  90   25 4378   69  805   19  557    6   49    2]\n",
      " [ 226   74   65 5183  219    4  194    4   26    5]\n",
      " [  13   12  558  237 4543    4  599    2   32    0]\n",
      " [   6    0    0    3    1 5552    3  294   42   99]\n",
      " [ 925   16  672  212  641   10 3393    7  121    3]\n",
      " [   0    0    0    0    0  243    1 5517   14  225]\n",
      " [  28    8   39   57   20   55  127   40 5610   16]\n",
      " [   0    1    0    1    0  100    1  218    4 5675]]\n",
      "              precision    recall  f1-score   support\n",
      "\n",
      "         0.0       0.79      0.83      0.81      6000\n",
      "         1.0       0.97      0.96      0.97      6000\n",
      "         2.0       0.75      0.73      0.74      6000\n",
      "         3.0       0.84      0.86      0.85      6000\n",
      "         4.0       0.72      0.76      0.74      6000\n",
      "         5.0       0.92      0.93      0.93      6000\n",
      "         6.0       0.63      0.57      0.60      6000\n",
      "         7.0       0.90      0.92      0.91      6000\n",
      "         8.0       0.94      0.94      0.94      6000\n",
      "         9.0       0.94      0.95      0.94      6000\n",
      "\n",
      "    accuracy                           0.84     60000\n",
      "   macro avg       0.84      0.84      0.84     60000\n",
      "weighted avg       0.84      0.84      0.84     60000\n",
      "\n",
      "y=0.984084x+(0.015511)\n"
     ]
    },
    {
     "data": {
      "image/png": "[encoded data removed]",
      "text/plain": [
       "<Figure size 432x288 with 1 Axes>"
      ]
     },
     "metadata": {
      "needs_background": "light"
     },
     "output_type": "display_data"
    },
    {
     "name": "stdout",
     "output_type": "stream",
     "text": [
      "[0. 1. 2. 3. 4. 5. 6. 7. 8. 9.]\n",
      "{0: 0.9608166666666667, 1: 0.9935, 2: 0.9485666666666667, 3: 0.9694333333333334, 4: 0.9467333333333333, 5: 0.985, 6: 0.9233166666666667, 7: 0.98225, 8: 0.9876166666666667, 9: 0.9886666666666667}\n",
      "{0: 0.9612055703049412, 1: 0.993480104586053, 2: 0.9482611137061242, 3: 0.9696555248030659, 4: 0.947275121464863, 5: 0.9850022213788782, 6: 0.9214690037166474, 7: 0.9823144767570123, 8: 0.9875996371412259, 9: 0.9886792234935493}\n"
     ]
    }
   ],
   "source": [
    "lr = LogisticRegression(random_state=0, n_jobs=CORES)#, solver='lbfgs', penalty='l2')\n",
    "lr_scores = cross_validate(lr, X_train_pca, y_train, cv=10, n_jobs=CORES)\n",
    "score_models(lr, lr_scores)\n",
    "\n",
    "pred = cross_val_predict(lr, X_train_pca, y_train, cv=10, n_jobs=CORES)\n",
    "evaluate(y_train, pred, plot=True)"
   ]
  },
  {
   "cell_type": "markdown",
   "metadata": {},
   "source": [
    "### SVM"
   ]
  },
  {
   "cell_type": "markdown",
   "metadata": {},
   "source": [
    "#### SVC"
   ]
  },
  {
   "cell_type": "code",
   "execution_count": 24,
   "metadata": {},
   "outputs": [
    {
     "name": "stdout",
     "output_type": "stream",
     "text": [
      "Accuracy: 0.79 (+/- 0.02)\n",
      "Train time: 113.52 seconds (+/- 36.53) for a total of 1135.17 seconds\n",
      "Test time: 16.19 seconds (+/- 5.95) for a total of 161.89 seconds\n",
      "confusion_matrix:\n",
      " [[3568    7   62  283   17    3 2017    0   42    1]\n",
      " [  15 5799   13  135    7    0   27    0    3    1]\n",
      " [ 142    4 2909   64  936    2 1919    0   24    0]\n",
      " [  90   26   97 5362   78    0  327    0   20    0]\n",
      " [  23    8  753  479 2992    0 1729    0   16    0]\n",
      " [   3    0    0    2    0 5465    1  457   17   55]\n",
      " [ 799   10  435  191  627    1 3874    0   63    0]\n",
      " [   0    0    0    0    0   53    0 5579    9  359]\n",
      " [  18    1   30   25   25    9   40   18 5832    2]\n",
      " [   1    0    0    1    0   60    0  121    3 5814]]\n",
      "              precision    recall  f1-score   support\n",
      "\n",
      "         0.0       0.77      0.59      0.67      6000\n",
      "         1.0       0.99      0.97      0.98      6000\n",
      "         2.0       0.68      0.48      0.56      6000\n",
      "         3.0       0.82      0.89      0.86      6000\n",
      "         4.0       0.64      0.50      0.56      6000\n",
      "         5.0       0.98      0.91      0.94      6000\n",
      "         6.0       0.39      0.65      0.49      6000\n",
      "         7.0       0.90      0.93      0.92      6000\n",
      "         8.0       0.97      0.97      0.97      6000\n",
      "         9.0       0.93      0.97      0.95      6000\n",
      "\n",
      "    accuracy                           0.79     60000\n",
      "   macro avg       0.81      0.79      0.79     60000\n",
      "weighted avg       0.81      0.79      0.79     60000\n",
      "\n",
      "y=1.044005x+(-0.042290)\n"
     ]
    },
    {
     "data": {
      "image/png": "[encoded data removed]",
      "text/plain": [
       "<Figure size 432x288 with 1 Axes>"
      ]
     },
     "metadata": {
      "needs_background": "light"
     },
     "output_type": "display_data"
    },
    {
     "name": "stdout",
     "output_type": "stream",
     "text": [
      "[0. 1. 2. 3. 4. 5. 6. 7. 8. 9.]\n",
      "{0: 0.9412833333333334, 1: 0.9957166666666667, 2: 0.9253166666666667, 3: 0.9697, 4: 0.9217, 5: 0.98895, 6: 0.8635666666666667, 7: 0.98305, 8: 0.9939166666666667, 9: 0.9899333333333333}\n",
      "{0: 0.9379498474978311, 1: 0.995693343202094, 2: 0.9197282665959483, 3: 0.9702782901530739, 4: 0.9173414866817766, 5: 0.9887767745518661, 6: 0.8778301237902603, 7: 0.983158062321495, 8: 0.9939231826765627, 9: 0.9900179631569577}\n"
     ]
    }
   ],
   "source": [
    "svc = SVC(random_state=0, max_iter=500)\n",
    "\n",
    "svc_scores = cross_validate(svc, X_train_pca, y_train, cv=10, n_jobs=CORES)\n",
    "score_models(svc, svc_scores)\n",
    "\n",
    "pred = cross_val_predict(svc, X_train_pca, y_train, cv=10, n_jobs=CORES)\n",
    "evaluate(y_train, pred, plot=True)"
   ]
  },
  {
   "cell_type": "markdown",
   "metadata": {},
   "source": [
    "### Decision Tree"
   ]
  },
  {
   "cell_type": "code",
   "execution_count": 25,
   "metadata": {},
   "outputs": [
    {
     "name": "stdout",
     "output_type": "stream",
     "text": [
      "Accuracy: 0.77 (+/- 0.01)\n",
      "Train time: 12.85 seconds (+/- 0.43) for a total of 128.53 seconds\n",
      "Test time: 0.00 seconds (+/- 0.00) for a total of 0.03 seconds\n",
      "confusion_matrix:\n",
      " [[4347   72  152  328   68   18  923    2   87    3]\n",
      " [  68 5612   45  167   39    3   53    0   12    1]\n",
      " [ 144   31 3887  107  904   19  801    1  103    3]\n",
      " [ 335  180  113 4649  301   13  327    1   79    2]\n",
      " [  82   31  875  302 3859    7  756    2   83    3]\n",
      " [  20    2   16   11   13 5040   16  507   99  276]\n",
      " [ 924   50  808  261  736   13 3059    4  143    2]\n",
      " [   1    1    3    1    1  476    3 5060   46  408]\n",
      " [  82   14  114   72   94  115  189   41 5264   15]\n",
      " [   6    2    2    2    0  223    4  405   22 5334]]\n",
      "              precision    recall  f1-score   support\n",
      "\n",
      "         0.0       0.72      0.72      0.72      6000\n",
      "         1.0       0.94      0.94      0.94      6000\n",
      "         2.0       0.65      0.65      0.65      6000\n",
      "         3.0       0.79      0.77      0.78      6000\n",
      "         4.0       0.64      0.64      0.64      6000\n",
      "         5.0       0.85      0.84      0.85      6000\n",
      "         6.0       0.50      0.51      0.50      6000\n",
      "         7.0       0.84      0.84      0.84      6000\n",
      "         8.0       0.89      0.88      0.88      6000\n",
      "         9.0       0.88      0.89      0.89      6000\n",
      "\n",
      "    accuracy                           0.77     60000\n",
      "   macro avg       0.77      0.77      0.77     60000\n",
      "weighted avg       0.77      0.77      0.77     60000\n",
      "\n",
      "y=1.004338x+(-0.004172)\n"
     ]
    },
    {
     "data": {
      "image/png": "[encoded data removed]",
      "text/plain": [
       "<Figure size 432x288 with 1 Axes>"
      ]
     },
     "metadata": {
      "needs_background": "light"
     },
     "output_type": "display_data"
    },
    {
     "name": "stdout",
     "output_type": "stream",
     "text": [
      "[0. 1. 2. 3. 4. 5. 6. 7. 8. 9.]\n",
      "{0: 0.94475, 1: 0.98715, 2: 0.9293166666666667, 3: 0.9566333333333333, 4: 0.9283833333333333, 5: 0.9692166666666666, 6: 0.8997833333333334, 7: 0.9682833333333334, 8: 0.9765, 9: 0.9770166666666666}\n",
      "{0: 0.9447684009473934, 1: 0.9871476192406836, 2: 0.9293558793509316, 3: 0.9564711790359067, 4: 0.9284230637988572, 5: 0.9691328575421708, 6: 0.9002635888350755, 7: 0.9683102923692849, 8: 0.9764457178782027, 9: 0.9770564969164465}\n"
     ]
    }
   ],
   "source": [
    "dtc = DecisionTreeClassifier(random_state=0)\n",
    "dtc_scores = cross_validate(dtc, X_train_pca, y_train, cv=10, n_jobs=CORES)\n",
    "score_models(dtc, dtc_scores)\n",
    "\n",
    "pred = cross_val_predict(dtc, X_train_pca, y_train, cv=10, n_jobs=CORES)\n",
    "evaluate(y_train, pred, plot=True)"
   ]
  },
  {
   "cell_type": "markdown",
   "metadata": {},
   "source": [
    "### Gradient Boosting"
   ]
  },
  {
   "cell_type": "code",
   "execution_count": 26,
   "metadata": {},
   "outputs": [],
   "source": [
    "# gb = GradientBoostingClassifier(random_state=0)\n",
    "# gb_scores = cross_validate(gb, X_train_pca, y_train, cv=10, n_jobs=CORES)\n",
    "# score_models(gb, gb_scores)\n",
    "\n",
    "# pred = cross_val_predict(gb, X_train_pca, y_train, cv=10, n_jobs=CORES)\n",
    "# evaluate(y_train, pred, plot=True)"
   ]
  },
  {
   "cell_type": "markdown",
   "metadata": {},
   "source": [
    "## Find Best Model"
   ]
  },
  {
   "cell_type": "code",
   "execution_count": 27,
   "metadata": {},
   "outputs": [
    {
     "name": "stdout",
     "output_type": "stream",
     "text": [
      "the best model is RandomForestClassifier with the score of 0.8675\n"
     ]
    }
   ],
   "source": [
    "best_model, best_model_score = find_best_model()"
   ]
  },
  {
   "cell_type": "markdown",
   "metadata": {},
   "source": [
    "## Improve The Model"
   ]
  },
  {
   "cell_type": "markdown",
   "metadata": {},
   "source": [
    "### Ada Boost"
   ]
  },
  {
   "cell_type": "code",
   "execution_count": 29,
   "metadata": {},
   "outputs": [
    {
     "name": "stdout",
     "output_type": "stream",
     "text": [
      "confusion_matrix:\n",
      " [[5162    5   93  213   25   12  422    0   67    1]\n",
      " [  20 5740   36  158   12    0   27    0    6    1]\n",
      " [  55    1 4861   55  614    9  354    0   51    0]\n",
      " [ 162   23   45 5413  189    3  136    0   28    1]\n",
      " [  11    5  508  226 4856    4  346    0   44    0]\n",
      " [   0    0    0    4    0 5633    0  217   18  128]\n",
      " [ 995    5  718  151  535    9 3479    0  108    0]\n",
      " [   0    0    0    0    0  207    0 5525    5  263]\n",
      " [  13    0   34   37   27   66   45   25 5742   11]\n",
      " [   0    0    1    0    0  111    0  204    3 5681]]\n",
      "              precision    recall  f1-score   support\n",
      "\n",
      "         0.0       0.80      0.86      0.83      6000\n",
      "         1.0       0.99      0.96      0.97      6000\n",
      "         2.0       0.77      0.81      0.79      6000\n",
      "         3.0       0.87      0.90      0.88      6000\n",
      "         4.0       0.78      0.81      0.79      6000\n",
      "         5.0       0.93      0.94      0.93      6000\n",
      "         6.0       0.72      0.58      0.64      6000\n",
      "         7.0       0.93      0.92      0.92      6000\n",
      "         8.0       0.95      0.96      0.95      6000\n",
      "         9.0       0.93      0.95      0.94      6000\n",
      "\n",
      "    accuracy                           0.87     60000\n",
      "   macro avg       0.87      0.87      0.87     60000\n",
      "weighted avg       0.87      0.87      0.87     60000\n",
      "\n",
      "y=0.967465x+(0.031828)\n"
     ]
    },
    {
     "data": {
      "image/png": "[encoded data removed]",
      "text/plain": [
       "<Figure size 432x288 with 1 Axes>"
      ]
     },
     "metadata": {
      "needs_background": "light"
     },
     "output_type": "display_data"
    },
    {
     "name": "stdout",
     "output_type": "stream",
     "text": [
      "[0. 1. 2. 3. 4. 5. 6. 7. 8. 9.]\n",
      "{0: 0.9651, 1: 0.9950166666666667, 2: 0.9571, 3: 0.97615, 4: 0.9575666666666667, 5: 0.9868666666666667, 6: 0.9358166666666666, 7: 0.98465, 8: 0.9902, 9: 0.9879333333333333}\n",
      "{0: 0.965619580845281, 1: 0.9949750057847114, 2: 0.9575574125880851, 3: 0.9763715939820112, 4: 0.9579624183887083, 5: 0.9868927993115523, 6: 0.9326306553001198, 7: 0.9846334674770076, 8: 0.9902259558061903, 9: 0.9879714563988139}\n"
     ]
    }
   ],
   "source": [
    "base_estimetor = best_model\n",
    "adb = AdaBoostClassifier(base_estimetor, random_state=0)\n",
    "adb_scores = cross_validate(adb, X_train_pca, y_train, cv=10, n_jobs=CORES)\n",
    "\n",
    "pred = cross_val_predict(adb, X_train_pca, y_train, cv=10, n_jobs=CORES)\n",
    "evaluate(y_train, pred, plot=True)"
   ]
  },
  {
   "cell_type": "markdown",
   "metadata": {},
   "source": [
    "#### check if the model was improved"
   ]
  },
  {
   "cell_type": "code",
   "execution_count": 30,
   "metadata": {},
   "outputs": [],
   "source": [
    "if adb_scores['test_score'].mean() > best_model_score:\n",
    "    best_model = adb"
   ]
  },
  {
   "cell_type": "markdown",
   "metadata": {},
   "source": [
    "## Test The Model On The Test Data"
   ]
  },
  {
   "cell_type": "code",
   "execution_count": 31,
   "metadata": {},
   "outputs": [
    {
     "name": "stdout",
     "output_type": "stream",
     "text": [
      "confusion_matrix:\n",
      " [[857   0  19  36   3   3  70   0  12   0]\n",
      " [  4 963   8  19   2   0   4   0   0   0]\n",
      " [ 12   0 802   7 105   1  61   0  12   0]\n",
      " [ 26   6  11 909  24   1  19   0   4   0]\n",
      " [  1   1  66  26 850   0  50   0   6   0]\n",
      " [  1   0   0   1   0 917   0  52   5  24]\n",
      " [178   2 104  26  83   1 591   0  15   0]\n",
      " [  0   0   0   0   0  39   0 903   0  58]\n",
      " [  2   0   6   4   3  10   5   4 965   1]\n",
      " [  0   0   0   0   0  16   0  39   0 945]]\n",
      "              precision    recall  f1-score   support\n",
      "\n",
      "         0.0       0.79      0.86      0.82      1000\n",
      "         1.0       0.99      0.96      0.98      1000\n",
      "         2.0       0.79      0.80      0.80      1000\n",
      "         3.0       0.88      0.91      0.90      1000\n",
      "         4.0       0.79      0.85      0.82      1000\n",
      "         5.0       0.93      0.92      0.92      1000\n",
      "         6.0       0.74      0.59      0.66      1000\n",
      "         7.0       0.90      0.90      0.90      1000\n",
      "         8.0       0.95      0.96      0.96      1000\n",
      "         9.0       0.92      0.94      0.93      1000\n",
      "\n",
      "    accuracy                           0.87     10000\n",
      "   macro avg       0.87      0.87      0.87     10000\n",
      "weighted avg       0.87      0.87      0.87     10000\n",
      "\n",
      "y=0.964733x+(0.034505)\n"
     ]
    },
    {
     "data": {
      "image/png": "[encoded data removed]",
      "text/plain": [
       "<Figure size 432x288 with 1 Axes>"
      ]
     },
     "metadata": {
      "needs_background": "light"
     },
     "output_type": "display_data"
    },
    {
     "name": "stdout",
     "output_type": "stream",
     "text": [
      "[0. 1. 2. 3. 4. 5. 6. 7. 8. 9.]\n",
      "{0: 0.9633, 1: 0.9954, 2: 0.9588, 3: 0.979, 4: 0.963, 5: 0.9846, 6: 0.9382, 7: 0.9808, 8: 0.9911, 9: 0.9862}\n",
      "{0: 0.9639312996905103, 1: 0.9953709150201783, 2: 0.9589451646613568, 3: 0.9791286116338762, 4: 0.9635533785440428, 5: 0.9845586510401517, 6: 0.935106227106227, 7: 0.9807914569385517, 8: 0.9911371749812738, 9: 0.9862845162165471}\n"
     ]
    }
   ],
   "source": [
    "best_model.fit(X_train_pca, y_train)\n",
    "predictions = best_model.predict(X_test_pca)\n",
    "evaluate(y_test, predictions, plot=True)"
   ]
  },
  {
   "cell_type": "markdown",
   "metadata": {},
   "source": [
    "### run without pca"
   ]
  },
  {
   "cell_type": "code",
   "execution_count": null,
   "metadata": {},
   "outputs": [],
   "source": [
    "best_model.fit(X_train, y_train)\n",
    "predictions = best_model.predict(X_test)\n",
    "evaluate(y_test, predictions)"
   ]
  },
  {
   "cell_type": "code",
   "execution_count": null,
   "metadata": {},
   "outputs": [],
   "source": [
    "# from sklearn.preprocessing import label_binarize\n",
    "\n",
    "# labels = [0, 1, 2, 3,4,5,6,7,8,9]\n",
    "# ytest = label_binarize(y_test, classes=labels)\n",
    "# ypreds = label_binarize(predictions, classes=labels)\n",
    "\n",
    "# roc_auc_score(ytest, ypreds, average='macro',multi_class='ovo')\n",
    "# # plot_roc_curve(best_model, X_test_pca, y_test)"
   ]
  },
  {
   "cell_type": "code",
   "execution_count": null,
   "metadata": {},
   "outputs": [],
   "source": [
    "# # precision recall curve\n",
    "# # precision = dict()\n",
    "# # recall = dict()\n",
    "# # for i in range(n_classes):\n",
    "# #     precision[i], recall[i], _ = precision_recall_curve(y_test[:, i],\n",
    "# #                                                         y_score[:, i]))\n",
    "# #     plt.plot(recall[i], precision[i], lw=2, label='class {}'.format(i))\n",
    "# n_classes = len(labels)\n",
    "# roc_scores = [0, 1, 2, 3,4,5,6,7,8,9]\n",
    "# for i in range(n_classes):\n",
    "#     roc_scores[i] = roc_auc_score(ytest[:, i], ypreds[:, i], average='macro',multi_class='ovo')\n",
    "#     plt.scatter(labels[i], roc_scores[i], lw=2, label='class {}'.format(i))\n",
    "\n",
    "# # plt.plot(labels, roc_scores, lw=2, label='class {}'.format(i))\n",
    "# plt.xlabel(\"recall\")\n",
    "# plt.ylabel(\"precision\")\n",
    "# plt.legend(loc=\"best\")\n",
    "# plt.title(\"precision vs. recall curve\")\n",
    "# plt.show()\n",
    "\n",
    "# for i in range(n_classes):\n",
    "#     print('{} {}'.format(labels[i], roc_scores[i]))"
   ]
  },
  {
   "cell_type": "code",
   "execution_count": null,
   "metadata": {},
   "outputs": [],
   "source": [
    "# gnb = GaussianNB()\n",
    "# # \n",
    "# # gnb.fit(X_train_pca, y_train)\n",
    "# # predictions = gnb.predict(X_test_pca)\n",
    "# # evaluate(y_test, predictions)\n",
    "\n",
    "# gnb_scores = cross_validate(gnb, X_train_pca, y_train, cv=10)\n",
    "# score_models('GaussianNB', gnb_scores)\n",
    "\n",
    "# pred = cross_val_predict(gnb, X_train_pca, y_train, cv=10, n_jobs=CORES)\n",
    "\n",
    "# print(accuracy_score(y_train, pred))\n",
    "\n",
    "# evaluate(y_train, pred, plot=True)\n",
    "# # print(f1_score(y_train, pred, average='macro'))\n",
    "\n",
    "# # tmp = plot_scores(y_train, pred)\n",
    "# # tmp"
   ]
  },
  {
   "cell_type": "code",
   "execution_count": null,
   "metadata": {},
   "outputs": [],
   "source": []
  },
  {
   "cell_type": "code",
   "execution_count": null,
   "metadata": {},
   "outputs": [],
   "source": [
    "# evaluate(y_test, predictions)\n",
    "\n",
    "# ytest = label_binarize(y_test, classes=labels)\n",
    "# ypreds = label_binarize(predictions, classes=labels)\n",
    "\n",
    "# # scoring = 'average_precision'\n",
    "# fpr, tpr, thresholds = roc_curve(ytest, ypreds)\n",
    "# scores = []\n",
    "# for x in thresholds:\n",
    "#     predictions_class = binarize([predictions], x)[0]\n",
    "#     scores.append(average_precision_score(y_test, predictions_class))\n",
    "# scores = np.array(scores)\n",
    "# index = np.argmax(scores) \n",
    "\n",
    "\n",
    "# scores = []\n",
    "# thresholds = np.arange(0, 1, 0.01)\n",
    "# for x in thresholds:\n",
    "#     predictions_class = binarize([predictions], x)[0]\n",
    "#     scores.append(accuracy_score(y_test, predictions_class))\n",
    "# scores = np.array(scores)\n",
    "# index = np.argmax(scores) \n",
    "# predictions_class = binarize([predictions], thresholds[index])[0]\n",
    "# evaluate(y_test, predictions_class)\n",
    "\n",
    "\n",
    "# thresholds[index]\n",
    "# predictions\n",
    "# # binarize([predictions], 0.5)[0]\n",
    "# y_test"
   ]
  },
  {
   "cell_type": "code",
   "execution_count": null,
   "metadata": {},
   "outputs": [],
   "source": [
    "# ### Predict test_y values and probabilities based on fitted logistic \n",
    "# # regression model\n",
    "\n",
    "# pred_y=best_model.predict(X_test_pca) \n",
    "# # pred_y = predictions\n",
    "\n",
    "# probs_y=best_model.predict_proba(X_test_pca) \n",
    "# #   # probs_y is a 2-D array of probability of being labeled as 0 (first \n",
    "# #   column of \n",
    "# #   array) vs 1 (2nd column in array)\n",
    "\n",
    "# from sklearn.metrics import precision_recall_curve\n",
    "# precision, recall, thresholds = precision_recall_curve(y_test, probs_y[:, \n",
    "# 1]) \n",
    "#    #retrieve probability of being 1(in second column of probs_y)\n",
    "# pr_auc = metrics.auc(recall, precision)\n",
    "\n",
    "# plt.title(\"Precision-Recall vs Threshold Chart\")\n",
    "# plt.plot(thresholds, precision[: -1], \"b--\", label=\"Precision\")\n",
    "# plt.plot(thresholds, recall[: -1], \"r--\", label=\"Recall\")\n",
    "# plt.ylabel(\"Precision, Recall\")\n",
    "# plt.xlabel(\"Threshold\")\n",
    "# plt.legend(loc=\"lower left\")\n",
    "# plt.ylim([0,1])"
   ]
  },
  {
   "cell_type": "code",
   "execution_count": 47,
   "metadata": {},
   "outputs": [
    {
     "data": {
      "text/plain": [
       "-0.016871499999999994"
      ]
     },
     "execution_count": 47,
     "metadata": {},
     "output_type": "execute_result"
    }
   ],
   "source": [
    "import scipy.integrate as integrate\n",
    "'y=0.964733x+(0.034505)'\n",
    "# func = 0.964733x+(0.034505)\n",
    "integrate.quad(lambda x: x-(0.964733*x+(0.034505)), 0, 1)[0]"
   ]
  },
  {
   "cell_type": "code",
   "execution_count": null,
   "metadata": {},
   "outputs": [],
   "source": []
  }
 ],
 "metadata": {
  "kernelspec": {
   "display_name": "Python 3",
   "language": "python",
   "name": "python3"
  },
  "language_info": {
   "codemirror_mode": {
    "name": "ipython",
    "version": 3
   },
   "file_extension": ".py",
   "mimetype": "text/x-python",
   "name": "python",
   "nbconvert_exporter": "python",
   "pygments_lexer": "ipython3",
   "version": "3.7.6"
  }
 },
 "nbformat": 4,
 "nbformat_minor": 2
}
