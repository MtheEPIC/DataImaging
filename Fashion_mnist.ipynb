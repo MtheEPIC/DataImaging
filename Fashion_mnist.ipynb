{
 "cells": [
  {
   "cell_type": "markdown",
   "metadata": {},
   "source": [
    "[![alt text](https://avatars1.githubusercontent.com/u/59831504?s=400&v=4 \"MtheEPIC User Icon\")](https://github.com/MtheEPIC/KaggleProj)"
   ]
  },
  {
   "cell_type": "markdown",
   "metadata": {},
   "source": [
    "# Import libs"
   ]
  },
  {
   "cell_type": "code",
   "execution_count": 1,
   "metadata": {},
   "outputs": [],
   "source": [
    "import numpy as np\n",
    "import pandas as pd\n",
    "import matplotlib.pyplot as plt\n",
    "import seaborn as sns\n",
    "# sns.set_style(\"ticks\", {\"xtick.major.size\": 8, \"ytick.major.size\": 8})\n",
    "sns.axes_style(\"whitegrid\")\n",
    "\n",
    "import scipy.integrate as integrate\n",
    "\n",
    "from sklearn.decomposition import PCA\n",
    "\n",
    "from sklearn.preprocessing import MinMaxScaler, binarize, label_binarize\n",
    "from sklearn.metrics import accuracy_score, f1_score, roc_curve, roc_auc_score, plot_roc_curve, confusion_matrix, classification_report, precision_recall_curve, average_precision_score  \n",
    "from sklearn.model_selection import cross_val_score, GridSearchCV, RandomizedSearchCV, cross_val_predict, cross_validate\n",
    "\n",
    "from sklearn.naive_bayes import MultinomialNB, GaussianNB\n",
    "from sklearn.ensemble import AdaBoostClassifier, RandomForestClassifier, GradientBoostingClassifier\n",
    "from sklearn.tree import DecisionTreeClassifier\n",
    "from sklearn.neighbors import KNeighborsClassifier\n",
    "from sklearn.linear_model import LogisticRegression\n",
    "from sklearn.svm import SVC, LinearSVC"
   ]
  },
  {
   "cell_type": "markdown",
   "metadata": {},
   "source": [
    "# Const And Global Vars"
   ]
  },
  {
   "cell_type": "code",
   "execution_count": 97,
   "metadata": {},
   "outputs": [],
   "source": [
    "CORES = 3\n",
    "CV_SPLIT = 10\n",
    "model_dict = {}\n",
    "CLASS_NAMES = {0: 'shirt', 1: 'trousers', 2: 'pullover', 3: 'dress', 4: 'coat', 5: 'sandals', 6: 'shirt', 7: 'sneaker', 8: 'bag', 9: 'ankle boots'}"
   ]
  },
  {
   "cell_type": "markdown",
   "metadata": {},
   "source": [
    "# Declare funcs"
   ]
  },
  {
   "cell_type": "code",
   "execution_count": 3,
   "metadata": {},
   "outputs": [],
   "source": [
    "def paint():\n",
    "    tmp = train_df.groupby('label').sum()\n",
    "    train_data = np.array(tmp, dtype='float32')\n",
    "\n",
    "    first_image = train_data[0]\n",
    "\n",
    "    first_image = np.array(first_image, dtype='uint8')\n",
    "    pixels = first_image.reshape((28, 28))\n",
    "    import numpy as np; np.random.seed(0)\n",
    "\n",
    "    import seaborn as sns; sns.set()\n",
    "\n",
    "    # uniform_data = np.random.rand(10, 12)\n",
    "    uniform_data = pixels#//500\n",
    "    ax = sns.heatmap(uniform_data)\n",
    "\n",
    "    uniform_data.max()"
   ]
  },
  {
   "cell_type": "code",
   "execution_count": 4,
   "metadata": {},
   "outputs": [],
   "source": [
    "def evaluate(true, pred, plot=False):\n",
    "#     model_accuracy = roc_auc_score(true, pred, multi_class=\"ovr\")\n",
    "#     null_accuracy = roc_auc_score(true, true.replace(1, 0))\n",
    "    \n",
    "#     print(\"Null AUC Score: {:.5f}\".format(null_accuracy))\n",
    "#     print(\"Model AUC Score: {:.5f}\".format(model_accuracy))\n",
    "\n",
    "#     if null_accuracy >= model_accuracy:\n",
    "#         print(\"The model isn't effective\")\n",
    "# #         return\n",
    "#     else:\n",
    "#         print(\"The model is better then a 'dumb' model\")\n",
    "    print(\"confusion_matrix:\\n\", confusion_matrix(true, pred))\n",
    "    print(classification_report(true, pred))\n",
    "    print('f1 score {}'.format(f1_score(true, pred, average='weighted')))\n",
    "    print('accuracy score {}'.format(accuracy_score(true, pred)))\n",
    "    if plot:\n",
    "        plot_scores(true, pred)"
   ]
  },
  {
   "cell_type": "code",
   "execution_count": 98,
   "metadata": {},
   "outputs": [],
   "source": [
    "def plot_scores(true, pred):\n",
    "    from sklearn.metrics import precision_score, recall_score, f1_score\n",
    "    labels = np.unique(true)\n",
    "\n",
    "    ytest = label_binarize(true, classes=labels)\n",
    "    ypreds = label_binarize(pred, classes=labels)\n",
    "\n",
    "    n_classes = len(labels)\n",
    "    f1_scores = dict()\n",
    "    accuracy_scores = dict()\n",
    "    for i in range(n_classes):\n",
    "        f1_scores[i] = f1_score(ytest[:, i], ypreds[:, i], average='weighted')\n",
    "        accuracy_scores[i] = accuracy_score(ytest[:, i], ypreds[:, i])\n",
    "        plt.scatter(f1_scores[i], accuracy_scores[i], lw=2, label=CLASS_NAMES[i])\n",
    "\n",
    "    x = list(f1_scores.values())\n",
    "    y = list(accuracy_scores.values())\n",
    "    z = np.polyfit(x, y, 1)\n",
    "    p = np.poly1d(z)\n",
    "    plt.plot(x, p(x), \"r--\")\n",
    "    print(\"y=%.6fx+(%.6f)\"%(z[0],z[1]))\n",
    "#     integrate_score = (integrate.quad(lambda x: x-(z[0]*x+z[1]), 0, 1)[0])\n",
    "#     print('integrate score is {}'.format(integrate_score))\n",
    "    \n",
    "    plt.xlabel(\"f1_scores\")\n",
    "    plt.ylabel(\"accuracy_scores\")\n",
    "    plt.legend(loc=\"best\")\n",
    "    plt.title(\"f1_scores vs. accuracy_scores\")\n",
    "    plt.show()\n",
    "    print(labels)\n",
    "    print(accuracy_scores)\n",
    "    print(f1_scores)\n",
    "    return f1_scores"
   ]
  },
  {
   "cell_type": "code",
   "execution_count": 6,
   "metadata": {},
   "outputs": [],
   "source": [
    "def score_models(model, model_scores):\n",
    "    model_dict.update({model: model_scores})\n",
    "\n",
    "    print(\"Accuracy: {:.2f} (+/- {:.2f})\".format(model_scores['test_score'].mean(), model_scores['test_score'].std() * 2))\n",
    "    print('Train time: {:.2f} seconds (+/- {:.2f}) for a total of {:.2f} seconds'.format(model_scores['fit_time'].mean(), model_scores['fit_time'].std() * 2, model_scores['fit_time'].sum()))\n",
    "    print('Test time: {:.2f} seconds (+/- {:.2f}) for a total of {:.2f} seconds'.format(model_scores['score_time'].mean(), model_scores['score_time'].std() * 2, model_scores['score_time'].sum()))"
   ]
  },
  {
   "cell_type": "code",
   "execution_count": 7,
   "metadata": {},
   "outputs": [],
   "source": [
    "def find_best_model():\n",
    "    max_score = 0\n",
    "    best_key = None\n",
    "    for key in model_dict:\n",
    "        model_score=model_dict[key]['test_score'].mean()\n",
    "#         model_score = model_dict[key].mean()\n",
    "#         try:   \n",
    "#             model_score=model_dict[key]['test_score'].mean()\n",
    "#         except IndexError: # remove this\n",
    "#             model_score=model_dict[key].mean()\n",
    "        if max_score < model_score:\n",
    "            max_score = model_score\n",
    "            best_key = key\n",
    "    best_model_name = best_key\n",
    "    print('the best model is {}'.format(best_key).split('(')[0], end = ' ')\n",
    "    print('with the score of {}'.format(max_score))\n",
    "    return best_key, max_score"
   ]
  },
  {
   "cell_type": "code",
   "execution_count": 117,
   "metadata": {},
   "outputs": [],
   "source": [
    "def cv_mean_model(model_estimators, true, X_pred):\n",
    "    size = len(true)\n",
    "    split = size//CV_SPLIT\n",
    "    X_cv_split = np.arange(0, size+1, split)\n",
    "\n",
    "    pred_2d = np.zeros((CV_SPLIT, size))\n",
    "    for idx, estimator in enumerate(model_estimators):\n",
    "        pred = estimator.predict(X_pred)\n",
    "        pred_2d[idx] = pred\n",
    "        \n",
    "    predictions = pred_2d[0].copy()\n",
    "    tmp = np.rot90(pred_2d) \n",
    "    \n",
    "    for idx in range(size):\n",
    "        u, indices = np.unique(tmp[idx], return_index=True)\n",
    "        predictions[idx] = u[0]\n",
    "    evaluate(true, np.flip(predictions), plot=True)"
   ]
  },
  {
   "cell_type": "markdown",
   "metadata": {},
   "source": [
    "---\n",
    "# Data preparation"
   ]
  },
  {
   "cell_type": "markdown",
   "metadata": {},
   "source": [
    "## load data"
   ]
  },
  {
   "cell_type": "code",
   "execution_count": 9,
   "metadata": {},
   "outputs": [],
   "source": [
    "train_df = pd.read_csv('data/fashion-mnist_train.csv')\n",
    "test_df = pd.read_csv('data/fashion-mnist_test.csv')"
   ]
  },
  {
   "cell_type": "code",
   "execution_count": 10,
   "metadata": {},
   "outputs": [
    {
     "data": {
      "text/plain": [
       "array([0], dtype=int64)"
      ]
     },
     "execution_count": 10,
     "metadata": {},
     "output_type": "execute_result"
    }
   ],
   "source": [
    "train_df.head()\n",
    "train_df.isnull().sum().unique()"
   ]
  },
  {
   "cell_type": "markdown",
   "metadata": {},
   "source": [
    "0 is t shirt\\\n",
    "1 is trousers\\\n",
    "2 is pullover\\\n",
    "3 is dress\\\n",
    "4 is coat\\\n",
    "5 is sandals\\\n",
    "6 is shirt\\\n",
    "7 is sneaker\\\n",
    "8 is bag\\\n",
    "9 is ankle boots"
   ]
  },
  {
   "cell_type": "code",
   "execution_count": 11,
   "metadata": {},
   "outputs": [
    {
     "name": "stdout",
     "output_type": "stream",
     "text": [
      "<class 'pandas.core.frame.DataFrame'>\n",
      "RangeIndex: 60000 entries, 0 to 59999\n",
      "Columns: 785 entries, label to pixel784\n",
      "dtypes: int64(785)\n",
      "memory usage: 359.3 MB\n",
      "<class 'pandas.core.frame.DataFrame'>\n",
      "RangeIndex: 10000 entries, 0 to 9999\n",
      "Columns: 785 entries, label to pixel784\n",
      "dtypes: int64(785)\n",
      "memory usage: 59.9 MB\n"
     ]
    }
   ],
   "source": [
    "train_df.info()\n",
    "test_df.info()"
   ]
  },
  {
   "cell_type": "code",
   "execution_count": 12,
   "metadata": {},
   "outputs": [
    {
     "data": {
      "text/html": [
       "<div>\n",
       "<style scoped>\n",
       "    .dataframe tbody tr th:only-of-type {\n",
       "        vertical-align: middle;\n",
       "    }\n",
       "\n",
       "    .dataframe tbody tr th {\n",
       "        vertical-align: top;\n",
       "    }\n",
       "\n",
       "    .dataframe thead th {\n",
       "        text-align: right;\n",
       "    }\n",
       "</style>\n",
       "<table border=\"1\" class=\"dataframe\">\n",
       "  <thead>\n",
       "    <tr style=\"text-align: right;\">\n",
       "      <th></th>\n",
       "      <th>label</th>\n",
       "      <th>pixel1</th>\n",
       "      <th>pixel2</th>\n",
       "      <th>pixel3</th>\n",
       "      <th>pixel4</th>\n",
       "      <th>pixel5</th>\n",
       "      <th>pixel6</th>\n",
       "      <th>pixel7</th>\n",
       "      <th>pixel8</th>\n",
       "      <th>pixel9</th>\n",
       "      <th>...</th>\n",
       "      <th>pixel775</th>\n",
       "      <th>pixel776</th>\n",
       "      <th>pixel777</th>\n",
       "      <th>pixel778</th>\n",
       "      <th>pixel779</th>\n",
       "      <th>pixel780</th>\n",
       "      <th>pixel781</th>\n",
       "      <th>pixel782</th>\n",
       "      <th>pixel783</th>\n",
       "      <th>pixel784</th>\n",
       "    </tr>\n",
       "  </thead>\n",
       "  <tbody>\n",
       "    <tr>\n",
       "      <th>count</th>\n",
       "      <td>60000.000000</td>\n",
       "      <td>60000.000000</td>\n",
       "      <td>60000.000000</td>\n",
       "      <td>60000.000000</td>\n",
       "      <td>60000.000000</td>\n",
       "      <td>60000.000000</td>\n",
       "      <td>60000.000000</td>\n",
       "      <td>60000.000000</td>\n",
       "      <td>60000.000000</td>\n",
       "      <td>60000.000000</td>\n",
       "      <td>...</td>\n",
       "      <td>60000.000000</td>\n",
       "      <td>60000.000000</td>\n",
       "      <td>60000.000000</td>\n",
       "      <td>60000.000000</td>\n",
       "      <td>60000.000000</td>\n",
       "      <td>60000.000000</td>\n",
       "      <td>60000.000000</td>\n",
       "      <td>60000.000000</td>\n",
       "      <td>60000.000000</td>\n",
       "      <td>60000.00000</td>\n",
       "    </tr>\n",
       "    <tr>\n",
       "      <th>mean</th>\n",
       "      <td>4.500000</td>\n",
       "      <td>0.000900</td>\n",
       "      <td>0.006150</td>\n",
       "      <td>0.035333</td>\n",
       "      <td>0.101933</td>\n",
       "      <td>0.247967</td>\n",
       "      <td>0.411467</td>\n",
       "      <td>0.805767</td>\n",
       "      <td>2.198283</td>\n",
       "      <td>5.682000</td>\n",
       "      <td>...</td>\n",
       "      <td>34.625400</td>\n",
       "      <td>23.300683</td>\n",
       "      <td>16.588267</td>\n",
       "      <td>17.869433</td>\n",
       "      <td>22.814817</td>\n",
       "      <td>17.911483</td>\n",
       "      <td>8.520633</td>\n",
       "      <td>2.753300</td>\n",
       "      <td>0.855517</td>\n",
       "      <td>0.07025</td>\n",
       "    </tr>\n",
       "    <tr>\n",
       "      <th>std</th>\n",
       "      <td>2.872305</td>\n",
       "      <td>0.094689</td>\n",
       "      <td>0.271011</td>\n",
       "      <td>1.222324</td>\n",
       "      <td>2.452871</td>\n",
       "      <td>4.306912</td>\n",
       "      <td>5.836188</td>\n",
       "      <td>8.215169</td>\n",
       "      <td>14.093378</td>\n",
       "      <td>23.819481</td>\n",
       "      <td>...</td>\n",
       "      <td>57.545242</td>\n",
       "      <td>48.854427</td>\n",
       "      <td>41.979611</td>\n",
       "      <td>43.966032</td>\n",
       "      <td>51.830477</td>\n",
       "      <td>45.149388</td>\n",
       "      <td>29.614859</td>\n",
       "      <td>17.397652</td>\n",
       "      <td>9.356960</td>\n",
       "      <td>2.12587</td>\n",
       "    </tr>\n",
       "    <tr>\n",
       "      <th>min</th>\n",
       "      <td>0.000000</td>\n",
       "      <td>0.000000</td>\n",
       "      <td>0.000000</td>\n",
       "      <td>0.000000</td>\n",
       "      <td>0.000000</td>\n",
       "      <td>0.000000</td>\n",
       "      <td>0.000000</td>\n",
       "      <td>0.000000</td>\n",
       "      <td>0.000000</td>\n",
       "      <td>0.000000</td>\n",
       "      <td>...</td>\n",
       "      <td>0.000000</td>\n",
       "      <td>0.000000</td>\n",
       "      <td>0.000000</td>\n",
       "      <td>0.000000</td>\n",
       "      <td>0.000000</td>\n",
       "      <td>0.000000</td>\n",
       "      <td>0.000000</td>\n",
       "      <td>0.000000</td>\n",
       "      <td>0.000000</td>\n",
       "      <td>0.00000</td>\n",
       "    </tr>\n",
       "    <tr>\n",
       "      <th>25%</th>\n",
       "      <td>2.000000</td>\n",
       "      <td>0.000000</td>\n",
       "      <td>0.000000</td>\n",
       "      <td>0.000000</td>\n",
       "      <td>0.000000</td>\n",
       "      <td>0.000000</td>\n",
       "      <td>0.000000</td>\n",
       "      <td>0.000000</td>\n",
       "      <td>0.000000</td>\n",
       "      <td>0.000000</td>\n",
       "      <td>...</td>\n",
       "      <td>0.000000</td>\n",
       "      <td>0.000000</td>\n",
       "      <td>0.000000</td>\n",
       "      <td>0.000000</td>\n",
       "      <td>0.000000</td>\n",
       "      <td>0.000000</td>\n",
       "      <td>0.000000</td>\n",
       "      <td>0.000000</td>\n",
       "      <td>0.000000</td>\n",
       "      <td>0.00000</td>\n",
       "    </tr>\n",
       "    <tr>\n",
       "      <th>50%</th>\n",
       "      <td>4.500000</td>\n",
       "      <td>0.000000</td>\n",
       "      <td>0.000000</td>\n",
       "      <td>0.000000</td>\n",
       "      <td>0.000000</td>\n",
       "      <td>0.000000</td>\n",
       "      <td>0.000000</td>\n",
       "      <td>0.000000</td>\n",
       "      <td>0.000000</td>\n",
       "      <td>0.000000</td>\n",
       "      <td>...</td>\n",
       "      <td>0.000000</td>\n",
       "      <td>0.000000</td>\n",
       "      <td>0.000000</td>\n",
       "      <td>0.000000</td>\n",
       "      <td>0.000000</td>\n",
       "      <td>0.000000</td>\n",
       "      <td>0.000000</td>\n",
       "      <td>0.000000</td>\n",
       "      <td>0.000000</td>\n",
       "      <td>0.00000</td>\n",
       "    </tr>\n",
       "    <tr>\n",
       "      <th>75%</th>\n",
       "      <td>7.000000</td>\n",
       "      <td>0.000000</td>\n",
       "      <td>0.000000</td>\n",
       "      <td>0.000000</td>\n",
       "      <td>0.000000</td>\n",
       "      <td>0.000000</td>\n",
       "      <td>0.000000</td>\n",
       "      <td>0.000000</td>\n",
       "      <td>0.000000</td>\n",
       "      <td>0.000000</td>\n",
       "      <td>...</td>\n",
       "      <td>58.000000</td>\n",
       "      <td>9.000000</td>\n",
       "      <td>0.000000</td>\n",
       "      <td>0.000000</td>\n",
       "      <td>0.000000</td>\n",
       "      <td>0.000000</td>\n",
       "      <td>0.000000</td>\n",
       "      <td>0.000000</td>\n",
       "      <td>0.000000</td>\n",
       "      <td>0.00000</td>\n",
       "    </tr>\n",
       "    <tr>\n",
       "      <th>max</th>\n",
       "      <td>9.000000</td>\n",
       "      <td>16.000000</td>\n",
       "      <td>36.000000</td>\n",
       "      <td>226.000000</td>\n",
       "      <td>164.000000</td>\n",
       "      <td>227.000000</td>\n",
       "      <td>230.000000</td>\n",
       "      <td>224.000000</td>\n",
       "      <td>255.000000</td>\n",
       "      <td>254.000000</td>\n",
       "      <td>...</td>\n",
       "      <td>255.000000</td>\n",
       "      <td>255.000000</td>\n",
       "      <td>255.000000</td>\n",
       "      <td>255.000000</td>\n",
       "      <td>255.000000</td>\n",
       "      <td>255.000000</td>\n",
       "      <td>255.000000</td>\n",
       "      <td>255.000000</td>\n",
       "      <td>255.000000</td>\n",
       "      <td>170.00000</td>\n",
       "    </tr>\n",
       "  </tbody>\n",
       "</table>\n",
       "<p>8 rows × 785 columns</p>\n",
       "</div>"
      ],
      "text/plain": [
       "              label        pixel1        pixel2        pixel3        pixel4  \\\n",
       "count  60000.000000  60000.000000  60000.000000  60000.000000  60000.000000   \n",
       "mean       4.500000      0.000900      0.006150      0.035333      0.101933   \n",
       "std        2.872305      0.094689      0.271011      1.222324      2.452871   \n",
       "min        0.000000      0.000000      0.000000      0.000000      0.000000   \n",
       "25%        2.000000      0.000000      0.000000      0.000000      0.000000   \n",
       "50%        4.500000      0.000000      0.000000      0.000000      0.000000   \n",
       "75%        7.000000      0.000000      0.000000      0.000000      0.000000   \n",
       "max        9.000000     16.000000     36.000000    226.000000    164.000000   \n",
       "\n",
       "             pixel5        pixel6        pixel7        pixel8        pixel9  \\\n",
       "count  60000.000000  60000.000000  60000.000000  60000.000000  60000.000000   \n",
       "mean       0.247967      0.411467      0.805767      2.198283      5.682000   \n",
       "std        4.306912      5.836188      8.215169     14.093378     23.819481   \n",
       "min        0.000000      0.000000      0.000000      0.000000      0.000000   \n",
       "25%        0.000000      0.000000      0.000000      0.000000      0.000000   \n",
       "50%        0.000000      0.000000      0.000000      0.000000      0.000000   \n",
       "75%        0.000000      0.000000      0.000000      0.000000      0.000000   \n",
       "max      227.000000    230.000000    224.000000    255.000000    254.000000   \n",
       "\n",
       "       ...      pixel775      pixel776      pixel777      pixel778  \\\n",
       "count  ...  60000.000000  60000.000000  60000.000000  60000.000000   \n",
       "mean   ...     34.625400     23.300683     16.588267     17.869433   \n",
       "std    ...     57.545242     48.854427     41.979611     43.966032   \n",
       "min    ...      0.000000      0.000000      0.000000      0.000000   \n",
       "25%    ...      0.000000      0.000000      0.000000      0.000000   \n",
       "50%    ...      0.000000      0.000000      0.000000      0.000000   \n",
       "75%    ...     58.000000      9.000000      0.000000      0.000000   \n",
       "max    ...    255.000000    255.000000    255.000000    255.000000   \n",
       "\n",
       "           pixel779      pixel780      pixel781      pixel782      pixel783  \\\n",
       "count  60000.000000  60000.000000  60000.000000  60000.000000  60000.000000   \n",
       "mean      22.814817     17.911483      8.520633      2.753300      0.855517   \n",
       "std       51.830477     45.149388     29.614859     17.397652      9.356960   \n",
       "min        0.000000      0.000000      0.000000      0.000000      0.000000   \n",
       "25%        0.000000      0.000000      0.000000      0.000000      0.000000   \n",
       "50%        0.000000      0.000000      0.000000      0.000000      0.000000   \n",
       "75%        0.000000      0.000000      0.000000      0.000000      0.000000   \n",
       "max      255.000000    255.000000    255.000000    255.000000    255.000000   \n",
       "\n",
       "          pixel784  \n",
       "count  60000.00000  \n",
       "mean       0.07025  \n",
       "std        2.12587  \n",
       "min        0.00000  \n",
       "25%        0.00000  \n",
       "50%        0.00000  \n",
       "75%        0.00000  \n",
       "max      170.00000  \n",
       "\n",
       "[8 rows x 785 columns]"
      ]
     },
     "execution_count": 12,
     "metadata": {},
     "output_type": "execute_result"
    }
   ],
   "source": [
    "train_df.describe()"
   ]
  },
  {
   "cell_type": "markdown",
   "metadata": {},
   "source": [
    "## split the training data into train and validate"
   ]
  },
  {
   "cell_type": "code",
   "execution_count": 13,
   "metadata": {},
   "outputs": [],
   "source": [
    "CHANGE TO ['LABEL']\n",
    "train_data = np.array(train_df, dtype='float32')\n",
    "test_data = np.array(test_df, dtype='float32')\n",
    "\n",
    "X_train = train_data[:, 1:] / 1\n",
    "y_train = train_data[:, 0]\n",
    "\n",
    "X_test = test_data[:, 1:] / 1#/128#/255\n",
    "y_test = test_data[:, 0]"
   ]
  },
  {
   "cell_type": "code",
   "execution_count": 14,
   "metadata": {},
   "outputs": [
    {
     "data": {
      "image/png": "[encoded data removed]",
      "text/plain": [
       "<Figure size 432x288 with 1 Axes>"
      ]
     },
     "metadata": {
      "needs_background": "light"
     },
     "output_type": "display_data"
    }
   ],
   "source": [
    "pca = PCA(random_state=0)\n",
    "pca.fit(X_train)\n",
    "cumsum = np.cumsum(pca.explained_variance_ratio_)\n",
    "x = np.arange(1, len(cumsum)+1)\n",
    "plt.plot(x, cumsum)\n",
    "plt.grid(True)\n",
    "plt.title('Variance as Dimensions Functions')\n",
    "plt.xlabel('Dimensions')\n",
    "plt.ylabel('Variance')\n",
    "plt.show()"
   ]
  },
  {
   "cell_type": "code",
   "execution_count": 15,
   "metadata": {},
   "outputs": [
    {
     "name": "stdout",
     "output_type": "stream",
     "text": [
      "the number of vectors after pca is 84\n"
     ]
    }
   ],
   "source": [
    "pca = PCA(random_state=0, n_components=0.90)\n",
    "pca.fit(X_train)\n",
    "X_train_pca = pca.transform(X_train)\n",
    "X_test_pca = pca.transform(X_test)\n",
    "d = len(pca.singular_values_)\n",
    "print('the number of vectors after pca is {}'.format(d))"
   ]
  },
  {
   "cell_type": "code",
   "execution_count": 64,
   "metadata": {},
   "outputs": [
    {
     "data": {
      "image/png": "[encoded data removed]",
      "text/plain": [
       "<Figure size 432x288 with 1 Axes>"
      ]
     },
     "metadata": {
      "needs_background": "light"
     },
     "output_type": "display_data"
    }
   ],
   "source": [
    "first_image = X_train[0]\n",
    "\n",
    "first_image = np.array(first_image, dtype='uint8')\n",
    "pixels = first_image.reshape((28, 28))\n",
    "plt.imshow(pixels, cmap='gray')\n",
    "plt.show()"
   ]
  },
  {
   "cell_type": "markdown",
   "metadata": {},
   "source": [
    "---\n",
    "# Models"
   ]
  },
  {
   "cell_type": "markdown",
   "metadata": {},
   "source": [
    "## Run The Models"
   ]
  },
  {
   "cell_type": "markdown",
   "metadata": {},
   "source": [
    "### Naive Bayes"
   ]
  },
  {
   "cell_type": "code",
   "execution_count": 17,
   "metadata": {},
   "outputs": [
    {
     "name": "stdout",
     "output_type": "stream",
     "text": [
      "Accuracy: 0.77 (+/- 0.01)\n",
      "Train time: 0.08 seconds (+/- 0.01) for a total of 0.76 seconds\n",
      "Test time: 0.08 seconds (+/- 0.01) for a total of 0.82 seconds\n",
      "confusion_matrix:\n",
      " [[4562    1  122  401   21   32  443    0  416    2]\n",
      " [  32 5455  101  251   11    9   72    0   69    0]\n",
      " [  94    0 3820   38  768   41  905    0  333    1]\n",
      " [ 387   43   60 4840  192   27  308    0  143    0]\n",
      " [  36    3  638  299 3964   11  871    1  177    0]\n",
      " [  15    0    0    2    1 4656  122  892  217   95]\n",
      " [1021    2  679  213  474   29 3080    1  501    0]\n",
      " [   3    0    0    0    0  323   17 5262   18  377]\n",
      " [  60    0   41   50   52  127  223  165 5275    7]\n",
      " [   4    0    0    0    0  110   30  415   74 5367]]\n",
      "              precision    recall  f1-score   support\n",
      "\n",
      "         0.0       0.73      0.76      0.75      6000\n",
      "         1.0       0.99      0.91      0.95      6000\n",
      "         2.0       0.70      0.64      0.67      6000\n",
      "         3.0       0.79      0.81      0.80      6000\n",
      "         4.0       0.72      0.66      0.69      6000\n",
      "         5.0       0.87      0.78      0.82      6000\n",
      "         6.0       0.51      0.51      0.51      6000\n",
      "         7.0       0.78      0.88      0.83      6000\n",
      "         8.0       0.73      0.88      0.80      6000\n",
      "         9.0       0.92      0.89      0.91      6000\n",
      "\n",
      "    accuracy                           0.77     60000\n",
      "   macro avg       0.77      0.77      0.77     60000\n",
      "weighted avg       0.77      0.77      0.77     60000\n",
      "\n",
      "f1 score 0.771253692186869\n",
      "accuracy score 0.77135\n",
      "y=0.995679x+(0.004138)\n",
      "integrate score is -0.0019771538616684733\n"
     ]
    },
    {
     "data": {
      "image/png": "[encoded data removed]",
      "text/plain": [
       "<Figure size 432x288 with 1 Axes>"
      ]
     },
     "metadata": {
      "needs_background": "light"
     },
     "output_type": "display_data"
    },
    {
     "name": "stdout",
     "output_type": "stream",
     "text": [
      "[0. 1. 2. 3. 4. 5. 6. 7. 8. 9.]\n",
      "{0: 0.9485, 1: 0.9901, 2: 0.9363166666666667, 3: 0.9597666666666667, 4: 0.94075, 5: 0.9657833333333333, 6: 0.9014833333333333, 7: 0.9631333333333333, 8: 0.95545, 9: 0.9814166666666667}\n",
      "{0: 0.948900038149995, 1: 0.9899092079870554, 2: 0.9349773075173896, 3: 0.9599054982322028, 4: 0.9395573316545519, 5: 0.9649274370593732, 6: 0.9017406601351745, 7: 0.9640720945119391, 8: 0.9572550898242034, 9: 0.981311229521987}\n"
     ]
    }
   ],
   "source": [
    "gnb = GaussianNB()\n",
    "\n",
    "# gnb.fit(X_train_pca, y_train)\n",
    "# predictions = gnb.predict(X_test_pca)\n",
    "# evaluate(y_test, predictions)\n",
    "\n",
    "gnb_scores = cross_validate(gnb, X_train_pca, y_train, cv=CV_SPLIT, return_estimator=True)\n",
    "score_models(gnb, gnb_scores)\n",
    "\n",
    "pred = cross_val_predict(gnb, X_train_pca, y_train, cv=CV_SPLIT, n_jobs=CORES)\n",
    "evaluate(y_train, pred, plot=True)"
   ]
  },
  {
   "cell_type": "code",
   "execution_count": 18,
   "metadata": {},
   "outputs": [
    {
     "name": "stdout",
     "output_type": "stream",
     "text": [
      "confusion_matrix:\n",
      " [[4573    1  125  397   21   33  436    0  412    2]\n",
      " [  30 5451  102  256   11    9   74    0   67    0]\n",
      " [  85    0 3836   40  752   42  917    0  327    1]\n",
      " [ 386   42   62 4841  189   28  313    0  139    0]\n",
      " [  36    3  628  301 3979   17  860    1  175    0]\n",
      " [  12    0    1    2    1 4650  128  906  206   94]\n",
      " [1016    2  671  212  472   31 3095    2  499    0]\n",
      " [   2    0    0    0    0  319   15 5272   16  376]\n",
      " [  63    0   41   51   54  128  219  166 5271    7]\n",
      " [   4    0    0    0    0  112   29  420   74 5361]]\n",
      "              precision    recall  f1-score   support\n",
      "\n",
      "         0.0       0.74      0.76      0.75      6000\n",
      "         1.0       0.99      0.91      0.95      6000\n",
      "         2.0       0.70      0.64      0.67      6000\n",
      "         3.0       0.79      0.81      0.80      6000\n",
      "         4.0       0.73      0.66      0.69      6000\n",
      "         5.0       0.87      0.78      0.82      6000\n",
      "         6.0       0.51      0.52      0.51      6000\n",
      "         7.0       0.78      0.88      0.83      6000\n",
      "         8.0       0.73      0.88      0.80      6000\n",
      "         9.0       0.92      0.89      0.91      6000\n",
      "\n",
      "    accuracy                           0.77     60000\n",
      "   macro avg       0.78      0.77      0.77     60000\n",
      "weighted avg       0.78      0.77      0.77     60000\n",
      "\n",
      "f1 score 0.7720902700642281\n",
      "accuracy score 0.77215\n",
      "y=0.996221x+(0.003618)\n",
      "integrate score is -0.0017282711401962346\n"
     ]
    },
    {
     "data": {
      "image/png": "[encoded data removed]",
      "text/plain": [
       "<Figure size 432x288 with 1 Axes>"
      ]
     },
     "metadata": {
      "needs_background": "light"
     },
     "output_type": "display_data"
    },
    {
     "name": "stdout",
     "output_type": "stream",
     "text": [
      "[0. 1. 2. 3. 4. 5. 6. 7. 8. 9.]\n",
      "{0: 0.9489833333333333, 1: 0.99005, 2: 0.9367666666666666, 3: 0.9597, 4: 0.9413166666666667, 5: 0.9655166666666667, 6: 0.9017333333333334, 7: 0.96295, 8: 0.9559333333333333, 9: 0.98135}\n",
      "{0: 0.9493669056128093, 1: 0.9898562161032405, 2: 0.9354497579496196, 3: 0.9598478542268246, 4: 0.9401257965482228, 5: 0.9646598739704587, 6: 0.9020437940986289, 7: 0.9639304191654111, 8: 0.9576704516110539, 9: 0.9812384929371392}\n"
     ]
    }
   ],
   "source": [
    "cv_mean_model(gnb_scores['estimator'], y_train, X_train_pca)"
   ]
  },
  {
   "cell_type": "code",
   "execution_count": 19,
   "metadata": {},
   "outputs": [],
   "source": [
    "# predictions = np.array([])\n",
    "# size = len(y_train)\n",
    "# split = size//CV_SPLIT\n",
    "# X_cv_split = np.arange(0, size+1, split)\n",
    "\n",
    "# for idx, estimator in enumerate(gnb_scores['estimator']):\n",
    "\n",
    "#     predictions = np.append(predictions, estimator.predict(X_train_pca[X_cv_split[idx]:X_cv_split[idx+1]]))\n",
    "    \n",
    "# #     predictions = estimator.predict(X_train_pca)\n",
    "# #     evaluate(y_train, predictions, plot=True)\n",
    "    \n",
    "# #     print(predictions)\n",
    "\n",
    "# evaluate(y_train, predictions, plot=True)"
   ]
  },
  {
   "cell_type": "code",
   "execution_count": 20,
   "metadata": {},
   "outputs": [],
   "source": [
    "# size = len(y_train)\n",
    "# split = size//CV_SPLIT\n",
    "# X_cv_split = np.arange(0, size+1, split)\n",
    "\n",
    "# pred_2d = np.zeros((CV_SPLIT ,60000))\n",
    "# # pred_2d = np.append(pred_2d, [])\n",
    "# for idx, estimator in enumerate(gnb_scores['estimator']):\n",
    "#     print(idx)\n",
    "#     pred = estimator.predict(X_train_pca)\n",
    "#     pred_2d[idx] = pred\n",
    "# pred_2d"
   ]
  },
  {
   "cell_type": "code",
   "execution_count": 21,
   "metadata": {},
   "outputs": [],
   "source": [
    "# # np.average(pred_2d[:0])\n",
    "# predictions = pred_2d[0].copy()\n",
    "# for idx in range(CV_SPLIT):\n",
    "#     predictions[idx] = int(np.round(np.average(pred_2d[:][idx])))\n",
    "# # pred_2d[:][0]"
   ]
  },
  {
   "cell_type": "code",
   "execution_count": 22,
   "metadata": {},
   "outputs": [],
   "source": [
    "# if np.all(predictions != pred_2d[1]):\n",
    "#     print(\"very difrent\")\n",
    "# elif np.any(predictions != pred_2d[1]):\n",
    "#     print(\"a bit difrent\")"
   ]
  },
  {
   "cell_type": "code",
   "execution_count": 23,
   "metadata": {},
   "outputs": [],
   "source": [
    "# evaluate(y_train, predictions, plot=True)"
   ]
  },
  {
   "cell_type": "code",
   "execution_count": null,
   "metadata": {},
   "outputs": [],
   "source": []
  },
  {
   "cell_type": "code",
   "execution_count": 24,
   "metadata": {},
   "outputs": [],
   "source": [
    "# mnb = MultinomialNB()\n",
    "# mnb.fit(X_train_pca, y_train)\n",
    "# predictions = mnb.predict(X_test_pca)\n",
    "# evaluate(y_test, predictions)"
   ]
  },
  {
   "cell_type": "markdown",
   "metadata": {},
   "source": [
    "### Random Forest"
   ]
  },
  {
   "cell_type": "code",
   "execution_count": 25,
   "metadata": {},
   "outputs": [
    {
     "name": "stdout",
     "output_type": "stream",
     "text": [
      "Accuracy: 0.87 (+/- 0.01)\n",
      "Train time: 33.19 seconds (+/- 4.25) for a total of 331.91 seconds\n",
      "Test time: 0.17 seconds (+/- 0.10) for a total of 1.66 seconds\n",
      "confusion_matrix:\n",
      " [[5927    0   11   15    2    2   39    0    4    0]\n",
      " [   2 5973    5   14    0    0    5    0    1    0]\n",
      " [   7    0 5877    6   64    2   41    0    3    0]\n",
      " [  23    2    2 5934   16    0   20    0    3    0]\n",
      " [   1    1   28   22 5906    0   29    0   13    0]\n",
      " [   0    0    0    0    1 5955    0   24    5   15]\n",
      " [ 108    1   78   18   57    2 5730    0    6    0]\n",
      " [   0    0    0    0    0   24    0 5950    0   26]\n",
      " [   2    0    4    3    5    5    8    3 5970    0]\n",
      " [   0    0    0    0    1   12    0   21    0 5966]]\n",
      "              precision    recall  f1-score   support\n",
      "\n",
      "         0.0       0.98      0.99      0.98      6000\n",
      "         1.0       1.00      1.00      1.00      6000\n",
      "         2.0       0.98      0.98      0.98      6000\n",
      "         3.0       0.99      0.99      0.99      6000\n",
      "         4.0       0.98      0.98      0.98      6000\n",
      "         5.0       0.99      0.99      0.99      6000\n",
      "         6.0       0.98      0.95      0.97      6000\n",
      "         7.0       0.99      0.99      0.99      6000\n",
      "         8.0       0.99      0.99      0.99      6000\n",
      "         9.0       0.99      0.99      0.99      6000\n",
      "\n",
      "    accuracy                           0.99     60000\n",
      "   macro avg       0.99      0.99      0.99     60000\n",
      "weighted avg       0.99      0.99      0.99     60000\n",
      "\n",
      "f1 score 0.9864508734442331\n",
      "accuracy score 0.9864666666666667\n",
      "y=0.996534x+(0.003458)\n",
      "integrate score is -0.0017248927798692586\n"
     ]
    },
    {
     "data": {
      "image/png": "[encoded data removed]",
      "text/plain": [
       "<Figure size 432x288 with 1 Axes>"
      ]
     },
     "metadata": {
      "needs_background": "light"
     },
     "output_type": "display_data"
    },
    {
     "name": "stdout",
     "output_type": "stream",
     "text": [
      "[0. 1. 2. 3. 4. 5. 6. 7. 8. 9.]\n",
      "{0: 0.9964, 1: 0.9994833333333333, 2: 0.9958166666666667, 3: 0.9976, 4: 0.996, 5: 0.9984666666666666, 6: 0.9931333333333333, 7: 0.9983666666666666, 8: 0.9989166666666667, 9: 0.99875}\n",
      "{0: 0.9964092716818898, 1: 0.9994828922473242, 2: 0.995817440990556, 3: 0.9976010654530489, 4: 0.9960076658463144, 5: 0.9984667802253578, 6: 0.993100380581186, 7: 0.9983665456560432, 8: 0.9989168671887895, 9: 0.9987503238588987}\n"
     ]
    }
   ],
   "source": [
    "rf = RandomForestClassifier(random_state=0, max_depth=None, n_estimators=100, n_jobs=CORES)\n",
    "\n",
    "# scores = cross_val_score(rf, X_train_pca, y_train, cv=10, scoring='neg_mean_squared_error')\n",
    "# rf_score = np.sqrt(-scores)\n",
    "rf_scores = cross_validate(rf, X_train_pca, y_train, cv=CV_SPLIT, n_jobs=CORES, return_estimator=True)\n",
    "score_models(rf, rf_scores)\n",
    "cv_mean_model(rf_scores['estimator'], y_train, X_train_pca)"
   ]
  },
  {
   "cell_type": "markdown",
   "metadata": {},
   "source": [
    "### KNN"
   ]
  },
  {
   "cell_type": "markdown",
   "metadata": {},
   "source": [
    "#### find the optimum K "
   ]
  },
  {
   "cell_type": "code",
   "execution_count": 31,
   "metadata": {},
   "outputs": [],
   "source": [
    "k_max = 15\n",
    "k_min = 1\n",
    "err_rate = []\n",
    "for i in range(k_min, k_max+1):\n",
    "    k = KNeighborsClassifier(n_neighbors=i, n_jobs=CORES)\n",
    "#     k.fit(X_train_pca, y_train)\n",
    "#     pred_i = k.predict(X_test_pca)\n",
    "#     err_rate.append(np.mean(pred_i != y_test))\n",
    "    scores = cross_validate(k, X_train_pca, y_train, cv=CV_SPLIT, n_jobs=CORES, return_estimator=True)['test_score']\n",
    "    if scores.std() > 0.5:\n",
    "        err_rate.append(0)\n",
    "    else:\n",
    "        err_rate.append(scores.mean())"
   ]
  },
  {
   "cell_type": "code",
   "execution_count": 32,
   "metadata": {},
   "outputs": [
    {
     "data": {
      "image/png": "[encoded data removed]",
      "text/plain": [
       "<Figure size 432x288 with 1 Axes>"
      ]
     },
     "metadata": {
      "needs_background": "light"
     },
     "output_type": "display_data"
    }
   ],
   "source": [
    "plt.plot(np.arange(k_min, k_max+1), err_rate)\n",
    "plt.show()"
   ]
  },
  {
   "cell_type": "code",
   "execution_count": 33,
   "metadata": {},
   "outputs": [
    {
     "data": {
      "text/plain": [
       "8"
      ]
     },
     "execution_count": 33,
     "metadata": {},
     "output_type": "execute_result"
    }
   ],
   "source": [
    "index = err_rate.index(max(err_rate)) + 1\n",
    "index"
   ]
  },
  {
   "cell_type": "code",
   "execution_count": 34,
   "metadata": {},
   "outputs": [
    {
     "name": "stdout",
     "output_type": "stream",
     "text": [
      "Accuracy: 0.86 (+/- 0.01)\n",
      "Train time: 1.94 seconds (+/- 0.16) for a total of 19.37 seconds\n",
      "Test time: 17.54 seconds (+/- 7.61) for a total of 175.36 seconds\n",
      "confusion_matrix:\n",
      " [[5433    2   67  103   30    1  315    1   46    2]\n",
      " [  23 5832   18   92    8    0   22    0    4    1]\n",
      " [  75    3 5019   43  510    1  335    1   13    0]\n",
      " [ 195   26   44 5454  165    0  102    0   13    1]\n",
      " [  22    6  483  189 4926    0  356    0   18    0]\n",
      " [   3    0    0    1    1 5506    5  264   15  205]\n",
      " [ 999    6  642  104  450    0 3745    0   53    1]\n",
      " [   0    0    0    0    0   58    0 5754    1  187]\n",
      " [  21    1   35   34   34    9   40   23 5798    5]\n",
      " [   0    0    1    0    1   29    1  213    2 5753]]\n",
      "              precision    recall  f1-score   support\n",
      "\n",
      "         0.0       0.80      0.91      0.85      6000\n",
      "         1.0       0.99      0.97      0.98      6000\n",
      "         2.0       0.80      0.84      0.82      6000\n",
      "         3.0       0.91      0.91      0.91      6000\n",
      "         4.0       0.80      0.82      0.81      6000\n",
      "         5.0       0.98      0.92      0.95      6000\n",
      "         6.0       0.76      0.62      0.69      6000\n",
      "         7.0       0.92      0.96      0.94      6000\n",
      "         8.0       0.97      0.97      0.97      6000\n",
      "         9.0       0.93      0.96      0.95      6000\n",
      "\n",
      "    accuracy                           0.89     60000\n",
      "   macro avg       0.89      0.89      0.89     60000\n",
      "weighted avg       0.89      0.89      0.89     60000\n",
      "\n",
      "f1 score 0.8858222068034773\n",
      "accuracy score 0.887\n",
      "y=0.973558x+(0.025951)\n",
      "integrate score is -0.01272949281524319\n"
     ]
    },
    {
     "data": {
      "image/png": "[encoded data removed]",
      "text/plain": [
       "<Figure size 432x288 with 1 Axes>"
      ]
     },
     "metadata": {
      "needs_background": "light"
     },
     "output_type": "display_data"
    },
    {
     "name": "stdout",
     "output_type": "stream",
     "text": [
      "[0. 1. 2. 3. 4. 5. 6. 7. 8. 9.]\n",
      "{0: 0.96825, 1: 0.9964666666666666, 2: 0.96215, 3: 0.9814666666666667, 4: 0.9621166666666666, 5: 0.9901333333333333, 6: 0.9428166666666666, 7: 0.9875333333333334, 8: 0.9938833333333333, 9: 0.9891833333333333}\n",
      "{0: 0.9690942473324972, 1: 0.9964502465695644, 2: 0.9625707834119135, 3: 0.9814803690459716, 4: 0.9622899929519417, 5: 0.9899830003992027, 6: 0.9402746226710922, 7: 0.9876487230925873, 8: 0.9938749217104037, 9: 0.9892445270350925}\n"
     ]
    }
   ],
   "source": [
    "k = KNeighborsClassifier(n_neighbors=index, n_jobs=CORES)\n",
    "k_scores = cross_validate(k, X_train_pca, y_train, cv=CV_SPLIT, n_jobs=CORES, return_estimator=True)\n",
    "score_models(k, k_scores)\n",
    "\n",
    "cv_mean_model(k_scores['estimator'], y_train, X_train_pca)"
   ]
  },
  {
   "cell_type": "markdown",
   "metadata": {},
   "source": [
    "### Logistic Regression"
   ]
  },
  {
   "cell_type": "code",
   "execution_count": 35,
   "metadata": {},
   "outputs": [
    {
     "name": "stdout",
     "output_type": "stream",
     "text": [
      "Accuracy: 0.84 (+/- 0.01)\n",
      "Train time: 15.97 seconds (+/- 4.17) for a total of 159.75 seconds\n",
      "Test time: 0.01 seconds (+/- 0.01) for a total of 0.11 seconds\n",
      "confusion_matrix:\n",
      " [[4979   22  105  298   35   17  479    9   53    3]\n",
      " [  23 5772   27  134   16    0   24    2    2    0]\n",
      " [  81   23 4412   65  799   14  548    5   53    0]\n",
      " [ 215   69   62 5215  209    3  195    4   23    5]\n",
      " [  11   13  543  234 4569    4  592    1   33    0]\n",
      " [   6    0    1    2    1 5567    2  286   39   96]\n",
      " [ 911   15  677  203  638   12 3419    7  115    3]\n",
      " [   0    0    0    0    0  240    1 5520   14  225]\n",
      " [  25    7   37   58   21   49  124   38 5624   17]\n",
      " [   0    0    0    1    1   92    1  218    4 5683]]\n",
      "              precision    recall  f1-score   support\n",
      "\n",
      "         0.0       0.80      0.83      0.81      6000\n",
      "         1.0       0.97      0.96      0.97      6000\n",
      "         2.0       0.75      0.74      0.74      6000\n",
      "         3.0       0.84      0.87      0.85      6000\n",
      "         4.0       0.73      0.76      0.74      6000\n",
      "         5.0       0.93      0.93      0.93      6000\n",
      "         6.0       0.63      0.57      0.60      6000\n",
      "         7.0       0.91      0.92      0.91      6000\n",
      "         8.0       0.94      0.94      0.94      6000\n",
      "         9.0       0.94      0.95      0.94      6000\n",
      "\n",
      "    accuracy                           0.85     60000\n",
      "   macro avg       0.84      0.85      0.84     60000\n",
      "weighted avg       0.84      0.85      0.84     60000\n",
      "\n",
      "f1 score 0.8449649110162485\n",
      "accuracy score 0.846\n",
      "y=0.984175x+(0.015430)\n",
      "integrate score is -0.007517506339610331\n"
     ]
    },
    {
     "data": {
      "image/png": "[encoded data removed]",
      "text/plain": [
       "<Figure size 432x288 with 1 Axes>"
      ]
     },
     "metadata": {
      "needs_background": "light"
     },
     "output_type": "display_data"
    },
    {
     "name": "stdout",
     "output_type": "stream",
     "text": [
      "[0. 1. 2. 3. 4. 5. 6. 7. 8. 9.]\n",
      "{0: 0.9617833333333333, 1: 0.9937166666666667, 2: 0.9493333333333334, 3: 0.9703333333333334, 4: 0.9474833333333333, 5: 0.9856, 6: 0.9242166666666667, 7: 0.9825, 8: 0.9881333333333333, 9: 0.9889}\n",
      "{0: 0.962130314592234, 1: 0.9936981433559601, 2: 0.9490747921088956, 3: 0.970559553303778, 4: 0.948030395791548, 5: 0.985598933130831, 6: 0.9223843679889266, 7: 0.9825578387283034, 8: 0.9881156861264067, 9: 0.9889131157064662}\n"
     ]
    }
   ],
   "source": [
    "lr = LogisticRegression(random_state=0, n_jobs=CORES)#, solver='lbfgs', penalty='l2')\n",
    "lr_scores = cross_validate(lr, X_train_pca, y_train, cv=CV_SPLIT, return_estimator=True, n_jobs=CORES)\n",
    "score_models(lr, lr_scores)\n",
    "\n",
    "cv_mean_model(lr_scores['estimator'], y_train, X_train_pca)"
   ]
  },
  {
   "cell_type": "markdown",
   "metadata": {},
   "source": [
    "### SVM"
   ]
  },
  {
   "cell_type": "markdown",
   "metadata": {},
   "source": [
    "#### SVC"
   ]
  },
  {
   "cell_type": "code",
   "execution_count": 36,
   "metadata": {},
   "outputs": [
    {
     "name": "stdout",
     "output_type": "stream",
     "text": [
      "Accuracy: 0.79 (+/- 0.02)\n",
      "Train time: 100.06 seconds (+/- 27.85) for a total of 1000.64 seconds\n",
      "Test time: 14.48 seconds (+/- 4.82) for a total of 144.85 seconds\n",
      "confusion_matrix:\n",
      " [[4245    4   90  294    9    4 1326    0   27    1]\n",
      " [  21 5829   15  116    2    0   15    0    2    0]\n",
      " [  76    2 3057   52  254    2 2542    0   15    0]\n",
      " [  88   24  108 5514   75    1  176    0   14    0]\n",
      " [  20    6  754  578 1265    3 3360    0   14    0]\n",
      " [   2    0    0    1    0 5502    1  441   14   39]\n",
      " [ 956    8  503  186  161    2 4140    0   44    0]\n",
      " [   0    0    0    0    0   37    0 5573    7  383]\n",
      " [  15    2   27   22   15    9   34   13 5862    1]\n",
      " [   1    0    0    2    0   75    0   85    2 5835]]\n",
      "              precision    recall  f1-score   support\n",
      "\n",
      "         0.0       0.78      0.71      0.74      6000\n",
      "         1.0       0.99      0.97      0.98      6000\n",
      "         2.0       0.67      0.51      0.58      6000\n",
      "         3.0       0.82      0.92      0.86      6000\n",
      "         4.0       0.71      0.21      0.33      6000\n",
      "         5.0       0.98      0.92      0.95      6000\n",
      "         6.0       0.36      0.69      0.47      6000\n",
      "         7.0       0.91      0.93      0.92      6000\n",
      "         8.0       0.98      0.98      0.98      6000\n",
      "         9.0       0.93      0.97      0.95      6000\n",
      "\n",
      "    accuracy                           0.78     60000\n",
      "   macro avg       0.81      0.78      0.78     60000\n",
      "weighted avg       0.81      0.78      0.78     60000\n",
      "\n",
      "f1 score 0.7758779519033767\n",
      "accuracy score 0.7803666666666667\n",
      "y=1.011567x+(-0.010395)\n",
      "integrate score is 0.004611036367696032\n"
     ]
    },
    {
     "data": {
      "image/png": "[encoded data removed]",
      "text/plain": [
       "<Figure size 432x288 with 1 Axes>"
      ]
     },
     "metadata": {
      "needs_background": "light"
     },
     "output_type": "display_data"
    },
    {
     "name": "stdout",
     "output_type": "stream",
     "text": [
      "[0. 1. 2. 3. 4. 5. 6. 7. 8. 9.]\n",
      "{0: 0.9511, 1: 0.9963833333333333, 2: 0.926, 3: 0.97105, 4: 0.9124833333333333, 5: 0.9894833333333334, 6: 0.8447666666666667, 7: 0.9839, 8: 0.9953833333333333, 9: 0.9901833333333333}\n",
      "{0: 0.949996935113568, 1: 0.9963663888043809, 2: 0.921419486223848, 3: 0.9718142167418746, 4: 0.8904019114981693, 5: 0.9893360862359541, 6: 0.8652049663941983, 7: 0.9839660817588415, 8: 0.9953835043047611, 9: 0.9902752341293127}\n"
     ]
    }
   ],
   "source": [
    "svc = SVC(random_state=0, max_iter=500)\n",
    "\n",
    "svc_scores = cross_validate(svc, X_train_pca, y_train, cv=CV_SPLIT, return_estimator=True, n_jobs=CORES)\n",
    "score_models(svc, svc_scores)\n",
    "cv_mean_model(svc_scores['estimator'], y_train, X_train_pca)"
   ]
  },
  {
   "cell_type": "markdown",
   "metadata": {},
   "source": [
    "### Decision Tree"
   ]
  },
  {
   "cell_type": "code",
   "execution_count": 37,
   "metadata": {},
   "outputs": [
    {
     "name": "stdout",
     "output_type": "stream",
     "text": [
      "Accuracy: 0.77 (+/- 0.01)\n",
      "Train time: 13.20 seconds (+/- 0.68) for a total of 131.95 seconds\n",
      "Test time: 0.00 seconds (+/- 0.00) for a total of 0.03 seconds\n",
      "confusion_matrix:\n",
      " [[5848    9   13   26    7    2   88    0    7    0]\n",
      " [   7 5954    6   22    2    0    7    0    2    0]\n",
      " [  12    2 5795    6   89    2   83    0    9    2]\n",
      " [  33   17    9 5860   41    1   34    0    5    0]\n",
      " [  11    1   83   19 5797    4   77    0    7    1]\n",
      " [   5    0    1    2    1 5913    1   49    5   23]\n",
      " [  99    5   70   41   75    1 5696    0   13    0]\n",
      " [   0    0    0    0    0   52    0 5907    5   36]\n",
      " [  13    2    8    7    6    6   23    2 5931    2]\n",
      " [   3    0    0    1    0   23    1   39    4 5929]]\n",
      "              precision    recall  f1-score   support\n",
      "\n",
      "         0.0       0.97      0.97      0.97      6000\n",
      "         1.0       0.99      0.99      0.99      6000\n",
      "         2.0       0.97      0.97      0.97      6000\n",
      "         3.0       0.98      0.98      0.98      6000\n",
      "         4.0       0.96      0.97      0.96      6000\n",
      "         5.0       0.98      0.99      0.99      6000\n",
      "         6.0       0.95      0.95      0.95      6000\n",
      "         7.0       0.98      0.98      0.98      6000\n",
      "         8.0       0.99      0.99      0.99      6000\n",
      "         9.0       0.99      0.99      0.99      6000\n",
      "\n",
      "    accuracy                           0.98     60000\n",
      "   macro avg       0.98      0.98      0.98     60000\n",
      "weighted avg       0.98      0.98      0.98     60000\n",
      "\n",
      "f1 score 0.9771742183931102\n",
      "accuracy score 0.9771666666666666\n",
      "y=1.000539x+(-0.000538)\n",
      "integrate score is 0.00026791760930744684\n"
     ]
    },
    {
     "data": {
      "image/png": "[encoded data removed]",
      "text/plain": [
       "<Figure size 432x288 with 1 Axes>"
      ]
     },
     "metadata": {
      "needs_background": "light"
     },
     "output_type": "display_data"
    },
    {
     "name": "stdout",
     "output_type": "stream",
     "text": [
      "[0. 1. 2. 3. 4. 5. 6. 7. 8. 9.]\n",
      "{0: 0.9944166666666666, 1: 0.9986333333333334, 2: 0.9934166666666666, 3: 0.9956, 4: 0.9929333333333333, 5: 0.9970333333333333, 6: 0.9897, 7: 0.99695, 8: 0.9979, 9: 0.99775}\n",
      "{0: 0.9944230583479285, 1: 0.998632826679703, 2: 0.9934130040461051, 3: 0.9955973886279815, 4: 0.9929380364081871, 5: 0.9970337726727114, 6: 0.9897038111972467, 7: 0.9969496610145981, 8: 0.9978990656026542, 9: 0.997749416278905}\n"
     ]
    }
   ],
   "source": [
    "dtc = DecisionTreeClassifier(random_state=0)\n",
    "dtc_scores = cross_validate(dtc, X_train_pca, y_train, cv=CV_SPLIT, return_estimator=True, n_jobs=CORES)\n",
    "score_models(dtc, dtc_scores)\n",
    "cv_mean_model(dtc_scores['estimator'], y_train, X_train_pca)"
   ]
  },
  {
   "cell_type": "markdown",
   "metadata": {},
   "source": [
    "### Gradient Boosting"
   ]
  },
  {
   "cell_type": "code",
   "execution_count": null,
   "metadata": {},
   "outputs": [],
   "source": [
    "gb = GradientBoostingClassifier(random_state=0)\n",
    "gb_scores = cross_validate(gb, X_train_pca, y_train, cv=CV_SPLIT, return_estimator=True, n_jobs=CORES)\n",
    "score_models(gb, gb_scores)\n",
    "cv_mean_model(gb_scores['estimator'], y_train, X_train_pca)"
   ]
  },
  {
   "cell_type": "markdown",
   "metadata": {},
   "source": [
    "### K Means"
   ]
  },
  {
   "cell_type": "code",
   "execution_count": 59,
   "metadata": {},
   "outputs": [
    {
     "name": "stdout",
     "output_type": "stream",
     "text": [
      "confusion_matrix:\n",
      " [[   0 3416   41  177 1702    2  444  173   21   24]\n",
      " [   0  243   44 5382  173    0  130   26    2    0]\n",
      " [   0   86 1843   10 1765    1  400 1853   20   22]\n",
      " [   1 1683   58 3118  682    0  422   20    5   11]\n",
      " [   0  690 3065  151  949    0  193  912   12   28]\n",
      " [ 484    1    0    1   41 1410 4038    0   10   15]\n",
      " [   1 1048 1219   51 2089    6  591  932   44   19]\n",
      " [ 290    0    0    0    0 5095  608    0    7    0]\n",
      " [   5   23   43   24  335  274  411  280 2161 2444]\n",
      " [5052    8    8    2   55  672  193    3    5    2]]\n",
      "              precision    recall  f1-score   support\n",
      "\n",
      "         0.0       0.00      0.00      0.00      6000\n",
      "         1.0       0.03      0.04      0.04      6000\n",
      "         2.0       0.29      0.31      0.30      6000\n",
      "         3.0       0.35      0.52      0.42      6000\n",
      "         4.0       0.12      0.16      0.14      6000\n",
      "         5.0       0.19      0.23      0.21      6000\n",
      "         6.0       0.08      0.10      0.09      6000\n",
      "         7.0       0.00      0.00      0.00      6000\n",
      "         8.0       0.94      0.36      0.52      6000\n",
      "         9.0       0.00      0.00      0.00      6000\n",
      "\n",
      "    accuracy                           0.17     60000\n",
      "   macro avg       0.20      0.17      0.17     60000\n",
      "weighted avg       0.20      0.17      0.17     60000\n",
      "\n",
      "f1 score 0.17112166787245606\n",
      "accuracy score 0.17195\n",
      "y=0.340913x+(0.650501)\n"
     ]
    },
    {
     "data": {
      "image/png": "[encoded data removed]",
      "text/plain": [
       "<Figure size 432x288 with 1 Axes>"
      ]
     },
     "metadata": {
      "needs_background": "light"
     },
     "output_type": "display_data"
    },
    {
     "name": "stdout",
     "output_type": "stream",
     "text": [
      "[0. 1. 2. 3. 4. 5. 6. 7. 8. 9.]\n",
      "{0: 0.8027833333333333, 1: 0.7881333333333334, 2: 0.8560833333333333, 3: 0.8553333333333333, 4: 0.8017833333333333, 5: 0.8226666666666667, 6: 0.7958666666666666, 7: 0.8300166666666666, 8: 0.9339166666666666, 9: 0.8573166666666666}\n",
      "{0: 0.445302171641998, 1: 0.45889988643055507, 2: 0.6094859882950762, 3: 0.6677369823101026, 4: 0.512824330120704, 5: 0.5548205321456674, 6: 0.48654137953995114, 7: 0.4535568892815184, 8: 0.7430235126108284, 9: 0.46182098098229296}\n"
     ]
    }
   ],
   "source": [
    "from sklearn.cluster import KMeans\n",
    "# k = 5\n",
    "km = KMeans(n_clusters=10, n_jobs=CORES) #(n_clusters=k)\n",
    "pred = km.fit_predict(X_train_pca)\n",
    "# evaluate(y_train, pred, plot=True)\n",
    "evaluate(y_train, pred, plot=True)"
   ]
  },
  {
   "cell_type": "code",
   "execution_count": 65,
   "metadata": {},
   "outputs": [],
   "source": [
    "# plt.scatter(X_train, [y_train])"
   ]
  },
  {
   "cell_type": "markdown",
   "metadata": {},
   "source": [
    "## Find Best Model"
   ]
  },
  {
   "cell_type": "code",
   "execution_count": 39,
   "metadata": {},
   "outputs": [
    {
     "name": "stdout",
     "output_type": "stream",
     "text": [
      "the best model is RandomForestClassifier with the score of 0.8675\n"
     ]
    }
   ],
   "source": [
    "best_model, best_model_score = find_best_model()"
   ]
  },
  {
   "cell_type": "markdown",
   "metadata": {},
   "source": [
    "## Improve The Model"
   ]
  },
  {
   "cell_type": "markdown",
   "metadata": {},
   "source": [
    "### Ada Boost"
   ]
  },
  {
   "cell_type": "code",
   "execution_count": 40,
   "metadata": {},
   "outputs": [
    {
     "name": "stdout",
     "output_type": "stream",
     "text": [
      "confusion_matrix:\n",
      " [[5929    1   11   15    2    1   37    0    4    0]\n",
      " [   2 5971    6   16    0    0    4    0    1    0]\n",
      " [   5    0 5887    6   58    3   37    0    4    0]\n",
      " [  18    1    5 5939   19    0   15    0    3    0]\n",
      " [   1    1   32   23 5907    0   29    0    7    0]\n",
      " [   0    0    0    0    1 5949    0   27    6   17]\n",
      " [ 113    1   74   18   48    0 5739    0    7    0]\n",
      " [   0    0    0    0    0   22    0 5957    0   21]\n",
      " [   3    0    3    3    3    2    6    3 5976    1]\n",
      " [   0    0    1    0    1    8    0   21    0 5969]]\n",
      "              precision    recall  f1-score   support\n",
      "\n",
      "         0.0       0.98      0.99      0.98      6000\n",
      "         1.0       1.00      1.00      1.00      6000\n",
      "         2.0       0.98      0.98      0.98      6000\n",
      "         3.0       0.99      0.99      0.99      6000\n",
      "         4.0       0.98      0.98      0.98      6000\n",
      "         5.0       0.99      0.99      0.99      6000\n",
      "         6.0       0.98      0.96      0.97      6000\n",
      "         7.0       0.99      0.99      0.99      6000\n",
      "         8.0       0.99      1.00      1.00      6000\n",
      "         9.0       0.99      0.99      0.99      6000\n",
      "\n",
      "    accuracy                           0.99     60000\n",
      "   macro avg       0.99      0.99      0.99     60000\n",
      "weighted avg       0.99      0.99      0.99     60000\n",
      "\n",
      "f1 score 0.9870351195588508\n",
      "accuracy score 0.98705\n",
      "y=0.996555x+(0.003438)\n",
      "integrate score is -0.001715130450544151\n"
     ]
    },
    {
     "data": {
      "image/png": "[encoded data removed]",
      "text/plain": [
       "<Figure size 432x288 with 1 Axes>"
      ]
     },
     "metadata": {
      "needs_background": "light"
     },
     "output_type": "display_data"
    },
    {
     "name": "stdout",
     "output_type": "stream",
     "text": [
      "[0. 1. 2. 3. 4. 5. 6. 7. 8. 9.]\n",
      "{0: 0.99645, 1: 0.99945, 2: 0.9959166666666667, 3: 0.9976333333333334, 4: 0.99625, 5: 0.99855, 6: 0.9935166666666667, 7: 0.9984333333333333, 8: 0.9990666666666667, 9: 0.9988333333333334}\n",
      "{0: 0.99645927264571, 1: 0.9994494895299404, 2: 0.9959195349500025, 3: 0.9976350830975972, 4: 0.9962553966815454, 5: 0.9985491932962309, 6: 0.9934843226666601, 7: 0.9984337971786496, 8: 0.9990669430000465, 9: 0.9988336787500581}\n"
     ]
    }
   ],
   "source": [
    "base_estimetor = best_model\n",
    "adb = AdaBoostClassifier(base_estimetor, random_state=0)\n",
    "adb_scores = cross_validate(adb, X_train_pca, y_train, cv=CV_SPLIT, return_estimator=True, n_jobs=CORES)\n",
    "cv_mean_model(adb_scores['estimator'], y_train, X_train_pca)"
   ]
  },
  {
   "cell_type": "markdown",
   "metadata": {},
   "source": [
    "#### check if the model was improved"
   ]
  },
  {
   "cell_type": "code",
   "execution_count": 41,
   "metadata": {},
   "outputs": [
    {
     "name": "stdout",
     "output_type": "stream",
     "text": [
      "ada boost helped\n"
     ]
    }
   ],
   "source": [
    "if adb_scores['test_score'].mean() > best_model_score:\n",
    "    print('ada boost helped')\n",
    "    best_model = adb"
   ]
  },
  {
   "cell_type": "markdown",
   "metadata": {},
   "source": [
    "## Test The Model On The Test Data"
   ]
  },
  {
   "cell_type": "code",
   "execution_count": 118,
   "metadata": {},
   "outputs": [
    {
     "name": "stdout",
     "output_type": "stream",
     "text": [
      "confusion_matrix:\n",
      " [[918   0  23  19   3   3  25   1   8   0]\n",
      " [ 11 966   7  16   0   0   0   0   0   0]\n",
      " [ 23   0 868   8  74   1  21   0   5   0]\n",
      " [ 50   9  19 903  12   0   7   0   0   0]\n",
      " [  4   1 135  39 795   0  23   0   3   0]\n",
      " [  1   0   0   1   0 940   0  40   4  14]\n",
      " [268   1 164  26  82   2 447   0  10   0]\n",
      " [  0   0   0   0   0  55   0 901   0  44]\n",
      " [  6   0  15   4   5  16   5   5 943   1]\n",
      " [  0   0   0   0   0  30   1  47   0 922]]\n",
      "              precision    recall  f1-score   support\n",
      "\n",
      "         0.0       0.72      0.92      0.80      1000\n",
      "         1.0       0.99      0.97      0.98      1000\n",
      "         2.0       0.71      0.87      0.78      1000\n",
      "         3.0       0.89      0.90      0.90      1000\n",
      "         4.0       0.82      0.80      0.81      1000\n",
      "         5.0       0.90      0.94      0.92      1000\n",
      "         6.0       0.84      0.45      0.58      1000\n",
      "         7.0       0.91      0.90      0.90      1000\n",
      "         8.0       0.97      0.94      0.96      1000\n",
      "         9.0       0.94      0.92      0.93      1000\n",
      "\n",
      "    accuracy                           0.86     10000\n",
      "   macro avg       0.87      0.86      0.86     10000\n",
      "weighted avg       0.87      0.86      0.86     10000\n",
      "\n",
      "f1 score 0.8556377140184027\n",
      "accuracy score 0.8603\n",
      "y=0.920039x+(0.078142)\n"
     ]
    },
    {
     "data": {
      "image/png": "[encoded data removed]",
      "text/plain": [
       "<Figure size 432x288 with 1 Axes>"
      ]
     },
     "metadata": {
      "needs_background": "light"
     },
     "output_type": "display_data"
    },
    {
     "name": "stdout",
     "output_type": "stream",
     "text": [
      "[0. 1. 2. 3. 4. 5. 6. 7. 8. 9.]\n",
      "{0: 0.9555, 1: 0.9955, 2: 0.9505, 3: 0.979, 4: 0.9619, 5: 0.9833, 6: 0.9365, 7: 0.9808, 8: 0.9913, 9: 0.9863}\n",
      "{0: 0.9578881570220914, 1: 0.9954766953067977, 2: 0.9527408858930908, 3: 0.9790739916963228, 4: 0.9616503531052162, 5: 0.983469859733352, 6: 0.9275291949174281, 7: 0.9807743122737089, 8: 0.9912469865905652, 9: 0.9862415237895028}\n"
     ]
    }
   ],
   "source": [
    "cv_mean_model(adb_scores['estimator'], y_test, X_test_pca)"
   ]
  },
  {
   "cell_type": "code",
   "execution_count": 43,
   "metadata": {},
   "outputs": [
    {
     "name": "stdout",
     "output_type": "stream",
     "text": [
      "confusion_matrix:\n",
      " [[857   0  19  36   3   3  70   0  12   0]\n",
      " [  4 963   8  19   2   0   4   0   0   0]\n",
      " [ 12   0 802   7 105   1  61   0  12   0]\n",
      " [ 26   6  11 909  24   1  19   0   4   0]\n",
      " [  1   1  66  26 850   0  50   0   6   0]\n",
      " [  1   0   0   1   0 917   0  52   5  24]\n",
      " [178   2 104  26  83   1 591   0  15   0]\n",
      " [  0   0   0   0   0  39   0 903   0  58]\n",
      " [  2   0   6   4   3  10   5   4 965   1]\n",
      " [  0   0   0   0   0  16   0  39   0 945]]\n",
      "              precision    recall  f1-score   support\n",
      "\n",
      "         0.0       0.79      0.86      0.82      1000\n",
      "         1.0       0.99      0.96      0.98      1000\n",
      "         2.0       0.79      0.80      0.80      1000\n",
      "         3.0       0.88      0.91      0.90      1000\n",
      "         4.0       0.79      0.85      0.82      1000\n",
      "         5.0       0.93      0.92      0.92      1000\n",
      "         6.0       0.74      0.59      0.66      1000\n",
      "         7.0       0.90      0.90      0.90      1000\n",
      "         8.0       0.95      0.96      0.96      1000\n",
      "         9.0       0.92      0.94      0.93      1000\n",
      "\n",
      "    accuracy                           0.87     10000\n",
      "   macro avg       0.87      0.87      0.87     10000\n",
      "weighted avg       0.87      0.87      0.87     10000\n",
      "\n",
      "f1 score 0.8684633787222501\n",
      "accuracy score 0.8702\n",
      "y=0.964733x+(0.034505)\n",
      "integrate score is -0.016871700923280563\n"
     ]
    },
    {
     "data": {
      "image/png": "[encoded data removed]",
      "text/plain": [
       "<Figure size 432x288 with 1 Axes>"
      ]
     },
     "metadata": {
      "needs_background": "light"
     },
     "output_type": "display_data"
    },
    {
     "name": "stdout",
     "output_type": "stream",
     "text": [
      "[0. 1. 2. 3. 4. 5. 6. 7. 8. 9.]\n",
      "{0: 0.9633, 1: 0.9954, 2: 0.9588, 3: 0.979, 4: 0.963, 5: 0.9846, 6: 0.9382, 7: 0.9808, 8: 0.9911, 9: 0.9862}\n",
      "{0: 0.9639312996905103, 1: 0.9953709150201783, 2: 0.9589451646613568, 3: 0.9791286116338762, 4: 0.9635533785440428, 5: 0.9845586510401517, 6: 0.935106227106227, 7: 0.9807914569385517, 8: 0.9911371749812738, 9: 0.9862845162165471}\n"
     ]
    }
   ],
   "source": [
    "best_model.fit(X_train_pca, y_train)\n",
    "predictions = best_model.predict(X_test_pca)\n",
    "evaluate(y_test, predictions, plot=True)"
   ]
  },
  {
   "cell_type": "markdown",
   "metadata": {},
   "source": [
    "### run without pca"
   ]
  },
  {
   "cell_type": "code",
   "execution_count": 44,
   "metadata": {},
   "outputs": [],
   "source": [
    "# best_model.fit(X_train, y_train)\n",
    "# predictions = best_model.predict(X_test)\n",
    "# evaluate(y_test, predictions)"
   ]
  },
  {
   "cell_type": "code",
   "execution_count": 45,
   "metadata": {},
   "outputs": [],
   "source": [
    "# from sklearn.preprocessing import label_binarize\n",
    "\n",
    "# labels = [0, 1, 2, 3,4,5,6,7,8,9]\n",
    "# ytest = label_binarize(y_test, classes=labels)\n",
    "# ypreds = label_binarize(predictions, classes=labels)\n",
    "\n",
    "# roc_auc_score(ytest, ypreds, average='macro',multi_class='ovo')\n",
    "# # plot_roc_curve(best_model, X_test_pca, y_test)"
   ]
  },
  {
   "cell_type": "code",
   "execution_count": 46,
   "metadata": {},
   "outputs": [],
   "source": [
    "# # precision recall curve\n",
    "# # precision = dict()\n",
    "# # recall = dict()\n",
    "# # for i in range(n_classes):\n",
    "# #     precision[i], recall[i], _ = precision_recall_curve(y_test[:, i],\n",
    "# #                                                         y_score[:, i]))\n",
    "# #     plt.plot(recall[i], precision[i], lw=2, label='class {}'.format(i))\n",
    "# n_classes = len(labels)\n",
    "# roc_scores = [0, 1, 2, 3,4,5,6,7,8,9]\n",
    "# for i in range(n_classes):\n",
    "#     roc_scores[i] = roc_auc_score(ytest[:, i], ypreds[:, i], average='macro',multi_class='ovo')\n",
    "#     plt.scatter(labels[i], roc_scores[i], lw=2, label='class {}'.format(i))\n",
    "\n",
    "# # plt.plot(labels, roc_scores, lw=2, label='class {}'.format(i))\n",
    "# plt.xlabel(\"recall\")\n",
    "# plt.ylabel(\"precision\")\n",
    "# plt.legend(loc=\"best\")\n",
    "# plt.title(\"precision vs. recall curve\")\n",
    "# plt.show()\n",
    "\n",
    "# for i in range(n_classes):\n",
    "#     print('{} {}'.format(labels[i], roc_scores[i]))"
   ]
  },
  {
   "cell_type": "code",
   "execution_count": 47,
   "metadata": {},
   "outputs": [],
   "source": [
    "# gnb = GaussianNB()\n",
    "# # \n",
    "# # gnb.fit(X_train_pca, y_train)\n",
    "# # predictions = gnb.predict(X_test_pca)\n",
    "# # evaluate(y_test, predictions)\n",
    "\n",
    "# gnb_scores = cross_validate(gnb, X_train_pca, y_train, cv=10)\n",
    "# score_models('GaussianNB', gnb_scores)\n",
    "\n",
    "# pred = cross_val_predict(gnb, X_train_pca, y_train, cv=10, n_jobs=CORES)\n",
    "\n",
    "# print(accuracy_score(y_train, pred))\n",
    "\n",
    "# evaluate(y_train, pred, plot=True)\n",
    "# # print(f1_score(y_train, pred, average='macro'))\n",
    "\n",
    "# # tmp = plot_scores(y_train, pred)\n",
    "# # tmp"
   ]
  },
  {
   "cell_type": "code",
   "execution_count": null,
   "metadata": {},
   "outputs": [],
   "source": []
  },
  {
   "cell_type": "code",
   "execution_count": 48,
   "metadata": {},
   "outputs": [],
   "source": [
    "# evaluate(y_test, predictions)\n",
    "\n",
    "# ytest = label_binarize(y_test, classes=labels)\n",
    "# ypreds = label_binarize(predictions, classes=labels)\n",
    "\n",
    "# # scoring = 'average_precision'\n",
    "# fpr, tpr, thresholds = roc_curve(ytest, ypreds)\n",
    "# scores = []\n",
    "# for x in thresholds:\n",
    "#     predictions_class = binarize([predictions], x)[0]\n",
    "#     scores.append(average_precision_score(y_test, predictions_class))\n",
    "# scores = np.array(scores)\n",
    "# index = np.argmax(scores) \n",
    "\n",
    "\n",
    "# scores = []\n",
    "# thresholds = np.arange(0, 1, 0.01)\n",
    "# for x in thresholds:\n",
    "#     predictions_class = binarize([predictions], x)[0]\n",
    "#     scores.append(accuracy_score(y_test, predictions_class))\n",
    "# scores = np.array(scores)\n",
    "# index = np.argmax(scores) \n",
    "# predictions_class = binarize([predictions], thresholds[index])[0]\n",
    "# evaluate(y_test, predictions_class)\n",
    "\n",
    "\n",
    "# thresholds[index]\n",
    "# predictions\n",
    "# # binarize([predictions], 0.5)[0]\n",
    "# y_test"
   ]
  },
  {
   "cell_type": "code",
   "execution_count": 49,
   "metadata": {},
   "outputs": [],
   "source": [
    "# ### Predict test_y values and probabilities based on fitted logistic \n",
    "# # regression model\n",
    "\n",
    "# pred_y=best_model.predict(X_test_pca) \n",
    "# # pred_y = predictions\n",
    "\n",
    "# probs_y=best_model.predict_proba(X_test_pca) \n",
    "# #   # probs_y is a 2-D array of probability of being labeled as 0 (first \n",
    "# #   column of \n",
    "# #   array) vs 1 (2nd column in array)\n",
    "\n",
    "# from sklearn.metrics import precision_recall_curve\n",
    "# precision, recall, thresholds = precision_recall_curve(y_test, probs_y[:, \n",
    "# 1]) \n",
    "#    #retrieve probability of being 1(in second column of probs_y)\n",
    "# pr_auc = metrics.auc(recall, precision)\n",
    "\n",
    "# plt.title(\"Precision-Recall vs Threshold Chart\")\n",
    "# plt.plot(thresholds, precision[: -1], \"b--\", label=\"Precision\")\n",
    "# plt.plot(thresholds, recall[: -1], \"r--\", label=\"Recall\")\n",
    "# plt.ylabel(\"Precision, Recall\")\n",
    "# plt.xlabel(\"Threshold\")\n",
    "# plt.legend(loc=\"lower left\")\n",
    "# plt.ylim([0,1])"
   ]
  },
  {
   "cell_type": "code",
   "execution_count": null,
   "metadata": {},
   "outputs": [],
   "source": []
  }
 ],
 "metadata": {
  "kernelspec": {
   "display_name": "Python 3",
   "language": "python",
   "name": "python3"
  },
  "language_info": {
   "codemirror_mode": {
    "name": "ipython",
    "version": 3
   },
   "file_extension": ".py",
   "mimetype": "text/x-python",
   "name": "python",
   "nbconvert_exporter": "python",
   "pygments_lexer": "ipython3",
   "version": "3.7.6"
  }
 },
 "nbformat": 4,
 "nbformat_minor": 2
}
