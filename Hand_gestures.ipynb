{
 "cells": [
  {
   "cell_type": "markdown",
   "metadata": {},
   "source": [
    "[![alt text](https://avatars1.githubusercontent.com/u/59831504?s=400&v=4 \"MtheEPIC User Icon\")](https://github.com/MtheEPIC/KaggleProj)"
   ]
  },
  {
   "cell_type": "markdown",
   "metadata": {},
   "source": [
    "# Import libs"
   ]
  },
  {
   "cell_type": "code",
   "execution_count": 1,
   "metadata": {},
   "outputs": [],
   "source": [
    "import numpy as np\n",
    "import pandas as pd\n",
    "import matplotlib.pyplot as plt\n",
    "import seaborn as sns\n",
    "sns.axes_style(\"whitegrid\")\n",
    "\n",
    "import glob\n",
    "\n",
    "from sklearn.decomposition import PCA\n",
    "\n",
    "from sklearn.preprocessing import MinMaxScaler, binarize, label_binarize\n",
    "from sklearn.metrics import accuracy_score, f1_score, roc_curve, roc_auc_score, plot_roc_curve, confusion_matrix, classification_report, precision_recall_curve, average_precision_score  \n",
    "from sklearn.model_selection import train_test_split, cross_val_score, GridSearchCV, RandomizedSearchCV, cross_val_predict, cross_validate\n",
    "\n",
    "from sklearn.naive_bayes import MultinomialNB, GaussianNB\n",
    "from sklearn.ensemble import AdaBoostClassifier, RandomForestClassifier, GradientBoostingClassifier\n",
    "from sklearn.tree import DecisionTreeClassifier\n",
    "from sklearn.svm import SVC, LinearSVC"
   ]
  },
  {
   "cell_type": "markdown",
   "metadata": {},
   "source": [
    "# Paths and Consts"
   ]
  },
  {
   "cell_type": "code",
   "execution_count": 2,
   "metadata": {},
   "outputs": [],
   "source": [
    "r_hand_path = 'data\\\\HandRight.csv'\n",
    "train_path = 'data\\\\Training\\\\*\\\\*'\n",
    "test_path = 'data\\\\Validation\\\\*\\\\*'\n",
    "START_DELAY = 7\n",
    "CV_SPLIT = 10\n",
    "CORES = 3\n",
    "CLASS_NAMES = {0: 'Alone', 1: 'Spontan', 2: 'Sync'}\n",
    "model_dict = {}"
   ]
  },
  {
   "cell_type": "markdown",
   "metadata": {},
   "source": [
    "# Funcs"
   ]
  },
  {
   "cell_type": "markdown",
   "metadata": {},
   "source": [
    "### plot funcs"
   ]
  },
  {
   "cell_type": "code",
   "execution_count": 3,
   "metadata": {},
   "outputs": [],
   "source": [
    "def plot_corr(df):\n",
    "    # Sample dataframe with date index and five variables \n",
    "    np.random.seed(123)\n",
    "    df = df.iloc[:, :-1]\n",
    "\n",
    "    # Compute correlations\n",
    "    corr = df.corr()\n",
    "\n",
    "    # Exclude duplicate correlations by masking uper right values\n",
    "    mask = np.zeros_like(corr, dtype=np.bool)\n",
    "    mask[np.triu_indices_from(mask)] = True\n",
    "\n",
    "    # Set background color / chart style\n",
    "    sns.set_style(style = 'white')\n",
    "\n",
    "    # Set up  matplotlib figure\n",
    "    f, ax = plt.subplots(figsize=(11, 9))\n",
    "\n",
    "    # Add diverging colormap\n",
    "    cmap = sns.diverging_palette(10, 250, as_cmap=True)\n",
    "\n",
    "    # Draw correlation plot\n",
    "    sns.heatmap(corr, mask=mask, cmap=cmap, \n",
    "            square=True,\n",
    "            linewidths=.5, cbar_kws={\"shrink\": .5}, ax=ax)\n",
    "    plt.show()"
   ]
  },
  {
   "cell_type": "markdown",
   "metadata": {},
   "source": [
    "### data funcs"
   ]
  },
  {
   "cell_type": "code",
   "execution_count": 4,
   "metadata": {},
   "outputs": [],
   "source": [
    "def pars_data(path):\n",
    "    pars_df = pd.DataFrame()\n",
    "\n",
    "    r_hand_df = pd.read_csv(r_hand_path)\n",
    "    r_hand_df = prepare_data(r_hand_df)\n",
    "#     print(r_hand_df.shape)\n",
    "\n",
    "    for name in glob.glob(path):\n",
    "#         print(name)\n",
    "        df = pd.read_csv(name)\n",
    "        print('before', df.shape[0])\n",
    "\n",
    "        df.dropna(inplace=True)\n",
    "        if 'Alone' in name[-11:]: #add r hand\n",
    "            df = mod_df(df, r_hand_df.copy()) \n",
    "            df['value'] = 0\n",
    "\n",
    "        else:\n",
    "            df  = mod_df(df)\n",
    "            if 'Spontan' in name[-11:]:\n",
    "                df['value'] = 1\n",
    "            elif 'Sync' in name[-11:]:\n",
    "                df['value'] = 2\n",
    "            else:\n",
    "                print('ERORR')\n",
    "\n",
    "        print('after', df.shape)\n",
    "        pars_df = pars_df.append(df, ignore_index=True)\n",
    "    \n",
    "    return pars_df"
   ]
  },
  {
   "cell_type": "code",
   "execution_count": 5,
   "metadata": {},
   "outputs": [],
   "source": [
    "def prepare_data(df):\n",
    "    df.rename(str.strip, axis='columns', inplace=True)\n",
    "    df.dropna(inplace=True)\n",
    "    df = df[df['Time']>=df['Time'][0]+START_DELAY]\n",
    "    df.drop('# hands', axis=1, inplace=True)\n",
    "    return df"
   ]
  },
  {
   "cell_type": "code",
   "execution_count": 6,
   "metadata": {},
   "outputs": [],
   "source": [
    "def add_suffix_on_split(split_df1, split_df2):\n",
    "    if split_df1['Hand Type'][0] == 'left':\n",
    "        split_df1 = split_df1.add_suffix(' Left')\n",
    "        split_df2 = split_df2.add_suffix(' Right')\n",
    "    else:\n",
    "        split_df1 = split_df1.add_suffix(' Right')\n",
    "        split_df2 = split_df2.add_suffix(' Left')\n",
    "    return split_df1, split_df2"
   ]
  },
  {
   "cell_type": "code",
   "execution_count": 7,
   "metadata": {},
   "outputs": [],
   "source": [
    "def combine_hands(df, split_df2=None):\n",
    "    if split_df2 is None:\n",
    "        split1 = np.arange(0, df.shape[0], 2)\n",
    "        split2 = np.arange(1, df.shape[0], 2)\n",
    "        \n",
    "        if df['Hand Type'].values[0] == 'left':\n",
    "            split_df1 = df.iloc[split1, :]\n",
    "            split_df2 = df.iloc[split2, :]\n",
    "        else:\n",
    "            split_df1 = df.iloc[split2, :]\n",
    "            split_df2 = df.iloc[split1, :]\n",
    "    else:\n",
    "        split_df1 = df.copy()\n",
    "\n",
    "    if split_df1.shape[0] > split_df2.shape[0]:\n",
    "        split_df1 = split_df1.iloc[np.arange(split_df2.shape[0]), :]\n",
    "    else:\n",
    "        split_df2 = split_df2.iloc[np.arange(split_df1.shape[0]), :]\n",
    "\n",
    "    split_df1.set_index(np.arange(split_df1.shape[0]), inplace=True)\n",
    "    split_df2.set_index(np.arange(split_df1.shape[0]), inplace=True)\n",
    "    \n",
    "    split_df1 = split_df1.add_suffix(' Left')\n",
    "    split_df2 = split_df2.add_suffix(' Right')\n",
    "\n",
    "    df = pd.concat([split_df1, split_df2], axis=1, sort=False)\n",
    "    df.drop(['Time Left', 'Time Right'], axis=1, inplace=True)\n",
    "    \n",
    "    return df"
   ]
  },
  {
   "cell_type": "code",
   "execution_count": 8,
   "metadata": {},
   "outputs": [],
   "source": [
    "def cut_df(df):\n",
    "    start_time = df.iloc[0, 0]\n",
    "    end_time = df.iloc[len(df)-1, 0]\n",
    "    total_time = (end_time - start_time)\n",
    "    start_frame = df.iloc[0, 1]\n",
    "    end_frame = df.iloc[len(df)-1, 1]\n",
    "    total_frame = (end_frame - start_frame)\n",
    "#     jump = int(total_time)//2\n",
    "    jump = 4\n",
    "    if jump%2 == 1:\n",
    "        jump += 1\n",
    "    \n",
    "    tmp1 = np.arange(0, df.shape[0], jump)\n",
    "    tmp2 = np.arange(1, df.shape[0], jump)\n",
    "    df['tmp'] = np.arange(df.shape[0])\n",
    "    df_cut = df[df['tmp'].isin(np.append(tmp1, tmp2))]\n",
    "    df_cut.drop('tmp', axis=1, inplace=True)\n",
    "    \n",
    "    return df_cut"
   ]
  },
  {
   "cell_type": "code",
   "execution_count": 9,
   "metadata": {},
   "outputs": [],
   "source": [
    "def mod_df(df, r_hand_df=None):\n",
    "    df = prepare_data(df)    \n",
    "    df_cut = cut_df(df)\n",
    "    df_cut = combine_hands(df_cut, r_hand_df)\n",
    "    \n",
    "    return df_cut"
   ]
  },
  {
   "cell_type": "markdown",
   "metadata": {},
   "source": [
    "### model funcs"
   ]
  },
  {
   "cell_type": "code",
   "execution_count": 10,
   "metadata": {},
   "outputs": [],
   "source": [
    "def evaluate(true, pred, plot=False):\n",
    "    print(\"confusion_matrix:\\n\", confusion_matrix(true, pred))\n",
    "    print(classification_report(true, pred))\n",
    "    print('f1 score {}'.format(f1_score(true, pred, average='weighted')))\n",
    "    print('accuracy score {}'.format(accuracy_score(true, pred)))\n",
    "    if plot:\n",
    "        plot_scores(true, pred)"
   ]
  },
  {
   "cell_type": "code",
   "execution_count": 11,
   "metadata": {},
   "outputs": [],
   "source": [
    "def score_models(model, model_scores=None, true=None, pred=None):\n",
    "    if model_scores is None:\n",
    "        model_scores = [f1_score(true, pred, average='micro'), accuracy_score(true, pred)]\n",
    "    else:\n",
    "        print(\"Accuracy: {:.2f} (+/- {:.2f})\".format(model_scores['test_score'].mean(), model_scores['test_score'].std() * 2))\n",
    "        print('Train time: {:.2f} seconds (+/- {:.2f}) for a total of {:.2f} seconds'.format(model_scores['fit_time'].mean(), model_scores['fit_time'].std() * 2, model_scores['fit_time'].sum()))\n",
    "        print('Test time: {:.2f} seconds (+/- {:.2f}) for a total of {:.2f} seconds'.format(model_scores['score_time'].mean(), model_scores['score_time'].std() * 2, model_scores['score_time'].sum()))\n",
    "    model_dict.update({model: model_scores})"
   ]
  },
  {
   "cell_type": "code",
   "execution_count": 12,
   "metadata": {},
   "outputs": [],
   "source": [
    "def find_best_model(estimator='combined'):\n",
    "    max_score = 0\n",
    "    best_key = None\n",
    "    for key in model_dict:\n",
    "        if type(model_dict[key]) is list:\n",
    "            model_score = model_dict[key][0] * model_dict[key][1]\n",
    "        else:\n",
    "            model_score = model_dict[key]['test_score'].mean()\n",
    "#         model_score = model_dict[key]['test_score']\n",
    "#         if estimator == 'combined':\n",
    "#             model_score = model_dict[key][0] * model_dict[key][1]\n",
    "#         elif estimator == 'f1':\n",
    "#             model_score = model_dict[key][0]\n",
    "#         elif estimator == 'accuracy':\n",
    "#             model_score = model_dict[key][1]\n",
    "            \n",
    "        if max_score < model_score:\n",
    "            max_score = model_score\n",
    "            best_key = key\n",
    "    print('the best model is {}'.format(best_key).split('(')[0], end = ' ')\n",
    "    print('with the score of {}'.format(max_score))\n",
    "    return best_key, max_score"
   ]
  },
  {
   "cell_type": "code",
   "execution_count": 13,
   "metadata": {},
   "outputs": [],
   "source": [
    "def plot_scores(true, pred):\n",
    "    from sklearn.metrics import precision_score, recall_score, f1_score\n",
    "    labels = np.unique(true)\n",
    "\n",
    "    ytest = label_binarize(true, classes=labels)\n",
    "    ypreds = label_binarize(pred, classes=labels)\n",
    "\n",
    "    n_classes = len(labels)\n",
    "    f1_scores = dict()\n",
    "    accuracy_scores = dict()\n",
    "    for i in range(n_classes):\n",
    "        f1_scores[i] = f1_score(ytest[:, i], ypreds[:, i], average='weighted')\n",
    "        accuracy_scores[i] = accuracy_score(ytest[:, i], ypreds[:, i])\n",
    "        plt.scatter(f1_scores[i], accuracy_scores[i], lw=2, label=CLASS_NAMES[i])\n",
    "\n",
    "    x = list(f1_scores.values())\n",
    "    y = list(accuracy_scores.values())\n",
    "    z = np.polyfit(x, y, 1)\n",
    "    p = np.poly1d(z)\n",
    "    plt.plot(x, p(x), \"r--\")\n",
    "    print(\"y=%.6fx+(%.6f)\"%(z[0],z[1]))\n",
    "    \n",
    "    plt.xlabel(\"f1_scores\")\n",
    "    plt.ylabel(\"accuracy_scores\")\n",
    "    plt.legend(loc=\"best\")\n",
    "    plt.title(\"f1_scores vs. accuracy_scores\")\n",
    "    plt.show()\n",
    "    print(labels)\n",
    "    print(accuracy_scores)\n",
    "    print(f1_scores)\n",
    "    return f1_scores"
   ]
  },
  {
   "cell_type": "code",
   "execution_count": 14,
   "metadata": {},
   "outputs": [],
   "source": [
    "def cv_mean_model(model_estimators, true, X_pred):\n",
    "    size = len(true)\n",
    "    split = size//CV_SPLIT\n",
    "    X_cv_split = np.arange(0, size+1, split)\n",
    "\n",
    "    pred_2d = np.zeros((CV_SPLIT, size))\n",
    "    for idx, estimator in enumerate(model_estimators):\n",
    "        pred = estimator.predict(X_pred)\n",
    "        pred_2d[idx] = pred\n",
    "        \n",
    "    predictions = pred_2d[0].copy()\n",
    "    tmp = np.rot90(pred_2d) \n",
    "    \n",
    "    for idx in range(size):\n",
    "        u, indices = np.unique(tmp[idx], return_index=True)\n",
    "        predictions[idx] = u[0]\n",
    "    evaluate(true, np.flip(predictions), plot=True)"
   ]
  },
  {
   "cell_type": "markdown",
   "metadata": {},
   "source": [
    "## data mod"
   ]
  },
  {
   "cell_type": "code",
   "execution_count": 15,
   "metadata": {},
   "outputs": [
    {
     "name": "stderr",
     "output_type": "stream",
     "text": [
      "C:\\Users\\mthee\\Anaconda3\\lib\\site-packages\\pandas\\core\\frame.py:3997: SettingWithCopyWarning: \n",
      "A value is trying to be set on a copy of a slice from a DataFrame\n",
      "\n",
      "See the caveats in the documentation: https://pandas.pydata.org/pandas-docs/stable/user_guide/indexing.html#returning-a-view-versus-a-copy\n",
      "  errors=errors,\n",
      "C:\\Users\\mthee\\Anaconda3\\lib\\site-packages\\ipykernel_launcher.py:15: SettingWithCopyWarning: \n",
      "A value is trying to be set on a copy of a slice from a DataFrame.\n",
      "Try using .loc[row_indexer,col_indexer] = value instead\n",
      "\n",
      "See the caveats in the documentation: https://pandas.pydata.org/pandas-docs/stable/user_guide/indexing.html#returning-a-view-versus-a-copy\n",
      "  from ipykernel import kernelapp as app\n"
     ]
    },
    {
     "name": "stdout",
     "output_type": "stream",
     "text": [
      "before 9054\n",
      "after (2052, 41)\n",
      "before 9054\n",
      "after (2052, 41)\n",
      "before 4476\n",
      "after (2027, 41)\n",
      "before 9054\n",
      "after (2052, 41)\n",
      "before 9052\n",
      "after (2052, 41)\n",
      "before 4526\n",
      "after (2052, 41)\n",
      "before 9054\n",
      "after (2052, 41)\n",
      "before 4496\n",
      "after (2036, 41)\n",
      "before 9052\n",
      "after (2052, 41)\n",
      "before 8998\n",
      "after (2038, 41)\n",
      "before 4575\n",
      "after (2076, 41)\n",
      "before 9054\n",
      "after (2052, 41)\n",
      "before 9011\n",
      "after (2041, 41)\n",
      "before 4367\n",
      "after (1991, 41)\n",
      "before 4500\n",
      "after (2039, 41)\n",
      "before 9054\n",
      "after (2052, 41)\n",
      "before 9050\n",
      "after (2051, 41)\n",
      "before 4482\n",
      "after (2030, 41)\n",
      "before 9039\n",
      "after (2048, 41)\n",
      "before 8807\n",
      "after (1990, 41)\n",
      "before 8805\n",
      "after (1990, 41)\n",
      "before 4527\n",
      "after (2052, 41)\n",
      "before 8937\n",
      "after (2037, 41)\n",
      "before 9050\n",
      "after (2051, 41)\n",
      "before 9054\n",
      "after (2052, 41)\n",
      "before 8746\n",
      "after (1975, 41)\n",
      "before 4931\n",
      "after (2150, 41)\n",
      "before 8826\n",
      "after (2012, 41)\n",
      "before 8395\n",
      "after (1887, 41)\n",
      "before 9054\n",
      "after (2052, 41)\n",
      "before 9046\n",
      "after (2050, 41)\n",
      "before 4526\n",
      "after (2052, 41)\n",
      "before 8980\n",
      "after (2034, 41)\n",
      "before 4477\n",
      "after (2028, 41)\n",
      "before 8742\n",
      "after (1974, 41)\n",
      "before 9054\n",
      "after (2052, 41)\n",
      "before 4468\n",
      "after (2023, 41)\n",
      "before 9054\n",
      "after (2052, 41)\n",
      "before 8773\n",
      "after (1982, 41)\n",
      "before 8829\n",
      "after (1996, 41)\n",
      "before 4537\n",
      "after (2065, 41)\n",
      "before 4500\n",
      "after (1020, 41)\n",
      "before 2242\n",
      "after (1020, 41)\n",
      "before 4287\n",
      "after (966, 41)\n",
      "before 4375\n",
      "after (988, 41)\n",
      "before 2250\n",
      "after (1020, 41)\n",
      "before 4500\n",
      "after (1020, 41)\n",
      "before 8902\n",
      "after (2014, 41)\n",
      "before 9054\n",
      "after (2052, 41)\n",
      "before 4553\n",
      "after (2052, 41)\n",
      "before 8969\n",
      "after (2052, 41)\n",
      "before 8846\n",
      "after (2000, 41)\n",
      "before 4700\n",
      "after (2139, 41)\n",
      "before 8986\n",
      "after (2035, 41)\n",
      "before 8965\n",
      "after (2030, 41)\n",
      "before 4614\n",
      "after (2052, 41)\n",
      "before 2250\n",
      "after (1020, 41)\n",
      "before 4478\n",
      "after (1014, 41)\n",
      "before 4500\n",
      "after (1020, 41)\n",
      "before 2250\n",
      "after (1020, 41)\n",
      "before 4500\n",
      "after (1020, 41)\n",
      "before 4446\n",
      "after (1006, 41)\n"
     ]
    }
   ],
   "source": [
    "train_df = pars_data(train_path)\n",
    "test_df = pars_data(test_path)"
   ]
  },
  {
   "cell_type": "code",
   "execution_count": 16,
   "metadata": {},
   "outputs": [
    {
     "data": {
      "text/plain": [
       "array([0], dtype=int64)"
      ]
     },
     "execution_count": 16,
     "metadata": {},
     "output_type": "execute_result"
    }
   ],
   "source": [
    "train_df.isnull().sum().unique()"
   ]
  },
  {
   "cell_type": "code",
   "execution_count": 17,
   "metadata": {},
   "outputs": [
    {
     "data": {
      "text/plain": [
       "array([0], dtype=int64)"
      ]
     },
     "execution_count": 17,
     "metadata": {},
     "output_type": "execute_result"
    }
   ],
   "source": [
    "train_df.isna().sum().unique()"
   ]
  },
  {
   "cell_type": "code",
   "execution_count": 18,
   "metadata": {},
   "outputs": [
    {
     "name": "stdout",
     "output_type": "stream",
     "text": [
      "<class 'pandas.core.frame.DataFrame'>\n",
      "RangeIndex: 89435 entries, 0 to 89434\n",
      "Data columns (total 41 columns):\n",
      " #   Column                Non-Null Count  Dtype  \n",
      "---  ------                --------------  -----  \n",
      " 0   Frame ID Left         89435 non-null  int64  \n",
      " 1   Hand Type Left        89435 non-null  object \n",
      " 2   Position X Left       89435 non-null  float64\n",
      " 3   Position Y Left       89435 non-null  float64\n",
      " 4   Position Z Left       89435 non-null  float64\n",
      " 5   Velocity X Left       89435 non-null  float64\n",
      " 6   Velocity Y Left       89435 non-null  float64\n",
      " 7   Velocity Z Left       89435 non-null  float64\n",
      " 8   Pitch Left            89435 non-null  float64\n",
      " 9   Roll Left             89435 non-null  float64\n",
      " 10  Yaw Left              89435 non-null  float64\n",
      " 11  Wrist Pos X Left      89435 non-null  float64\n",
      " 12  Wrist Pos Y Left      89435 non-null  float64\n",
      " 13  Wrist Pos Z Left      89435 non-null  float64\n",
      " 14  Elbow pos X Left      89435 non-null  float64\n",
      " 15  Elbow Pos Y Left      89435 non-null  float64\n",
      " 16  Elbow Pos Z Left      89435 non-null  float64\n",
      " 17  Grab Strenth Left     89435 non-null  float64\n",
      " 18  Grab Angle Left       89435 non-null  float64\n",
      " 19  Pinch Strength Left   89435 non-null  float64\n",
      " 20  Frame ID Right        89435 non-null  int64  \n",
      " 21  Hand Type Right       89435 non-null  object \n",
      " 22  Position X Right      89435 non-null  float64\n",
      " 23  Position Y Right      89435 non-null  float64\n",
      " 24  Position Z Right      89435 non-null  float64\n",
      " 25  Velocity X Right      89435 non-null  float64\n",
      " 26  Velocity Y Right      89435 non-null  float64\n",
      " 27  Velocity Z Right      89435 non-null  float64\n",
      " 28  Pitch Right           89435 non-null  float64\n",
      " 29  Roll Right            89435 non-null  float64\n",
      " 30  Yaw Right             89435 non-null  float64\n",
      " 31  Wrist Pos X Right     89435 non-null  float64\n",
      " 32  Wrist Pos Y Right     89435 non-null  float64\n",
      " 33  Wrist Pos Z Right     89435 non-null  float64\n",
      " 34  Elbow pos X Right     89435 non-null  float64\n",
      " 35  Elbow Pos Y Right     89435 non-null  float64\n",
      " 36  Elbow Pos Z Right     89435 non-null  float64\n",
      " 37  Grab Strenth Right    89435 non-null  float64\n",
      " 38  Grab Angle Right      89435 non-null  float64\n",
      " 39  Pinch Strength Right  89435 non-null  float64\n",
      " 40  value                 89435 non-null  int64  \n",
      "dtypes: float64(36), int64(3), object(2)\n",
      "memory usage: 28.0+ MB\n"
     ]
    }
   ],
   "source": [
    "train_df.info()"
   ]
  },
  {
   "cell_type": "code",
   "execution_count": 19,
   "metadata": {},
   "outputs": [
    {
     "data": {
      "image/png": "[encoded data removed]",
      "text/plain": [
       "<Figure size 792x648 with 2 Axes>"
      ]
     },
     "metadata": {},
     "output_type": "display_data"
    }
   ],
   "source": [
    "plot_corr(train_df)"
   ]
  },
  {
   "cell_type": "code",
   "execution_count": 20,
   "metadata": {},
   "outputs": [],
   "source": [
    "train_df.drop(['Hand Type Left', 'Hand Type Right'], axis=1, inplace=True)\n",
    "test_df.drop(['Hand Type Left', 'Hand Type Right'], axis=1, inplace=True)"
   ]
  },
  {
   "cell_type": "code",
   "execution_count": 21,
   "metadata": {},
   "outputs": [
    {
     "name": "stdout",
     "output_type": "stream",
     "text": [
      "<class 'pandas.core.frame.DataFrame'>\n",
      "RangeIndex: 89435 entries, 0 to 89434\n",
      "Data columns (total 39 columns):\n",
      " #   Column                Non-Null Count  Dtype  \n",
      "---  ------                --------------  -----  \n",
      " 0   Frame ID Left         89435 non-null  int64  \n",
      " 1   Position X Left       89435 non-null  float64\n",
      " 2   Position Y Left       89435 non-null  float64\n",
      " 3   Position Z Left       89435 non-null  float64\n",
      " 4   Velocity X Left       89435 non-null  float64\n",
      " 5   Velocity Y Left       89435 non-null  float64\n",
      " 6   Velocity Z Left       89435 non-null  float64\n",
      " 7   Pitch Left            89435 non-null  float64\n",
      " 8   Roll Left             89435 non-null  float64\n",
      " 9   Yaw Left              89435 non-null  float64\n",
      " 10  Wrist Pos X Left      89435 non-null  float64\n",
      " 11  Wrist Pos Y Left      89435 non-null  float64\n",
      " 12  Wrist Pos Z Left      89435 non-null  float64\n",
      " 13  Elbow pos X Left      89435 non-null  float64\n",
      " 14  Elbow Pos Y Left      89435 non-null  float64\n",
      " 15  Elbow Pos Z Left      89435 non-null  float64\n",
      " 16  Grab Strenth Left     89435 non-null  float64\n",
      " 17  Grab Angle Left       89435 non-null  float64\n",
      " 18  Pinch Strength Left   89435 non-null  float64\n",
      " 19  Frame ID Right        89435 non-null  int64  \n",
      " 20  Position X Right      89435 non-null  float64\n",
      " 21  Position Y Right      89435 non-null  float64\n",
      " 22  Position Z Right      89435 non-null  float64\n",
      " 23  Velocity X Right      89435 non-null  float64\n",
      " 24  Velocity Y Right      89435 non-null  float64\n",
      " 25  Velocity Z Right      89435 non-null  float64\n",
      " 26  Pitch Right           89435 non-null  float64\n",
      " 27  Roll Right            89435 non-null  float64\n",
      " 28  Yaw Right             89435 non-null  float64\n",
      " 29  Wrist Pos X Right     89435 non-null  float64\n",
      " 30  Wrist Pos Y Right     89435 non-null  float64\n",
      " 31  Wrist Pos Z Right     89435 non-null  float64\n",
      " 32  Elbow pos X Right     89435 non-null  float64\n",
      " 33  Elbow Pos Y Right     89435 non-null  float64\n",
      " 34  Elbow Pos Z Right     89435 non-null  float64\n",
      " 35  Grab Strenth Right    89435 non-null  float64\n",
      " 36  Grab Angle Right      89435 non-null  float64\n",
      " 37  Pinch Strength Right  89435 non-null  float64\n",
      " 38  value                 89435 non-null  int64  \n",
      "dtypes: float64(36), int64(3)\n",
      "memory usage: 26.6 MB\n"
     ]
    }
   ],
   "source": [
    "train_df.info()"
   ]
  },
  {
   "cell_type": "code",
   "execution_count": 22,
   "metadata": {},
   "outputs": [],
   "source": [
    "train_df = train_df.sample(frac=1, random_state=0).reset_index(drop=True)\n",
    "test_df = test_df.sample(frac=1, random_state=0).reset_index(drop=True)"
   ]
  },
  {
   "cell_type": "code",
   "execution_count": 23,
   "metadata": {},
   "outputs": [],
   "source": [
    "X = train_df.drop('value', axis=1)\n",
    "y = train_df['value']\n",
    "X_val = test_df.drop('value', axis=1)\n",
    "y_val = test_df['value']"
   ]
  },
  {
   "cell_type": "code",
   "execution_count": 24,
   "metadata": {},
   "outputs": [
    {
     "data": {
      "text/html": [
       "<div>\n",
       "<style scoped>\n",
       "    .dataframe tbody tr th:only-of-type {\n",
       "        vertical-align: middle;\n",
       "    }\n",
       "\n",
       "    .dataframe tbody tr th {\n",
       "        vertical-align: top;\n",
       "    }\n",
       "\n",
       "    .dataframe thead th {\n",
       "        text-align: right;\n",
       "    }\n",
       "</style>\n",
       "<table border=\"1\" class=\"dataframe\">\n",
       "  <thead>\n",
       "    <tr style=\"text-align: right;\">\n",
       "      <th></th>\n",
       "      <th>Frame ID Left</th>\n",
       "      <th>Position X Left</th>\n",
       "      <th>Position Y Left</th>\n",
       "      <th>Position Z Left</th>\n",
       "      <th>Velocity X Left</th>\n",
       "      <th>Velocity Y Left</th>\n",
       "      <th>Velocity Z Left</th>\n",
       "      <th>Pitch Left</th>\n",
       "      <th>Roll Left</th>\n",
       "      <th>Yaw Left</th>\n",
       "      <th>...</th>\n",
       "      <th>Yaw Right</th>\n",
       "      <th>Wrist Pos X Right</th>\n",
       "      <th>Wrist Pos Y Right</th>\n",
       "      <th>Wrist Pos Z Right</th>\n",
       "      <th>Elbow pos X Right</th>\n",
       "      <th>Elbow Pos Y Right</th>\n",
       "      <th>Elbow Pos Z Right</th>\n",
       "      <th>Grab Strenth Right</th>\n",
       "      <th>Grab Angle Right</th>\n",
       "      <th>Pinch Strength Right</th>\n",
       "    </tr>\n",
       "  </thead>\n",
       "  <tbody>\n",
       "    <tr>\n",
       "      <th>0</th>\n",
       "      <td>0.075106</td>\n",
       "      <td>0.233245</td>\n",
       "      <td>0.123342</td>\n",
       "      <td>0.523156</td>\n",
       "      <td>0.602824</td>\n",
       "      <td>0.559690</td>\n",
       "      <td>0.467394</td>\n",
       "      <td>0.858392</td>\n",
       "      <td>0.503395</td>\n",
       "      <td>0.771788</td>\n",
       "      <td>...</td>\n",
       "      <td>0.217841</td>\n",
       "      <td>0.833065</td>\n",
       "      <td>0.363423</td>\n",
       "      <td>0.636519</td>\n",
       "      <td>0.859213</td>\n",
       "      <td>0.403666</td>\n",
       "      <td>0.346882</td>\n",
       "      <td>0.000000</td>\n",
       "      <td>0.056885</td>\n",
       "      <td>0.000000</td>\n",
       "    </tr>\n",
       "    <tr>\n",
       "      <th>1</th>\n",
       "      <td>0.453635</td>\n",
       "      <td>0.281778</td>\n",
       "      <td>0.149922</td>\n",
       "      <td>0.412883</td>\n",
       "      <td>0.624231</td>\n",
       "      <td>0.535391</td>\n",
       "      <td>0.472720</td>\n",
       "      <td>0.587423</td>\n",
       "      <td>0.851471</td>\n",
       "      <td>0.598373</td>\n",
       "      <td>...</td>\n",
       "      <td>0.475591</td>\n",
       "      <td>0.642656</td>\n",
       "      <td>0.225611</td>\n",
       "      <td>0.754401</td>\n",
       "      <td>0.617425</td>\n",
       "      <td>0.265776</td>\n",
       "      <td>0.727069</td>\n",
       "      <td>0.000000</td>\n",
       "      <td>0.066201</td>\n",
       "      <td>0.000000</td>\n",
       "    </tr>\n",
       "    <tr>\n",
       "      <th>2</th>\n",
       "      <td>0.116702</td>\n",
       "      <td>0.242572</td>\n",
       "      <td>0.134606</td>\n",
       "      <td>0.292170</td>\n",
       "      <td>0.615867</td>\n",
       "      <td>0.561629</td>\n",
       "      <td>0.473024</td>\n",
       "      <td>0.642017</td>\n",
       "      <td>0.626587</td>\n",
       "      <td>0.626094</td>\n",
       "      <td>...</td>\n",
       "      <td>0.273829</td>\n",
       "      <td>0.882866</td>\n",
       "      <td>0.404140</td>\n",
       "      <td>0.387227</td>\n",
       "      <td>0.823856</td>\n",
       "      <td>0.358951</td>\n",
       "      <td>0.305961</td>\n",
       "      <td>0.000000</td>\n",
       "      <td>0.259749</td>\n",
       "      <td>0.000000</td>\n",
       "    </tr>\n",
       "    <tr>\n",
       "      <th>3</th>\n",
       "      <td>0.280442</td>\n",
       "      <td>0.289534</td>\n",
       "      <td>0.195242</td>\n",
       "      <td>0.326139</td>\n",
       "      <td>0.620967</td>\n",
       "      <td>0.557362</td>\n",
       "      <td>0.483170</td>\n",
       "      <td>0.711429</td>\n",
       "      <td>0.548662</td>\n",
       "      <td>0.734505</td>\n",
       "      <td>...</td>\n",
       "      <td>0.443919</td>\n",
       "      <td>0.870881</td>\n",
       "      <td>0.320462</td>\n",
       "      <td>0.492855</td>\n",
       "      <td>0.831710</td>\n",
       "      <td>0.336663</td>\n",
       "      <td>0.445974</td>\n",
       "      <td>0.625489</td>\n",
       "      <td>0.657359</td>\n",
       "      <td>0.263364</td>\n",
       "    </tr>\n",
       "    <tr>\n",
       "      <th>4</th>\n",
       "      <td>0.981901</td>\n",
       "      <td>0.287202</td>\n",
       "      <td>0.088652</td>\n",
       "      <td>0.332324</td>\n",
       "      <td>0.682822</td>\n",
       "      <td>0.595763</td>\n",
       "      <td>0.468700</td>\n",
       "      <td>0.710533</td>\n",
       "      <td>0.538214</td>\n",
       "      <td>0.739922</td>\n",
       "      <td>...</td>\n",
       "      <td>0.437457</td>\n",
       "      <td>0.676010</td>\n",
       "      <td>0.402758</td>\n",
       "      <td>0.681257</td>\n",
       "      <td>0.639352</td>\n",
       "      <td>0.404296</td>\n",
       "      <td>0.687680</td>\n",
       "      <td>1.000000</td>\n",
       "      <td>1.000000</td>\n",
       "      <td>0.486827</td>\n",
       "    </tr>\n",
       "    <tr>\n",
       "      <th>...</th>\n",
       "      <td>...</td>\n",
       "      <td>...</td>\n",
       "      <td>...</td>\n",
       "      <td>...</td>\n",
       "      <td>...</td>\n",
       "      <td>...</td>\n",
       "      <td>...</td>\n",
       "      <td>...</td>\n",
       "      <td>...</td>\n",
       "      <td>...</td>\n",
       "      <td>...</td>\n",
       "      <td>...</td>\n",
       "      <td>...</td>\n",
       "      <td>...</td>\n",
       "      <td>...</td>\n",
       "      <td>...</td>\n",
       "      <td>...</td>\n",
       "      <td>...</td>\n",
       "      <td>...</td>\n",
       "      <td>...</td>\n",
       "      <td>...</td>\n",
       "    </tr>\n",
       "    <tr>\n",
       "      <th>89430</th>\n",
       "      <td>0.363310</td>\n",
       "      <td>0.304141</td>\n",
       "      <td>0.135911</td>\n",
       "      <td>0.406017</td>\n",
       "      <td>0.610896</td>\n",
       "      <td>0.564320</td>\n",
       "      <td>0.474787</td>\n",
       "      <td>0.761231</td>\n",
       "      <td>0.644488</td>\n",
       "      <td>0.764150</td>\n",
       "      <td>...</td>\n",
       "      <td>0.495721</td>\n",
       "      <td>0.659265</td>\n",
       "      <td>0.296567</td>\n",
       "      <td>0.633895</td>\n",
       "      <td>0.637563</td>\n",
       "      <td>0.516483</td>\n",
       "      <td>0.755545</td>\n",
       "      <td>0.000000</td>\n",
       "      <td>0.082142</td>\n",
       "      <td>0.000000</td>\n",
       "    </tr>\n",
       "    <tr>\n",
       "      <th>89431</th>\n",
       "      <td>0.275574</td>\n",
       "      <td>0.455616</td>\n",
       "      <td>0.124263</td>\n",
       "      <td>0.299236</td>\n",
       "      <td>0.623570</td>\n",
       "      <td>0.548894</td>\n",
       "      <td>0.470851</td>\n",
       "      <td>0.546822</td>\n",
       "      <td>0.485376</td>\n",
       "      <td>0.428540</td>\n",
       "      <td>...</td>\n",
       "      <td>0.730856</td>\n",
       "      <td>0.370987</td>\n",
       "      <td>0.357663</td>\n",
       "      <td>0.477240</td>\n",
       "      <td>0.142136</td>\n",
       "      <td>0.407182</td>\n",
       "      <td>0.359176</td>\n",
       "      <td>0.000000</td>\n",
       "      <td>0.000000</td>\n",
       "      <td>0.000000</td>\n",
       "    </tr>\n",
       "    <tr>\n",
       "      <th>89432</th>\n",
       "      <td>0.166667</td>\n",
       "      <td>0.443012</td>\n",
       "      <td>0.080578</td>\n",
       "      <td>0.372196</td>\n",
       "      <td>0.585301</td>\n",
       "      <td>0.536267</td>\n",
       "      <td>0.446455</td>\n",
       "      <td>0.584054</td>\n",
       "      <td>0.316850</td>\n",
       "      <td>0.373438</td>\n",
       "      <td>...</td>\n",
       "      <td>0.754259</td>\n",
       "      <td>0.386816</td>\n",
       "      <td>0.303262</td>\n",
       "      <td>0.321557</td>\n",
       "      <td>0.163040</td>\n",
       "      <td>0.339280</td>\n",
       "      <td>0.246525</td>\n",
       "      <td>0.000000</td>\n",
       "      <td>0.325843</td>\n",
       "      <td>0.603101</td>\n",
       "    </tr>\n",
       "    <tr>\n",
       "      <th>89433</th>\n",
       "      <td>0.202297</td>\n",
       "      <td>0.380220</td>\n",
       "      <td>0.093531</td>\n",
       "      <td>0.359413</td>\n",
       "      <td>0.644813</td>\n",
       "      <td>0.554926</td>\n",
       "      <td>0.489932</td>\n",
       "      <td>0.755846</td>\n",
       "      <td>0.603233</td>\n",
       "      <td>0.754369</td>\n",
       "      <td>...</td>\n",
       "      <td>0.486399</td>\n",
       "      <td>0.625855</td>\n",
       "      <td>0.569218</td>\n",
       "      <td>0.592686</td>\n",
       "      <td>0.626911</td>\n",
       "      <td>0.567007</td>\n",
       "      <td>0.641660</td>\n",
       "      <td>0.000000</td>\n",
       "      <td>0.083019</td>\n",
       "      <td>0.000000</td>\n",
       "    </tr>\n",
       "    <tr>\n",
       "      <th>89434</th>\n",
       "      <td>0.192792</td>\n",
       "      <td>0.203188</td>\n",
       "      <td>0.196270</td>\n",
       "      <td>0.441044</td>\n",
       "      <td>0.683949</td>\n",
       "      <td>0.585587</td>\n",
       "      <td>0.484628</td>\n",
       "      <td>0.725347</td>\n",
       "      <td>0.784051</td>\n",
       "      <td>0.345192</td>\n",
       "      <td>...</td>\n",
       "      <td>0.552930</td>\n",
       "      <td>0.360267</td>\n",
       "      <td>0.321604</td>\n",
       "      <td>0.586758</td>\n",
       "      <td>0.273448</td>\n",
       "      <td>0.374256</td>\n",
       "      <td>0.692330</td>\n",
       "      <td>0.000000</td>\n",
       "      <td>0.087846</td>\n",
       "      <td>0.000000</td>\n",
       "    </tr>\n",
       "  </tbody>\n",
       "</table>\n",
       "<p>89435 rows × 38 columns</p>\n",
       "</div>"
      ],
      "text/plain": [
       "       Frame ID Left  Position X Left  Position Y Left  Position Z Left  \\\n",
       "0           0.075106         0.233245         0.123342         0.523156   \n",
       "1           0.453635         0.281778         0.149922         0.412883   \n",
       "2           0.116702         0.242572         0.134606         0.292170   \n",
       "3           0.280442         0.289534         0.195242         0.326139   \n",
       "4           0.981901         0.287202         0.088652         0.332324   \n",
       "...              ...              ...              ...              ...   \n",
       "89430       0.363310         0.304141         0.135911         0.406017   \n",
       "89431       0.275574         0.455616         0.124263         0.299236   \n",
       "89432       0.166667         0.443012         0.080578         0.372196   \n",
       "89433       0.202297         0.380220         0.093531         0.359413   \n",
       "89434       0.192792         0.203188         0.196270         0.441044   \n",
       "\n",
       "       Velocity X Left  Velocity Y Left  Velocity Z Left  Pitch Left  \\\n",
       "0             0.602824         0.559690         0.467394    0.858392   \n",
       "1             0.624231         0.535391         0.472720    0.587423   \n",
       "2             0.615867         0.561629         0.473024    0.642017   \n",
       "3             0.620967         0.557362         0.483170    0.711429   \n",
       "4             0.682822         0.595763         0.468700    0.710533   \n",
       "...                ...              ...              ...         ...   \n",
       "89430         0.610896         0.564320         0.474787    0.761231   \n",
       "89431         0.623570         0.548894         0.470851    0.546822   \n",
       "89432         0.585301         0.536267         0.446455    0.584054   \n",
       "89433         0.644813         0.554926         0.489932    0.755846   \n",
       "89434         0.683949         0.585587         0.484628    0.725347   \n",
       "\n",
       "       Roll Left  Yaw Left  ...  Yaw Right  Wrist Pos X Right  \\\n",
       "0       0.503395  0.771788  ...   0.217841           0.833065   \n",
       "1       0.851471  0.598373  ...   0.475591           0.642656   \n",
       "2       0.626587  0.626094  ...   0.273829           0.882866   \n",
       "3       0.548662  0.734505  ...   0.443919           0.870881   \n",
       "4       0.538214  0.739922  ...   0.437457           0.676010   \n",
       "...          ...       ...  ...        ...                ...   \n",
       "89430   0.644488  0.764150  ...   0.495721           0.659265   \n",
       "89431   0.485376  0.428540  ...   0.730856           0.370987   \n",
       "89432   0.316850  0.373438  ...   0.754259           0.386816   \n",
       "89433   0.603233  0.754369  ...   0.486399           0.625855   \n",
       "89434   0.784051  0.345192  ...   0.552930           0.360267   \n",
       "\n",
       "       Wrist Pos Y Right  Wrist Pos Z Right  Elbow pos X Right  \\\n",
       "0               0.363423           0.636519           0.859213   \n",
       "1               0.225611           0.754401           0.617425   \n",
       "2               0.404140           0.387227           0.823856   \n",
       "3               0.320462           0.492855           0.831710   \n",
       "4               0.402758           0.681257           0.639352   \n",
       "...                  ...                ...                ...   \n",
       "89430           0.296567           0.633895           0.637563   \n",
       "89431           0.357663           0.477240           0.142136   \n",
       "89432           0.303262           0.321557           0.163040   \n",
       "89433           0.569218           0.592686           0.626911   \n",
       "89434           0.321604           0.586758           0.273448   \n",
       "\n",
       "       Elbow Pos Y Right  Elbow Pos Z Right  Grab Strenth Right  \\\n",
       "0               0.403666           0.346882            0.000000   \n",
       "1               0.265776           0.727069            0.000000   \n",
       "2               0.358951           0.305961            0.000000   \n",
       "3               0.336663           0.445974            0.625489   \n",
       "4               0.404296           0.687680            1.000000   \n",
       "...                  ...                ...                 ...   \n",
       "89430           0.516483           0.755545            0.000000   \n",
       "89431           0.407182           0.359176            0.000000   \n",
       "89432           0.339280           0.246525            0.000000   \n",
       "89433           0.567007           0.641660            0.000000   \n",
       "89434           0.374256           0.692330            0.000000   \n",
       "\n",
       "       Grab Angle Right  Pinch Strength Right  \n",
       "0              0.056885              0.000000  \n",
       "1              0.066201              0.000000  \n",
       "2              0.259749              0.000000  \n",
       "3              0.657359              0.263364  \n",
       "4              1.000000              0.486827  \n",
       "...                 ...                   ...  \n",
       "89430          0.082142              0.000000  \n",
       "89431          0.000000              0.000000  \n",
       "89432          0.325843              0.603101  \n",
       "89433          0.083019              0.000000  \n",
       "89434          0.087846              0.000000  \n",
       "\n",
       "[89435 rows x 38 columns]"
      ]
     },
     "execution_count": 24,
     "metadata": {},
     "output_type": "execute_result"
    }
   ],
   "source": [
    "from sklearn import preprocessing\n",
    "mm_scaler = preprocessing.MinMaxScaler()\n",
    "X_train_minmax = mm_scaler.fit_transform(X)\n",
    "tmp = mm_scaler.transform(X)\n",
    "tmpdf = pd.DataFrame(tmp)\n",
    "for i in range(tmpdf.shape[1]):\n",
    "    tmpdf.rename(columns={i: X.columns[i]}, inplace=True)\n",
    "X = tmpdf\n",
    "\n",
    "tmp = mm_scaler.transform(X_val)\n",
    "tmpdf = pd.DataFrame(tmp)\n",
    "for i in range(tmpdf.shape[1]):\n",
    "    tmpdf.rename(columns={i: X_val.columns[i]}, inplace=True)\n",
    "X_val = tmpdf\n",
    "X"
   ]
  },
  {
   "cell_type": "code",
   "execution_count": 25,
   "metadata": {},
   "outputs": [],
   "source": [
    "X_train, X_test, y_train, y_test = train_test_split(X, y, test_size=0.30, random_state=0)"
   ]
  },
  {
   "cell_type": "code",
   "execution_count": 26,
   "metadata": {},
   "outputs": [
    {
     "data": {
      "image/png": "[encoded data removed]",
      "text/plain": [
       "<Figure size 432x288 with 1 Axes>"
      ]
     },
     "metadata": {},
     "output_type": "display_data"
    }
   ],
   "source": [
    "pca = PCA(random_state=0)\n",
    "pca.fit(X)\n",
    "cumsum = np.cumsum(pca.explained_variance_ratio_)\n",
    "x = np.arange(1, len(cumsum)+1)\n",
    "plt.plot(x, cumsum)\n",
    "plt.grid(True)\n",
    "plt.title('Variance as Dimensions Functions')\n",
    "plt.xlabel('Dimensions')\n",
    "plt.ylabel('Variance')\n",
    "plt.show()"
   ]
  },
  {
   "cell_type": "code",
   "execution_count": 27,
   "metadata": {},
   "outputs": [
    {
     "name": "stdout",
     "output_type": "stream",
     "text": [
      "the number of vectors after pca is 13\n"
     ]
    }
   ],
   "source": [
    "pca = PCA(random_state=0, n_components=0.90)\n",
    "pca.fit(X_train)\n",
    "X_train_pca = pca.transform(X_train)\n",
    "X_test_pca = pca.transform(X_test)\n",
    "X_val_pca = pca.transform(X_val)\n",
    "d = len(pca.singular_values_)\n",
    "print('the number of vectors after pca is {}'.format(d))"
   ]
  },
  {
   "cell_type": "markdown",
   "metadata": {},
   "source": [
    "---\n",
    "# Models"
   ]
  },
  {
   "cell_type": "markdown",
   "metadata": {},
   "source": [
    "## Run The Models"
   ]
  },
  {
   "cell_type": "markdown",
   "metadata": {},
   "source": [
    "### Naive Bayes"
   ]
  },
  {
   "cell_type": "code",
   "execution_count": 28,
   "metadata": {},
   "outputs": [
    {
     "name": "stdout",
     "output_type": "stream",
     "text": [
      "Accuracy: 0.76 (+/- 0.01)\n",
      "Train time: 0.06 seconds (+/- 0.02) for a total of 0.58 seconds\n",
      "Test time: 0.01 seconds (+/- 0.00) for a total of 0.05 seconds\n",
      "confusion_matrix:\n",
      " [[18325  1572   123]\n",
      " [  520 12959  7850]\n",
      " [  114  4640 16501]]\n",
      "              precision    recall  f1-score   support\n",
      "\n",
      "           0       0.97      0.92      0.94     20020\n",
      "           1       0.68      0.61      0.64     21329\n",
      "           2       0.67      0.78      0.72     21255\n",
      "\n",
      "    accuracy                           0.76     62604\n",
      "   macro avg       0.77      0.77      0.77     62604\n",
      "weighted avg       0.77      0.76      0.76     62604\n",
      "\n",
      "f1 score 0.7637332266881462\n",
      "accuracy score 0.7632898856303112\n",
      "y=0.995926x+(0.003589)\n"
     ]
    },
    {
     "data": {
      "image/png": "[encoded data removed]",
      "text/plain": [
       "<Figure size 432x288 with 1 Axes>"
      ]
     },
     "metadata": {},
     "output_type": "display_data"
    },
    {
     "name": "stdout",
     "output_type": "stream",
     "text": [
      "[0 1 2]\n",
      "{0: 0.962797904287266, 1: 0.7670755862245224, 2: 0.796706280748834}\n",
      "{0: 0.9625204633365096, 1: 0.7638369820434091, 2: 0.7997446784651505}\n"
     ]
    }
   ],
   "source": [
    "gnb = GaussianNB()\n",
    "gnb_scores = cross_validate(gnb, X_train_pca, y_train, cv=CV_SPLIT, return_estimator=True)\n",
    "score_models(gnb, gnb_scores)\n",
    "cv_mean_model(gnb_scores['estimator'], y_train, X_train_pca)"
   ]
  },
  {
   "cell_type": "code",
   "execution_count": 29,
   "metadata": {},
   "outputs": [
    {
     "name": "stdout",
     "output_type": "stream",
     "text": [
      "confusion_matrix:\n",
      " [[7923  665   53]\n",
      " [ 224 5523 3429]\n",
      " [  47 1934 7033]]\n",
      "              precision    recall  f1-score   support\n",
      "\n",
      "           0       0.97      0.92      0.94      8641\n",
      "           1       0.68      0.60      0.64      9176\n",
      "           2       0.67      0.78      0.72      9014\n",
      "\n",
      "    accuracy                           0.76     26831\n",
      "   macro avg       0.77      0.77      0.77     26831\n",
      "weighted avg       0.77      0.76      0.76     26831\n",
      "\n",
      "f1 score 0.7634952197738288\n",
      "accuracy score 0.763258916924453\n",
      "y=0.994714x+(0.004664)\n"
     ]
    },
    {
     "data": {
      "image/png": "[encoded data removed]",
      "text/plain": [
       "<Figure size 432x288 with 1 Axes>"
      ]
     },
     "metadata": {},
     "output_type": "display_data"
    },
    {
     "name": "stdout",
     "output_type": "stream",
     "text": [
      "[0 1 2]\n",
      "{0: 0.9631396518951959, 1: 0.7669859490887406, 2: 0.7963922328649696}\n",
      "{0: 0.9628739994973108, 1: 0.7632638770697474, 2: 0.7997400551499261}\n"
     ]
    }
   ],
   "source": [
    "cv_mean_model(gnb_scores['estimator'], y_test, X_test_pca)"
   ]
  },
  {
   "cell_type": "markdown",
   "metadata": {},
   "source": [
    "### Decision Tree"
   ]
  },
  {
   "cell_type": "code",
   "execution_count": 30,
   "metadata": {},
   "outputs": [
    {
     "name": "stdout",
     "output_type": "stream",
     "text": [
      "Accuracy: 0.94 (+/- 0.01)\n",
      "Train time: 1.33 seconds (+/- 0.09) for a total of 13.30 seconds\n",
      "Test time: 0.00 seconds (+/- 0.00) for a total of 0.02 seconds\n",
      "confusion_matrix:\n",
      " [[20020     0     0]\n",
      " [  192 21120    17]\n",
      " [   76  2495 18684]]\n",
      "              precision    recall  f1-score   support\n",
      "\n",
      "           0       0.99      1.00      0.99     20020\n",
      "           1       0.89      0.99      0.94     21329\n",
      "           2       1.00      0.88      0.94     21255\n",
      "\n",
      "    accuracy                           0.96     62604\n",
      "   macro avg       0.96      0.96      0.96     62604\n",
      "weighted avg       0.96      0.96      0.96     62604\n",
      "\n",
      "f1 score 0.9553853624771982\n",
      "accuracy score 0.9555938917641045\n",
      "y=0.997344x+(0.002647)\n"
     ]
    },
    {
     "data": {
      "image/png": "[encoded data removed]",
      "text/plain": [
       "<Figure size 432x288 with 1 Axes>"
      ]
     },
     "metadata": {},
     "output_type": "display_data"
    },
    {
     "name": "stdout",
     "output_type": "stream",
     "text": [
      "[0 1 2]\n",
      "{0: 0.9957191233786978, 1: 0.9568078717014887, 2: 0.9586607884480225}\n",
      "{0: 0.9957265981088878, 1: 0.9572912409401534, 2: 0.957958805831293}\n"
     ]
    }
   ],
   "source": [
    "dtc = DecisionTreeClassifier(max_depth=15, random_state=0)\n",
    "dtc_scores = cross_validate(dtc, X_train_pca, y_train, cv=CV_SPLIT, n_jobs=CORES, return_estimator=True)\n",
    "score_models(dtc, dtc_scores)\n",
    "cv_mean_model(dtc_scores['estimator'], y_train, X_train_pca)"
   ]
  },
  {
   "cell_type": "code",
   "execution_count": 31,
   "metadata": {},
   "outputs": [
    {
     "name": "stdout",
     "output_type": "stream",
     "text": [
      "confusion_matrix:\n",
      " [[8638    2    1]\n",
      " [ 271 8874   31]\n",
      " [ 127 2175 6712]]\n",
      "              precision    recall  f1-score   support\n",
      "\n",
      "           0       0.96      1.00      0.98      8641\n",
      "           1       0.80      0.97      0.88      9176\n",
      "           2       1.00      0.74      0.85      9014\n",
      "\n",
      "    accuracy                           0.90     26831\n",
      "   macro avg       0.92      0.90      0.90     26831\n",
      "weighted avg       0.92      0.90      0.90     26831\n",
      "\n",
      "f1 score 0.9010200319435823\n",
      "accuracy score 0.9028362714770228\n",
      "y=0.985930x+(0.013778)\n"
     ]
    },
    {
     "data": {
      "image/png": "[encoded data removed]",
      "text/plain": [
       "<Figure size 432x288 with 1 Axes>"
      ]
     },
     "metadata": {},
     "output_type": "display_data"
    },
    {
     "name": "stdout",
     "output_type": "stream",
     "text": [
      "[0 1 2]\n",
      "{0: 0.9850546010212068, 1: 0.907606872647311, 2: 0.9130110692855279}\n",
      "{0: 0.9851395553373163, 1: 0.9092985409121382, 2: 0.9093503282290627}\n"
     ]
    }
   ],
   "source": [
    "cv_mean_model(dtc_scores['estimator'], y_test, X_test_pca)"
   ]
  },
  {
   "cell_type": "markdown",
   "metadata": {},
   "source": [
    "### Random Forest"
   ]
  },
  {
   "cell_type": "code",
   "execution_count": 32,
   "metadata": {},
   "outputs": [
    {
     "name": "stdout",
     "output_type": "stream",
     "text": [
      "Accuracy: 0.99 (+/- 0.00)\n",
      "Train time: 10.20 seconds (+/- 2.75) for a total of 101.99 seconds\n",
      "Test time: 0.11 seconds (+/- 0.00) for a total of 1.05 seconds\n",
      "confusion_matrix:\n",
      " [[20020     0     0]\n",
      " [   50 21278     1]\n",
      " [    7   471 20777]]\n",
      "              precision    recall  f1-score   support\n",
      "\n",
      "           0       1.00      1.00      1.00     20020\n",
      "           1       0.98      1.00      0.99     21329\n",
      "           2       1.00      0.98      0.99     21255\n",
      "\n",
      "    accuracy                           0.99     62604\n",
      "   macro avg       0.99      0.99      0.99     62604\n",
      "weighted avg       0.99      0.99      0.99     62604\n",
      "\n",
      "f1 score 0.9915479410327539\n",
      "accuracy score 0.9915500606989969\n",
      "y=1.000193x+(-0.000191)\n"
     ]
    },
    {
     "data": {
      "image/png": "[encoded data removed]",
      "text/plain": [
       "<Figure size 432x288 with 1 Axes>"
      ]
     },
     "metadata": {},
     "output_type": "display_data"
    },
    {
     "name": "stdout",
     "output_type": "stream",
     "text": [
      "[0 1 2]\n",
      "{0: 0.9990895150469619, 1: 0.9916618746405981, 2: 0.9923487317104338}\n",
      "{0: 0.9990898573160405, 1: 0.9916812020497631, 2: 0.9923272571631733}\n"
     ]
    }
   ],
   "source": [
    "rf = RandomForestClassifier(max_depth=20, random_state=0, n_jobs=CORES)\n",
    "rf_scores = cross_validate(rf, X_train_pca, y_train, cv=CV_SPLIT, n_jobs=CORES, return_estimator=True)\n",
    "score_models(rf, rf_scores)\n",
    "cv_mean_model(rf_scores['estimator'], y_train, X_train_pca)"
   ]
  },
  {
   "cell_type": "code",
   "execution_count": 33,
   "metadata": {},
   "outputs": [
    {
     "name": "stdout",
     "output_type": "stream",
     "text": [
      "confusion_matrix:\n",
      " [[8639    2    0]\n",
      " [  32 9091   53]\n",
      " [   8  380 8626]]\n",
      "              precision    recall  f1-score   support\n",
      "\n",
      "           0       1.00      1.00      1.00      8641\n",
      "           1       0.96      0.99      0.97      9176\n",
      "           2       0.99      0.96      0.98      9014\n",
      "\n",
      "    accuracy                           0.98     26831\n",
      "   macro avg       0.98      0.98      0.98     26831\n",
      "weighted avg       0.98      0.98      0.98     26831\n",
      "\n",
      "f1 score 0.9822813085217869\n",
      "accuracy score 0.982296597219634\n",
      "y=0.999854x+(0.000149)\n"
     ]
    },
    {
     "data": {
      "image/png": "[encoded data removed]",
      "text/plain": [
       "<Figure size 432x288 with 1 Axes>"
      ]
     },
     "metadata": {},
     "output_type": "display_data"
    },
    {
     "name": "stdout",
     "output_type": "stream",
     "text": [
      "[0 1 2]\n",
      "{0: 0.9984346464909992, 1: 0.982594759792777, 2: 0.9835637881554918}\n",
      "{0: 0.9984355452960364, 1: 0.9826595353373834, 2: 0.9834847261457939}\n"
     ]
    }
   ],
   "source": [
    "cv_mean_model(rf_scores['estimator'], y_test, X_test_pca)"
   ]
  },
  {
   "cell_type": "markdown",
   "metadata": {},
   "source": [
    "## Find Best Model"
   ]
  },
  {
   "cell_type": "code",
   "execution_count": 34,
   "metadata": {},
   "outputs": [
    {
     "name": "stdout",
     "output_type": "stream",
     "text": [
      "the best model is RandomForestClassifier with the score of 0.9862628432106456\n"
     ]
    },
    {
     "data": {
      "text/plain": [
       "RandomForestClassifier(bootstrap=True, ccp_alpha=0.0, class_weight=None,\n",
       "                       criterion='gini', max_depth=20, max_features='auto',\n",
       "                       max_leaf_nodes=None, max_samples=None,\n",
       "                       min_impurity_decrease=0.0, min_impurity_split=None,\n",
       "                       min_samples_leaf=1, min_samples_split=2,\n",
       "                       min_weight_fraction_leaf=0.0, n_estimators=100, n_jobs=3,\n",
       "                       oob_score=False, random_state=0, verbose=0,\n",
       "                       warm_start=False)"
      ]
     },
     "execution_count": 34,
     "metadata": {},
     "output_type": "execute_result"
    }
   ],
   "source": [
    "best_model, best_model_score = find_best_model()\n",
    "best_model"
   ]
  },
  {
   "cell_type": "markdown",
   "metadata": {},
   "source": [
    "## Improve The Model"
   ]
  },
  {
   "cell_type": "markdown",
   "metadata": {},
   "source": [
    "### Ada Boost"
   ]
  },
  {
   "cell_type": "markdown",
   "metadata": {},
   "source": [
    "#### find best estimator"
   ]
  },
  {
   "cell_type": "code",
   "execution_count": 35,
   "metadata": {},
   "outputs": [],
   "source": [
    "from sklearn.metrics import mean_squared_error\n",
    "from sklearn.ensemble import AdaBoostRegressor\n",
    "\n",
    "max_estimators = 20\n",
    "abr = AdaBoostRegressor(n_estimators=max_estimators, learning_rate=2, random_state=0)\n",
    "abr.fit(X_train_pca, y_train)\n",
    "\n",
    "errors = [mean_squared_error(y_test, y_pred) for y_pred in abr.staged_predict(X_test_pca)]\n",
    "bst_n_estimators = np.argmin(errors)\n",
    "min_error = np.min(errors)\n",
    "max_error = np.max(errors)"
   ]
  },
  {
   "cell_type": "code",
   "execution_count": 36,
   "metadata": {},
   "outputs": [
    {
     "data": {
      "image/png": "[encoded data removed]",
      "text/plain": [
       "<Figure size 792x288 with 1 Axes>"
      ]
     },
     "metadata": {},
     "output_type": "display_data"
    },
    {
     "data": {
      "text/plain": [
       "3"
      ]
     },
     "execution_count": 36,
     "metadata": {},
     "output_type": "execute_result"
    }
   ],
   "source": [
    "plt.figure(figsize=(11, 4))\n",
    "plt.subplot(121)\n",
    "plt.plot(errors, 'b.-')\n",
    "plt.plot([bst_n_estimators, bst_n_estimators], [0, min_error], 'k--')\n",
    "plt.plot([0, 120], [min_error, min_error], 'k--')\n",
    "plt.plot(bst_n_estimators, min_error, 'ko')\n",
    "plt.text(bst_n_estimators, min_error*1.2, 'Minimum', ha='center', fontsize=14)\n",
    "plt.axis([0, max_estimators, min_error-.5, max_error+.5])\n",
    "plt.xlabel(\"Number of trees\")\n",
    "plt.title('Validation error', fontsize=14)\n",
    "plt.show()\n",
    "bst_n_estimators"
   ]
  },
  {
   "cell_type": "code",
   "execution_count": 37,
   "metadata": {},
   "outputs": [
    {
     "name": "stdout",
     "output_type": "stream",
     "text": [
      "confusion_matrix:\n",
      " [[20020     0     0]\n",
      " [   31 21298     0]\n",
      " [    5   505 20745]]\n",
      "              precision    recall  f1-score   support\n",
      "\n",
      "           0       1.00      1.00      1.00     20020\n",
      "           1       0.98      1.00      0.99     21329\n",
      "           2       1.00      0.98      0.99     21255\n",
      "\n",
      "    accuracy                           0.99     62604\n",
      "   macro avg       0.99      0.99      0.99     62604\n",
      "weighted avg       0.99      0.99      0.99     62604\n",
      "\n",
      "f1 score 0.9913562221617164\n",
      "accuracy score 0.991358379656252\n",
      "y=1.000056x+(-0.000055)\n"
     ]
    },
    {
     "data": {
      "image/png": "[encoded data removed]",
      "text/plain": [
       "<Figure size 432x288 with 1 Axes>"
      ]
     },
     "metadata": {},
     "output_type": "display_data"
    },
    {
     "name": "stdout",
     "output_type": "stream",
     "text": [
      "[0 1 2]\n",
      "{0: 0.9994249568717654, 1: 0.9914382467573957, 2: 0.9918535556833429}\n",
      "{0: 0.9994250935654191, 1: 0.9914605688975257, 2: 0.9918290607965368}\n"
     ]
    }
   ],
   "source": [
    "adb = AdaBoostClassifier(best_model, n_estimators=bst_n_estimators, random_state=0)\n",
    "adb_scores = cross_validate(adb, X_train_pca, y_train, cv=CV_SPLIT, return_estimator=True, n_jobs=CORES)\n",
    "cv_mean_model(adb_scores['estimator'], y_train, X_train_pca)"
   ]
  },
  {
   "cell_type": "code",
   "execution_count": 38,
   "metadata": {},
   "outputs": [
    {
     "name": "stdout",
     "output_type": "stream",
     "text": [
      "confusion_matrix:\n",
      " [[8640    1    0]\n",
      " [  17 9089   70]\n",
      " [   8  412 8594]]\n",
      "              precision    recall  f1-score   support\n",
      "\n",
      "           0       1.00      1.00      1.00      8641\n",
      "           1       0.96      0.99      0.97      9176\n",
      "           2       0.99      0.95      0.97      9014\n",
      "\n",
      "    accuracy                           0.98     26831\n",
      "   macro avg       0.98      0.98      0.98     26831\n",
      "weighted avg       0.98      0.98      0.98     26831\n",
      "\n",
      "f1 score 0.9810491889529951\n",
      "accuracy score 0.9810666766054191\n",
      "y=0.999602x+(0.000398)\n"
     ]
    },
    {
     "data": {
      "image/png": "[encoded data removed]",
      "text/plain": [
       "<Figure size 432x288 with 1 Axes>"
      ]
     },
     "metadata": {},
     "output_type": "display_data"
    },
    {
     "name": "stdout",
     "output_type": "stream",
     "text": [
      "[0 1 2]\n",
      "{0: 0.9990309716372853, 1: 0.9813648391785621, 2: 0.9817375423949909}\n",
      "{0: 0.9990313237161218, 1: 0.9814406390295828, 2: 0.9816455719770997}\n"
     ]
    }
   ],
   "source": [
    "cv_mean_model(adb_scores['estimator'], y_test, X_test_pca)"
   ]
  },
  {
   "cell_type": "markdown",
   "metadata": {},
   "source": [
    "# Final Run On Validate"
   ]
  },
  {
   "cell_type": "code",
   "execution_count": 39,
   "metadata": {},
   "outputs": [
    {
     "name": "stdout",
     "output_type": "stream",
     "text": [
      "confusion_matrix:\n",
      " [[8258   14   11]\n",
      " [  20 6732 1383]\n",
      " [   1 1520 6587]]\n",
      "              precision    recall  f1-score   support\n",
      "\n",
      "           0       1.00      1.00      1.00      8283\n",
      "           1       0.81      0.83      0.82      8135\n",
      "           2       0.83      0.81      0.82      8108\n",
      "\n",
      "    accuracy                           0.88     24526\n",
      "   macro avg       0.88      0.88      0.88     24526\n",
      "weighted avg       0.88      0.88      0.88     24526\n",
      "\n",
      "f1 score 0.8797691801021686\n",
      "accuracy score 0.8797602544238767\n",
      "y=1.000003x+(-0.000002)\n"
     ]
    },
    {
     "data": {
      "image/png": "[encoded data removed]",
      "text/plain": [
       "<Figure size 432x288 with 1 Axes>"
      ]
     },
     "metadata": {},
     "output_type": "display_data"
    },
    {
     "name": "stdout",
     "output_type": "stream",
     "text": [
      "[0 1 2]\n",
      "{0: 0.998124439370464, 1: 0.8802495311098426, 2: 0.8811465383674468}\n",
      "{0: 0.9981243283354737, 1: 0.8804875465179611, 2: 0.8809064075921279}\n"
     ]
    }
   ],
   "source": [
    "adb.fit(X_train_pca, y_train)\n",
    "predictions = adb.predict(X_val_pca)\n",
    "evaluate(y_val, predictions, plot=True)"
   ]
  },
  {
   "cell_type": "code",
   "execution_count": 40,
   "metadata": {},
   "outputs": [],
   "source": [
    "# from sklearn.ensemble import VotingClassifier\n",
    "# vc = VotingClassifier(estimators=[('rf', rf), ('dtc', dtc), ('adb', adb), ('gnb', gnb)], voting='hard', n_jobs=1)\n",
    "# vc.fit(X_train_pca, y_train)\n",
    "# predictions = vc.predict(X_val_pca)\n",
    "# evaluate(y_val, predictions, plot=True)"
   ]
  },
  {
   "cell_type": "code",
   "execution_count": 41,
   "metadata": {},
   "outputs": [],
   "source": [
    "# best_model.fit(X, y)\n",
    "# predictions = best_model.predict(X_val_pca)\n",
    "# evaluate(y_val, predictions, plot=True)"
   ]
  },
  {
   "cell_type": "code",
   "execution_count": 42,
   "metadata": {},
   "outputs": [],
   "source": [
    "# rf = RandomForestClassifier(random_state=0)\n",
    "# rf.fit(X_train_pca,y_train)\n",
    "# predictions = rnf.predict(X_test_pca)\n",
    "# evaluate('rnf', y_test, predictions)\n",
    "# plot_scores(y_test, predictions)"
   ]
  },
  {
   "cell_type": "code",
   "execution_count": 43,
   "metadata": {},
   "outputs": [],
   "source": [
    "# predictions = rnf.predict(X_val_pca)\n",
    "# evaluate('fsdfds', y_val, predictions)"
   ]
  },
  {
   "cell_type": "code",
   "execution_count": 44,
   "metadata": {},
   "outputs": [],
   "source": [
    "# tmp = cross_val_predict(rnf, X_train_pca, y_train, cv=10, n_jobs=-1)\n",
    "# evaluate('fgfg', y_train, tmp)"
   ]
  },
  {
   "cell_type": "code",
   "execution_count": null,
   "metadata": {},
   "outputs": [],
   "source": []
  }
 ],
 "metadata": {
  "kernelspec": {
   "display_name": "Python 3",
   "language": "python",
   "name": "python3"
  },
  "language_info": {
   "codemirror_mode": {
    "name": "ipython",
    "version": 3
   },
   "file_extension": ".py",
   "mimetype": "text/x-python",
   "name": "python",
   "nbconvert_exporter": "python",
   "pygments_lexer": "ipython3",
   "version": "3.7.6"
  }
 },
 "nbformat": 4,
 "nbformat_minor": 4
}
